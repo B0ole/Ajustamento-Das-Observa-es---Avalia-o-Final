{
  "nbformat": 4,
  "nbformat_minor": 0,
  "metadata": {
    "colab": {
      "provenance": [],
      "include_colab_link": true
    },
    "kernelspec": {
      "name": "python3",
      "display_name": "Python 3"
    },
    "language_info": {
      "name": "python"
    }
  },
  "cells": [
    {
      "cell_type": "markdown",
      "metadata": {
        "id": "view-in-github",
        "colab_type": "text"
      },
      "source": [
        "<a href=\"https://colab.research.google.com/github/B0ole/Ajustamento-Das-Observa-es---Avalia-o-Final/blob/main/Jo%C3%A3o_Igor_Exerc%C3%ADcio_03___Avaliativo_2.ipynb\" target=\"_parent\"><img src=\"https://colab.research.google.com/assets/colab-badge.svg\" alt=\"Open In Colab\"/></a>"
      ]
    },
    {
      "cell_type": "markdown",
      "source": [
        "# Problema 1\n",
        "\n",
        "Dado o modelo matemático da equação normal da reta, a saber:\n",
        "\n",
        "$x \\cos(\\theta) + y sen(\\theta) - \\rho = 0 \\tag{A4} $\n",
        "\n",
        "Considere que 2 pontos de coordenadas cartesianas foram observados $ n=10 $ vezes, e para cada observação foram atribuídas variâncias de diferentes qualidades.\n",
        "\n",
        "\n",
        "\n",
        "\n",
        "\n",
        "\n",
        "### Resolução:\n",
        "Baseado na sequência de indagações apresentadas acima, tem-se que:\n",
        "- As medidas observadas são as coordenadas $ x $ e $ y $.\n",
        "- Os parâmetros a serem determinados são os coeficientes $ \\theta $ e $ \\rho $.\n",
        "- O modelo matemático $ F $ é implícito e não linear.\n",
        "\n",
        "### Simulated Data New\n",
        "\n",
        "| index |       x       |       y       |  rho_observed  |  variance  |\n",
        "|-------|---------------|---------------|----------------|------------|\n",
        "| 0     | -1.6596       | -1.6161       | -12.4419       | 1.3007     |\n",
        "| 1     | 4.4065        | 3.7044        | -5.3954        | 1.4683     |\n",
        "| 2     | -9.9977       | -5.9110       | -21.5757       | 0.8134     |\n",
        "| 3     | -3.9533       | 7.5623        | -9.0061        | 1.1923     |\n",
        "| 4     | -7.0649       | -9.4522       | -22.1357       | 1.3764     |\n",
        "| 5     | -8.1532       | 3.4094        | -14.0044       | 1.3946     |\n",
        "| 6     | -6.2748       | -1.6539       | -15.5715       | 0.5850     |\n",
        "| 7     | -3.0888       | 1.1738        | -11.7191       | 0.5391     |\n",
        "| 8     | -2.0647       | -7.1923       | -14.6469       | 0.6698     |\n",
        "| 9     | 0.7763        | -6.0380       | -13.1493       | 1.3781     |\n",
        "\n",
        "\n"
      ],
      "metadata": {
        "id": "EmrDYRm4hjF7"
      }
    },
    {
      "cell_type": "code",
      "source": [
        "import numpy as np"
      ],
      "metadata": {
        "id": "lIs2e71wnCfa"
      },
      "execution_count": null,
      "outputs": []
    },
    {
      "cell_type": "code",
      "source": [
        "import sympy as sp"
      ],
      "metadata": {
        "id": "TCXMl9hctLUQ"
      },
      "execution_count": null,
      "outputs": []
    },
    {
      "cell_type": "code",
      "source": [
        "import math as mt"
      ],
      "metadata": {
        "id": "8qdRdIIHtY4F"
      },
      "execution_count": null,
      "outputs": []
    },
    {
      "cell_type": "code",
      "source": [
        "import math"
      ],
      "metadata": {
        "id": "OnDB4yVhLGEw"
      },
      "execution_count": null,
      "outputs": []
    },
    {
      "cell_type": "markdown",
      "source": [
        "## Perguntas:\n"
      ],
      "metadata": {
        "id": "8-Gay6cOkXe9"
      }
    },
    {
      "cell_type": "markdown",
      "source": [
        "1. Quem são as observações ou medidas e quais os parâmetros a serem determinados?\n"
      ],
      "metadata": {
        "id": "Tl3rUgQQkaXs"
      }
    },
    {
      "cell_type": "markdown",
      "source": [
        "As medidas observadas são coordenadas x, y dos 10 pontos, os parâmetros são ϴ, ρ."
      ],
      "metadata": {
        "id": "S4i674vIuEcs"
      }
    },
    {
      "cell_type": "markdown",
      "source": [
        "3. $ F $ é linear ou não linear?\n",
        "\n"
      ],
      "metadata": {
        "id": "rwKPdsAPkgEw"
      }
    },
    {
      "cell_type": "markdown",
      "source": [
        "F é não linear"
      ],
      "metadata": {
        "id": "kBRADQs5vYu8"
      }
    },
    {
      "cell_type": "markdown",
      "source": [
        "4. Existe deficiência de posto na matriz das equações normais $ N $?"
      ],
      "metadata": {
        "id": "Iv9biVsWkjBV"
      }
    },
    {
      "cell_type": "markdown",
      "source": [
        "Não encontrado\n",
        "ultilizar o modelo combinado"
      ],
      "metadata": {
        "id": "-UIKZFsIvlLM"
      }
    },
    {
      "cell_type": "markdown",
      "source": [
        "2. O modelo matemático $ F $ é explícito ou implícito?\n"
      ],
      "metadata": {
        "id": "BtVkRlhAkdoM"
      }
    },
    {
      "cell_type": "markdown",
      "source": [
        "É implicito"
      ],
      "metadata": {
        "id": "XqKJjafCzbPP"
      }
    },
    {
      "cell_type": "code",
      "source": [
        "# Dados das observações\n",
        "x = np.array([-1.6596, 4.4065, -9.9977, -3.9533, -7.0649, -8.1532, -6.2748, -3.0888, -2.0647, 0.7763])\n",
        "y = np.array([-1.6161, 3.7044, -5.9110, 7.5623, -9.4522, 3.4094, -1.6539, 1.1738, -7.1923, -6.0380])\n",
        "rho_observed = np.array([-12.4419, -5.3954, -21.5757, -9.0061, -22.1357, -14.0044, -15.5715, -11.7191, -14.6469, -13.1493])\n",
        "variance= np.array([1.3007, 1.4683, 0.8134, 1.1923, 1.3764, 1.3946, 0.5850, 0.5391, 0.6698, 1.3781])"
      ],
      "metadata": {
        "id": "K0Cfka5jnvdz"
      },
      "execution_count": null,
      "outputs": []
    },
    {
      "cell_type": "code",
      "source": [
        "dicionario = np.array(list(zip(x, y)))"
      ],
      "metadata": {
        "id": "YSmoL5JjpvBC"
      },
      "execution_count": null,
      "outputs": []
    },
    {
      "cell_type": "code",
      "source": [
        "dicionario"
      ],
      "metadata": {
        "colab": {
          "base_uri": "https://localhost:8080/"
        },
        "id": "JkUkMxP-p0JI",
        "outputId": "7ced2bb9-7342-42cb-cd17-1f036f84c58d"
      },
      "execution_count": null,
      "outputs": [
        {
          "output_type": "execute_result",
          "data": {
            "text/plain": [
              "array([[-1.6596, -1.6161],\n",
              "       [ 4.4065,  3.7044],\n",
              "       [-9.9977, -5.911 ],\n",
              "       [-3.9533,  7.5623],\n",
              "       [-7.0649, -9.4522],\n",
              "       [-8.1532,  3.4094],\n",
              "       [-6.2748, -1.6539],\n",
              "       [-3.0888,  1.1738],\n",
              "       [-2.0647, -7.1923],\n",
              "       [ 0.7763, -6.038 ]])"
            ]
          },
          "metadata": {},
          "execution_count": 17
        }
      ]
    },
    {
      "cell_type": "code",
      "source": [
        "Lb = []\n",
        "for i in range(10):\n",
        "    Lb.append(x[i])\n",
        "    Lb.append(y[i])\n",
        "Lb = sp.Matrix(Lb)"
      ],
      "metadata": {
        "id": "HhbyiRsdvOh5"
      },
      "execution_count": null,
      "outputs": []
    },
    {
      "cell_type": "code",
      "source": [
        "Lb"
      ],
      "metadata": {
        "colab": {
          "base_uri": "https://localhost:8080/",
          "height": 424
        },
        "id": "N9FIPoT2vhQo",
        "outputId": "1c3ec74a-a8ea-4903-a58d-796d3a7143b6"
      },
      "execution_count": null,
      "outputs": [
        {
          "output_type": "execute_result",
          "data": {
            "text/plain": [
              "Matrix([\n",
              "[-1.6596],\n",
              "[-1.6161],\n",
              "[ 4.4065],\n",
              "[ 3.7044],\n",
              "[-9.9977],\n",
              "[ -5.911],\n",
              "[-3.9533],\n",
              "[ 7.5623],\n",
              "[-7.0649],\n",
              "[-9.4522],\n",
              "[-8.1532],\n",
              "[ 3.4094],\n",
              "[-6.2748],\n",
              "[-1.6539],\n",
              "[-3.0888],\n",
              "[ 1.1738],\n",
              "[-2.0647],\n",
              "[-7.1923],\n",
              "[ 0.7763],\n",
              "[ -6.038]])"
            ],
            "text/latex": "$\\displaystyle \\left[\\begin{matrix}-1.6596\\\\-1.6161\\\\4.4065\\\\3.7044\\\\-9.9977\\\\-5.911\\\\-3.9533\\\\7.5623\\\\-7.0649\\\\-9.4522\\\\-8.1532\\\\3.4094\\\\-6.2748\\\\-1.6539\\\\-3.0888\\\\1.1738\\\\-2.0647\\\\-7.1923\\\\0.7763\\\\-6.038\\end{matrix}\\right]$"
          },
          "metadata": {},
          "execution_count": 28
        }
      ]
    },
    {
      "cell_type": "code",
      "source": [
        "    # Montando a matriz A\n",
        "    A = np.column_stack((x, y, -np.ones_like(x)))"
      ],
      "metadata": {
        "id": "sZ1_uO0Akm8a"
      },
      "execution_count": null,
      "outputs": []
    },
    {
      "cell_type": "code",
      "source": [
        "A"
      ],
      "metadata": {
        "colab": {
          "base_uri": "https://localhost:8080/"
        },
        "id": "JllahARuLJ91",
        "outputId": "fef3d6f4-4744-4feb-9de8-c09e55eaa391"
      },
      "execution_count": null,
      "outputs": [
        {
          "output_type": "execute_result",
          "data": {
            "text/plain": [
              "array([[-1.6596, -1.6161, -1.    ],\n",
              "       [ 4.4065,  3.7044, -1.    ],\n",
              "       [-9.9977, -5.911 , -1.    ],\n",
              "       [-3.9533,  7.5623, -1.    ],\n",
              "       [-7.0649, -9.4522, -1.    ],\n",
              "       [-8.1532,  3.4094, -1.    ],\n",
              "       [-6.2748, -1.6539, -1.    ],\n",
              "       [-3.0888,  1.1738, -1.    ],\n",
              "       [-2.0647, -7.1923, -1.    ],\n",
              "       [ 0.7763, -6.038 , -1.    ]])"
            ]
          },
          "metadata": {},
          "execution_count": 30
        }
      ]
    },
    {
      "cell_type": "code",
      "source": [
        "# Criando a matriz de pesos W (diagonal)\n",
        "W =np.diag(1 / variance)"
      ],
      "metadata": {
        "id": "G3i1fqX1wupD"
      },
      "execution_count": null,
      "outputs": []
    },
    {
      "cell_type": "code",
      "source": [
        "W"
      ],
      "metadata": {
        "colab": {
          "base_uri": "https://localhost:8080/"
        },
        "id": "Vqc6dNf7L5WD",
        "outputId": "3a7220a9-12d9-42dd-942d-0f0e1113fceb"
      },
      "execution_count": null,
      "outputs": [
        {
          "output_type": "execute_result",
          "data": {
            "text/plain": [
              "array([[0.76881679, 0.        , 0.        , 0.        , 0.        ,\n",
              "        0.        , 0.        , 0.        , 0.        , 0.        ],\n",
              "       [0.        , 0.68105973, 0.        , 0.        , 0.        ,\n",
              "        0.        , 0.        , 0.        , 0.        , 0.        ],\n",
              "       [0.        , 0.        , 1.22940743, 0.        , 0.        ,\n",
              "        0.        , 0.        , 0.        , 0.        , 0.        ],\n",
              "       [0.        , 0.        , 0.        , 0.83871509, 0.        ,\n",
              "        0.        , 0.        , 0.        , 0.        , 0.        ],\n",
              "       [0.        , 0.        , 0.        , 0.        , 0.72653298,\n",
              "        0.        , 0.        , 0.        , 0.        , 0.        ],\n",
              "       [0.        , 0.        , 0.        , 0.        , 0.        ,\n",
              "        0.71705148, 0.        , 0.        , 0.        , 0.        ],\n",
              "       [0.        , 0.        , 0.        , 0.        , 0.        ,\n",
              "        0.        , 1.70940171, 0.        , 0.        , 0.        ],\n",
              "       [0.        , 0.        , 0.        , 0.        , 0.        ,\n",
              "        0.        , 0.        , 1.85494342, 0.        , 0.        ],\n",
              "       [0.        , 0.        , 0.        , 0.        , 0.        ,\n",
              "        0.        , 0.        , 0.        , 1.49298298, 0.        ],\n",
              "       [0.        , 0.        , 0.        , 0.        , 0.        ,\n",
              "        0.        , 0.        , 0.        , 0.        , 0.72563675]])"
            ]
          },
          "metadata": {},
          "execution_count": 38
        }
      ]
    },
    {
      "cell_type": "code",
      "source": [
        " # Calculando os parâmetros usando mínimos quadrados ponderados (WLS)\n",
        " ATW = A.T @ W"
      ],
      "metadata": {
        "id": "sqfsKcm4yymW"
      },
      "execution_count": null,
      "outputs": []
    },
    {
      "cell_type": "code",
      "source": [
        " parametros = np.linalg.inv(ATW @ A) @ (ATW @ rho_observed)"
      ],
      "metadata": {
        "id": "T0HcnUCy4Y42"
      },
      "execution_count": null,
      "outputs": []
    },
    {
      "cell_type": "code",
      "source": [
        "# Separando os parâmetros\n",
        "a1, a2, rho = parametros"
      ],
      "metadata": {
        "id": "3AXY2O0D4e31"
      },
      "execution_count": null,
      "outputs": []
    },
    {
      "cell_type": "code",
      "source": [
        " # Calculando o valor de theta\n",
        "theta_estimate = np.arctan2(a2, a1)  # Theta em radianos"
      ],
      "metadata": {
        "id": "jONDUYo45nNq"
      },
      "execution_count": null,
      "outputs": []
    },
    {
      "cell_type": "code",
      "source": [
        " # Convertendo theta para graus\n",
        " theta_degrees = np.degrees(theta_estimate)"
      ],
      "metadata": {
        "id": "85OkBfc87bBL"
      },
      "execution_count": null,
      "outputs": []
    },
    {
      "cell_type": "code",
      "source": [
        "# Exibindo os resultados\n",
        "print(f\"Estimativa de Theta θ (Rad): {theta_estimate}\")\n",
        "print(f\"Estimativa de Theta (graus): {theta_degrees}\")\n",
        "print(f\"Estimativa de Rho: {rho}\")"
      ],
      "metadata": {
        "colab": {
          "base_uri": "https://localhost:8080/"
        },
        "id": "tCXKGGfA8vAV",
        "outputId": "1f7a2b58-1ab0-4238-85c7-bf3acc9829ee"
      },
      "execution_count": null,
      "outputs": [
        {
          "output_type": "stream",
          "name": "stdout",
          "text": [
            "Estimativa de Theta θ (Rad): 0.6229498588452455\n",
            "Estimativa de Theta (graus): 35.69239776010294\n",
            "Estimativa de Rho: 10.040761244985099\n"
          ]
        }
      ]
    },
    {
      "cell_type": "markdown",
      "source": [
        "## Calcular os parâmetros\n",
        "$𝜃\n",
        "$ e\n",
        "$\n",
        "ρ$ usando o método dos mínimos quadrados ponderados."
      ],
      "metadata": {
        "id": "IPepJPrrkxBC"
      }
    },
    {
      "cell_type": "code",
      "source": [
        "# Graus minutos segundos\n",
        "def decimal_to_dms(degrees_decimal):\n",
        "    is_positive = degrees_decimal >= 0\n",
        "    degrees_decimal = abs(degrees_decimal)\n",
        "    degrees = int(degrees_decimal)\n",
        "    minutes_decimal = (degrees_decimal - degrees) * 60\n",
        "    minutes = int(minutes_decimal)\n",
        "    seconds = (minutes_decimal - minutes) * 60\n",
        "\n",
        "    if not is_positive:\n",
        "        degrees = -degrees\n",
        "\n",
        "    return degrees, minutes, seconds"
      ],
      "metadata": {
        "id": "RJZPMrZzx1ZW"
      },
      "execution_count": null,
      "outputs": []
    },
    {
      "cell_type": "code",
      "source": [
        "# Valores do MMQ para Theta Theta2 p\n",
        "X0 = sp.Matrix([theta_estimate,theta_estimate, rho])\n",
        "X0"
      ],
      "metadata": {
        "id": "NUGcDrY_kwqy",
        "colab": {
          "base_uri": "https://localhost:8080/",
          "height": 78
        },
        "outputId": "c8c6fafc-f597-45a0-93eb-06cb147eb16e"
      },
      "execution_count": null,
      "outputs": [
        {
          "output_type": "execute_result",
          "data": {
            "text/plain": [
              "Matrix([\n",
              "[0.622949858845245],\n",
              "[0.622949858845245],\n",
              "[ 10.0407612449851]])"
            ],
            "text/latex": "$\\displaystyle \\left[\\begin{matrix}0.622949858845245\\\\0.622949858845245\\\\10.0407612449851\\end{matrix}\\right]$"
          },
          "metadata": {},
          "execution_count": 53
        }
      ]
    },
    {
      "cell_type": "code",
      "source": [
        "# Definindo os símbolos para X0, x e y\n",
        "X0_symbols = sp.symbols('X0:10')\n",
        "x_symbols = sp.symbols('x:10')\n",
        "y_symbols = sp.symbols('y:10')"
      ],
      "metadata": {
        "id": "eMoDmfJN0TMH"
      },
      "execution_count": null,
      "outputs": []
    },
    {
      "cell_type": "code",
      "source": [
        "vetorvariavelx = sp.Matrix([x_symbols])\n",
        "vetorvariavely = sp.Matrix([y_symbols])"
      ],
      "metadata": {
        "id": "O0-E5jtC0dWt"
      },
      "execution_count": null,
      "outputs": []
    },
    {
      "cell_type": "code",
      "source": [
        "# Criando as equações usando um loop\n",
        "vetor_equacao = sp.Matrix([\n",
        "    ((vetorvariavelx[i] * sp.cos(X0[0])) + ((vetorvariavely[i] * sp.sin(X0[1]))) - X0[2])\n",
        "    for i in range(10)\n",
        "])"
      ],
      "metadata": {
        "id": "Xh9uQTBF3OFK"
      },
      "execution_count": null,
      "outputs": []
    },
    {
      "cell_type": "code",
      "source": [
        "vetor_equacao"
      ],
      "metadata": {
        "colab": {
          "base_uri": "https://localhost:8080/",
          "height": 220
        },
        "id": "9EX1XeGEAJxe",
        "outputId": "31555401-8b37-4059-ed6c-0bf09e5ddbd3"
      },
      "execution_count": null,
      "outputs": [
        {
          "output_type": "execute_result",
          "data": {
            "text/plain": [
              "Matrix([\n",
              "[0.812160946393388*x0 + 0.583433455634314*y0 - 10.0407612449851],\n",
              "[0.812160946393388*x1 + 0.583433455634314*y1 - 10.0407612449851],\n",
              "[0.812160946393388*x2 + 0.583433455634314*y2 - 10.0407612449851],\n",
              "[0.812160946393388*x3 + 0.583433455634314*y3 - 10.0407612449851],\n",
              "[0.812160946393388*x4 + 0.583433455634314*y4 - 10.0407612449851],\n",
              "[0.812160946393388*x5 + 0.583433455634314*y5 - 10.0407612449851],\n",
              "[0.812160946393388*x6 + 0.583433455634314*y6 - 10.0407612449851],\n",
              "[0.812160946393388*x7 + 0.583433455634314*y7 - 10.0407612449851],\n",
              "[0.812160946393388*x8 + 0.583433455634314*y8 - 10.0407612449851],\n",
              "[0.812160946393388*x9 + 0.583433455634314*y9 - 10.0407612449851]])"
            ],
            "text/latex": "$\\displaystyle \\left[\\begin{matrix}0.812160946393388 x_{0} + 0.583433455634314 y_{0} - 10.0407612449851\\\\0.812160946393388 x_{1} + 0.583433455634314 y_{1} - 10.0407612449851\\\\0.812160946393388 x_{2} + 0.583433455634314 y_{2} - 10.0407612449851\\\\0.812160946393388 x_{3} + 0.583433455634314 y_{3} - 10.0407612449851\\\\0.812160946393388 x_{4} + 0.583433455634314 y_{4} - 10.0407612449851\\\\0.812160946393388 x_{5} + 0.583433455634314 y_{5} - 10.0407612449851\\\\0.812160946393388 x_{6} + 0.583433455634314 y_{6} - 10.0407612449851\\\\0.812160946393388 x_{7} + 0.583433455634314 y_{7} - 10.0407612449851\\\\0.812160946393388 x_{8} + 0.583433455634314 y_{8} - 10.0407612449851\\\\0.812160946393388 x_{9} + 0.583433455634314 y_{9} - 10.0407612449851\\end{matrix}\\right]$"
          },
          "metadata": {},
          "execution_count": 69
        }
      ]
    },
    {
      "cell_type": "code",
      "source": [
        "W = sp.zeros(10, 1)\n",
        "for i in range(10):\n",
        "    W[i, 0] = ((x[i] * sp.cos(X0[0])) + ((y[i] * sp.sin(X0[1]))) - X0[2])"
      ],
      "metadata": {
        "id": "ROODExp56iyB"
      },
      "execution_count": null,
      "outputs": []
    },
    {
      "cell_type": "code",
      "source": [
        "W"
      ],
      "metadata": {
        "colab": {
          "base_uri": "https://localhost:8080/",
          "height": 220
        },
        "id": "97Zh9PwbAUYz",
        "outputId": "19110f7c-2043-4d9a-d4f5-991704ed2b17"
      },
      "execution_count": null,
      "outputs": [
        {
          "output_type": "execute_result",
          "data": {
            "text/plain": [
              "Matrix([\n",
              "[-12.3315103592702],\n",
              "[-4.30070314165088],\n",
              "[-21.6091778949967],\n",
              "[-8.83937829281871],\n",
              "[-21.2933268245064],\n",
              "[  -14.67331384948],\n",
              "[-16.1018493436879],\n",
              "[-11.8645297859814],\n",
              "[-15.9138583939622],\n",
              "[-12.9330519074199]])"
            ],
            "text/latex": "$\\displaystyle \\left[\\begin{matrix}-12.3315103592702\\\\-4.30070314165088\\\\-21.6091778949967\\\\-8.83937829281871\\\\-21.2933268245064\\\\-14.67331384948\\\\-16.1018493436879\\\\-11.8645297859814\\\\-15.9138583939622\\\\-12.9330519074199\\end{matrix}\\right]$"
          },
          "metadata": {},
          "execution_count": 74
        }
      ]
    },
    {
      "cell_type": "code",
      "source": [
        "# Criando a matriz Bx\n",
        "Bx = sp.zeros(10, 10)\n",
        "for i in range(10):\n",
        "    for j in range(10):\n",
        "        Bx[i, j] = sp.diff(vetor_equacao[i], vetorvariavelx[j])"
      ],
      "metadata": {
        "id": "W_sm6hZqBMZ2"
      },
      "execution_count": null,
      "outputs": []
    },
    {
      "cell_type": "code",
      "source": [
        "# Criando a matriz By\n",
        "By = sp.zeros(10, 10)\n",
        "for i in range(10):\n",
        "    for j in range(10):\n",
        "        By[i, j] = sp.diff(vetor_equacao[i], vetorvariavely[j])"
      ],
      "metadata": {
        "id": "pDJPWA16BQOJ"
      },
      "execution_count": null,
      "outputs": []
    },
    {
      "cell_type": "code",
      "source": [
        "# Criando a matriz B com valores intercalados de Bx e By, 10x20\n",
        "B = sp.zeros(10, 20)\n",
        "for i in range(10):\n",
        "    for j in range(10):\n",
        "        # Preencher posições pares com Bx\n",
        "        B[i, 2 * j] = Bx[i, j]\n",
        "        # Preencher posições ímpares com By\n",
        "        B[i, 2 * j + 1] = By[i, j]"
      ],
      "metadata": {
        "id": "X_KBB6ztBVfF"
      },
      "execution_count": null,
      "outputs": []
    },
    {
      "cell_type": "code",
      "source": [
        "B"
      ],
      "metadata": {
        "colab": {
          "base_uri": "https://localhost:8080/",
          "height": 240
        },
        "id": "2rrNP2c6Ba5a",
        "outputId": "e7d4c956-5392-456e-af38-9b27fbcd8251"
      },
      "execution_count": null,
      "outputs": [
        {
          "output_type": "execute_result",
          "data": {
            "text/plain": [
              "Matrix([\n",
              "[0.812160946393388, 0.583433455634314,                 0,                 0,                 0,                 0,                 0,                 0,                 0,                 0,                 0,                 0,                 0,                 0,                 0,                 0,                 0,                 0,                 0,                 0],\n",
              "[                0,                 0, 0.812160946393388, 0.583433455634314,                 0,                 0,                 0,                 0,                 0,                 0,                 0,                 0,                 0,                 0,                 0,                 0,                 0,                 0,                 0,                 0],\n",
              "[                0,                 0,                 0,                 0, 0.812160946393388, 0.583433455634314,                 0,                 0,                 0,                 0,                 0,                 0,                 0,                 0,                 0,                 0,                 0,                 0,                 0,                 0],\n",
              "[                0,                 0,                 0,                 0,                 0,                 0, 0.812160946393388, 0.583433455634314,                 0,                 0,                 0,                 0,                 0,                 0,                 0,                 0,                 0,                 0,                 0,                 0],\n",
              "[                0,                 0,                 0,                 0,                 0,                 0,                 0,                 0, 0.812160946393388, 0.583433455634314,                 0,                 0,                 0,                 0,                 0,                 0,                 0,                 0,                 0,                 0],\n",
              "[                0,                 0,                 0,                 0,                 0,                 0,                 0,                 0,                 0,                 0, 0.812160946393388, 0.583433455634314,                 0,                 0,                 0,                 0,                 0,                 0,                 0,                 0],\n",
              "[                0,                 0,                 0,                 0,                 0,                 0,                 0,                 0,                 0,                 0,                 0,                 0, 0.812160946393388, 0.583433455634314,                 0,                 0,                 0,                 0,                 0,                 0],\n",
              "[                0,                 0,                 0,                 0,                 0,                 0,                 0,                 0,                 0,                 0,                 0,                 0,                 0,                 0, 0.812160946393388, 0.583433455634314,                 0,                 0,                 0,                 0],\n",
              "[                0,                 0,                 0,                 0,                 0,                 0,                 0,                 0,                 0,                 0,                 0,                 0,                 0,                 0,                 0,                 0, 0.812160946393388, 0.583433455634314,                 0,                 0],\n",
              "[                0,                 0,                 0,                 0,                 0,                 0,                 0,                 0,                 0,                 0,                 0,                 0,                 0,                 0,                 0,                 0,                 0,                 0, 0.812160946393388, 0.583433455634314]])"
            ],
            "text/latex": "$\\displaystyle \\left[\\begin{array}{cccccccccccccccccccc}0.812160946393388 & 0.583433455634314 & 0 & 0 & 0 & 0 & 0 & 0 & 0 & 0 & 0 & 0 & 0 & 0 & 0 & 0 & 0 & 0 & 0 & 0\\\\0 & 0 & 0.812160946393388 & 0.583433455634314 & 0 & 0 & 0 & 0 & 0 & 0 & 0 & 0 & 0 & 0 & 0 & 0 & 0 & 0 & 0 & 0\\\\0 & 0 & 0 & 0 & 0.812160946393388 & 0.583433455634314 & 0 & 0 & 0 & 0 & 0 & 0 & 0 & 0 & 0 & 0 & 0 & 0 & 0 & 0\\\\0 & 0 & 0 & 0 & 0 & 0 & 0.812160946393388 & 0.583433455634314 & 0 & 0 & 0 & 0 & 0 & 0 & 0 & 0 & 0 & 0 & 0 & 0\\\\0 & 0 & 0 & 0 & 0 & 0 & 0 & 0 & 0.812160946393388 & 0.583433455634314 & 0 & 0 & 0 & 0 & 0 & 0 & 0 & 0 & 0 & 0\\\\0 & 0 & 0 & 0 & 0 & 0 & 0 & 0 & 0 & 0 & 0.812160946393388 & 0.583433455634314 & 0 & 0 & 0 & 0 & 0 & 0 & 0 & 0\\\\0 & 0 & 0 & 0 & 0 & 0 & 0 & 0 & 0 & 0 & 0 & 0 & 0.812160946393388 & 0.583433455634314 & 0 & 0 & 0 & 0 & 0 & 0\\\\0 & 0 & 0 & 0 & 0 & 0 & 0 & 0 & 0 & 0 & 0 & 0 & 0 & 0 & 0.812160946393388 & 0.583433455634314 & 0 & 0 & 0 & 0\\\\0 & 0 & 0 & 0 & 0 & 0 & 0 & 0 & 0 & 0 & 0 & 0 & 0 & 0 & 0 & 0 & 0.812160946393388 & 0.583433455634314 & 0 & 0\\\\0 & 0 & 0 & 0 & 0 & 0 & 0 & 0 & 0 & 0 & 0 & 0 & 0 & 0 & 0 & 0 & 0 & 0 & 0.812160946393388 & 0.583433455634314\\end{array}\\right]$"
          },
          "metadata": {},
          "execution_count": 79
        }
      ]
    },
    {
      "cell_type": "code",
      "source": [
        "# Matrix A com as derivadas em Theta e p\n",
        "A = sp.zeros(10, 3)\n",
        "for i in range(10):\n",
        "    A[i, 0] = x[i]\n",
        "    A[i, 1] = y[i]\n",
        "    A[i, 2] = -1 #*X0[2] #-1 08 -rho, duvida."
      ],
      "metadata": {
        "id": "j3gL77NGBat8"
      },
      "execution_count": null,
      "outputs": []
    },
    {
      "cell_type": "code",
      "source": [
        "A"
      ],
      "metadata": {
        "colab": {
          "base_uri": "https://localhost:8080/",
          "height": 220
        },
        "id": "BuAopPM-CBlW",
        "outputId": "234744a7-1ce4-473e-8480-7aa031463503"
      },
      "execution_count": null,
      "outputs": [
        {
          "output_type": "execute_result",
          "data": {
            "text/plain": [
              "Matrix([\n",
              "[-1.6596, -1.6161, -1],\n",
              "[ 4.4065,  3.7044, -1],\n",
              "[-9.9977,  -5.911, -1],\n",
              "[-3.9533,  7.5623, -1],\n",
              "[-7.0649, -9.4522, -1],\n",
              "[-8.1532,  3.4094, -1],\n",
              "[-6.2748, -1.6539, -1],\n",
              "[-3.0888,  1.1738, -1],\n",
              "[-2.0647, -7.1923, -1],\n",
              "[ 0.7763,  -6.038, -1]])"
            ],
            "text/latex": "$\\displaystyle \\left[\\begin{matrix}-1.6596 & -1.6161 & -1\\\\4.4065 & 3.7044 & -1\\\\-9.9977 & -5.911 & -1\\\\-3.9533 & 7.5623 & -1\\\\-7.0649 & -9.4522 & -1\\\\-8.1532 & 3.4094 & -1\\\\-6.2748 & -1.6539 & -1\\\\-3.0888 & 1.1738 & -1\\\\-2.0647 & -7.1923 & -1\\\\0.7763 & -6.038 & -1\\end{matrix}\\right]$"
          },
          "metadata": {},
          "execution_count": 81
        }
      ]
    },
    {
      "cell_type": "code",
      "source": [
        "variancexy= np.array([1.3007, 1.3007, 1.4683, 1.4683, 0.8134, 0.8134, 1.1923,  1.1923, 1.3764, 1.3764, 1.3946, 1.3946, 0.5850, 0.5850, 0.5391, 0.5391, 0.6698,  0.6698, 1.3781,  1.3781])"
      ],
      "metadata": {
        "id": "sAln2A4C3GgU"
      },
      "execution_count": null,
      "outputs": []
    },
    {
      "cell_type": "code",
      "source": [
        "# Matriz peso\n",
        "P1 = np.diag(variancexy)\n",
        "P = sp.Matrix(P1)\n",
        "P"
      ],
      "metadata": {
        "colab": {
          "base_uri": "https://localhost:8080/",
          "height": 444
        },
        "id": "CU_8fGTW23kE",
        "outputId": "1fe3b5c7-dff6-4bf5-8879-dea3525ad9ce"
      },
      "execution_count": null,
      "outputs": [
        {
          "output_type": "execute_result",
          "data": {
            "text/plain": [
              "Matrix([\n",
              "[1.3007,    0.0,    0.0,    0.0,    0.0,    0.0,    0.0,    0.0,    0.0,    0.0,    0.0,    0.0,   0.0,   0.0,    0.0,    0.0,    0.0,    0.0,    0.0,    0.0],\n",
              "[   0.0, 1.3007,    0.0,    0.0,    0.0,    0.0,    0.0,    0.0,    0.0,    0.0,    0.0,    0.0,   0.0,   0.0,    0.0,    0.0,    0.0,    0.0,    0.0,    0.0],\n",
              "[   0.0,    0.0, 1.4683,    0.0,    0.0,    0.0,    0.0,    0.0,    0.0,    0.0,    0.0,    0.0,   0.0,   0.0,    0.0,    0.0,    0.0,    0.0,    0.0,    0.0],\n",
              "[   0.0,    0.0,    0.0, 1.4683,    0.0,    0.0,    0.0,    0.0,    0.0,    0.0,    0.0,    0.0,   0.0,   0.0,    0.0,    0.0,    0.0,    0.0,    0.0,    0.0],\n",
              "[   0.0,    0.0,    0.0,    0.0, 0.8134,    0.0,    0.0,    0.0,    0.0,    0.0,    0.0,    0.0,   0.0,   0.0,    0.0,    0.0,    0.0,    0.0,    0.0,    0.0],\n",
              "[   0.0,    0.0,    0.0,    0.0,    0.0, 0.8134,    0.0,    0.0,    0.0,    0.0,    0.0,    0.0,   0.0,   0.0,    0.0,    0.0,    0.0,    0.0,    0.0,    0.0],\n",
              "[   0.0,    0.0,    0.0,    0.0,    0.0,    0.0, 1.1923,    0.0,    0.0,    0.0,    0.0,    0.0,   0.0,   0.0,    0.0,    0.0,    0.0,    0.0,    0.0,    0.0],\n",
              "[   0.0,    0.0,    0.0,    0.0,    0.0,    0.0,    0.0, 1.1923,    0.0,    0.0,    0.0,    0.0,   0.0,   0.0,    0.0,    0.0,    0.0,    0.0,    0.0,    0.0],\n",
              "[   0.0,    0.0,    0.0,    0.0,    0.0,    0.0,    0.0,    0.0, 1.3764,    0.0,    0.0,    0.0,   0.0,   0.0,    0.0,    0.0,    0.0,    0.0,    0.0,    0.0],\n",
              "[   0.0,    0.0,    0.0,    0.0,    0.0,    0.0,    0.0,    0.0,    0.0, 1.3764,    0.0,    0.0,   0.0,   0.0,    0.0,    0.0,    0.0,    0.0,    0.0,    0.0],\n",
              "[   0.0,    0.0,    0.0,    0.0,    0.0,    0.0,    0.0,    0.0,    0.0,    0.0, 1.3946,    0.0,   0.0,   0.0,    0.0,    0.0,    0.0,    0.0,    0.0,    0.0],\n",
              "[   0.0,    0.0,    0.0,    0.0,    0.0,    0.0,    0.0,    0.0,    0.0,    0.0,    0.0, 1.3946,   0.0,   0.0,    0.0,    0.0,    0.0,    0.0,    0.0,    0.0],\n",
              "[   0.0,    0.0,    0.0,    0.0,    0.0,    0.0,    0.0,    0.0,    0.0,    0.0,    0.0,    0.0, 0.585,   0.0,    0.0,    0.0,    0.0,    0.0,    0.0,    0.0],\n",
              "[   0.0,    0.0,    0.0,    0.0,    0.0,    0.0,    0.0,    0.0,    0.0,    0.0,    0.0,    0.0,   0.0, 0.585,    0.0,    0.0,    0.0,    0.0,    0.0,    0.0],\n",
              "[   0.0,    0.0,    0.0,    0.0,    0.0,    0.0,    0.0,    0.0,    0.0,    0.0,    0.0,    0.0,   0.0,   0.0, 0.5391,    0.0,    0.0,    0.0,    0.0,    0.0],\n",
              "[   0.0,    0.0,    0.0,    0.0,    0.0,    0.0,    0.0,    0.0,    0.0,    0.0,    0.0,    0.0,   0.0,   0.0,    0.0, 0.5391,    0.0,    0.0,    0.0,    0.0],\n",
              "[   0.0,    0.0,    0.0,    0.0,    0.0,    0.0,    0.0,    0.0,    0.0,    0.0,    0.0,    0.0,   0.0,   0.0,    0.0,    0.0, 0.6698,    0.0,    0.0,    0.0],\n",
              "[   0.0,    0.0,    0.0,    0.0,    0.0,    0.0,    0.0,    0.0,    0.0,    0.0,    0.0,    0.0,   0.0,   0.0,    0.0,    0.0,    0.0, 0.6698,    0.0,    0.0],\n",
              "[   0.0,    0.0,    0.0,    0.0,    0.0,    0.0,    0.0,    0.0,    0.0,    0.0,    0.0,    0.0,   0.0,   0.0,    0.0,    0.0,    0.0,    0.0, 1.3781,    0.0],\n",
              "[   0.0,    0.0,    0.0,    0.0,    0.0,    0.0,    0.0,    0.0,    0.0,    0.0,    0.0,    0.0,   0.0,   0.0,    0.0,    0.0,    0.0,    0.0,    0.0, 1.3781]])"
            ],
            "text/latex": "$\\displaystyle \\left[\\begin{array}{cccccccccccccccccccc}1.3007 & 0.0 & 0.0 & 0.0 & 0.0 & 0.0 & 0.0 & 0.0 & 0.0 & 0.0 & 0.0 & 0.0 & 0.0 & 0.0 & 0.0 & 0.0 & 0.0 & 0.0 & 0.0 & 0.0\\\\0.0 & 1.3007 & 0.0 & 0.0 & 0.0 & 0.0 & 0.0 & 0.0 & 0.0 & 0.0 & 0.0 & 0.0 & 0.0 & 0.0 & 0.0 & 0.0 & 0.0 & 0.0 & 0.0 & 0.0\\\\0.0 & 0.0 & 1.4683 & 0.0 & 0.0 & 0.0 & 0.0 & 0.0 & 0.0 & 0.0 & 0.0 & 0.0 & 0.0 & 0.0 & 0.0 & 0.0 & 0.0 & 0.0 & 0.0 & 0.0\\\\0.0 & 0.0 & 0.0 & 1.4683 & 0.0 & 0.0 & 0.0 & 0.0 & 0.0 & 0.0 & 0.0 & 0.0 & 0.0 & 0.0 & 0.0 & 0.0 & 0.0 & 0.0 & 0.0 & 0.0\\\\0.0 & 0.0 & 0.0 & 0.0 & 0.8134 & 0.0 & 0.0 & 0.0 & 0.0 & 0.0 & 0.0 & 0.0 & 0.0 & 0.0 & 0.0 & 0.0 & 0.0 & 0.0 & 0.0 & 0.0\\\\0.0 & 0.0 & 0.0 & 0.0 & 0.0 & 0.8134 & 0.0 & 0.0 & 0.0 & 0.0 & 0.0 & 0.0 & 0.0 & 0.0 & 0.0 & 0.0 & 0.0 & 0.0 & 0.0 & 0.0\\\\0.0 & 0.0 & 0.0 & 0.0 & 0.0 & 0.0 & 1.1923 & 0.0 & 0.0 & 0.0 & 0.0 & 0.0 & 0.0 & 0.0 & 0.0 & 0.0 & 0.0 & 0.0 & 0.0 & 0.0\\\\0.0 & 0.0 & 0.0 & 0.0 & 0.0 & 0.0 & 0.0 & 1.1923 & 0.0 & 0.0 & 0.0 & 0.0 & 0.0 & 0.0 & 0.0 & 0.0 & 0.0 & 0.0 & 0.0 & 0.0\\\\0.0 & 0.0 & 0.0 & 0.0 & 0.0 & 0.0 & 0.0 & 0.0 & 1.3764 & 0.0 & 0.0 & 0.0 & 0.0 & 0.0 & 0.0 & 0.0 & 0.0 & 0.0 & 0.0 & 0.0\\\\0.0 & 0.0 & 0.0 & 0.0 & 0.0 & 0.0 & 0.0 & 0.0 & 0.0 & 1.3764 & 0.0 & 0.0 & 0.0 & 0.0 & 0.0 & 0.0 & 0.0 & 0.0 & 0.0 & 0.0\\\\0.0 & 0.0 & 0.0 & 0.0 & 0.0 & 0.0 & 0.0 & 0.0 & 0.0 & 0.0 & 1.3946 & 0.0 & 0.0 & 0.0 & 0.0 & 0.0 & 0.0 & 0.0 & 0.0 & 0.0\\\\0.0 & 0.0 & 0.0 & 0.0 & 0.0 & 0.0 & 0.0 & 0.0 & 0.0 & 0.0 & 0.0 & 1.3946 & 0.0 & 0.0 & 0.0 & 0.0 & 0.0 & 0.0 & 0.0 & 0.0\\\\0.0 & 0.0 & 0.0 & 0.0 & 0.0 & 0.0 & 0.0 & 0.0 & 0.0 & 0.0 & 0.0 & 0.0 & 0.585 & 0.0 & 0.0 & 0.0 & 0.0 & 0.0 & 0.0 & 0.0\\\\0.0 & 0.0 & 0.0 & 0.0 & 0.0 & 0.0 & 0.0 & 0.0 & 0.0 & 0.0 & 0.0 & 0.0 & 0.0 & 0.585 & 0.0 & 0.0 & 0.0 & 0.0 & 0.0 & 0.0\\\\0.0 & 0.0 & 0.0 & 0.0 & 0.0 & 0.0 & 0.0 & 0.0 & 0.0 & 0.0 & 0.0 & 0.0 & 0.0 & 0.0 & 0.5391 & 0.0 & 0.0 & 0.0 & 0.0 & 0.0\\\\0.0 & 0.0 & 0.0 & 0.0 & 0.0 & 0.0 & 0.0 & 0.0 & 0.0 & 0.0 & 0.0 & 0.0 & 0.0 & 0.0 & 0.0 & 0.5391 & 0.0 & 0.0 & 0.0 & 0.0\\\\0.0 & 0.0 & 0.0 & 0.0 & 0.0 & 0.0 & 0.0 & 0.0 & 0.0 & 0.0 & 0.0 & 0.0 & 0.0 & 0.0 & 0.0 & 0.0 & 0.6698 & 0.0 & 0.0 & 0.0\\\\0.0 & 0.0 & 0.0 & 0.0 & 0.0 & 0.0 & 0.0 & 0.0 & 0.0 & 0.0 & 0.0 & 0.0 & 0.0 & 0.0 & 0.0 & 0.0 & 0.0 & 0.6698 & 0.0 & 0.0\\\\0.0 & 0.0 & 0.0 & 0.0 & 0.0 & 0.0 & 0.0 & 0.0 & 0.0 & 0.0 & 0.0 & 0.0 & 0.0 & 0.0 & 0.0 & 0.0 & 0.0 & 0.0 & 1.3781 & 0.0\\\\0.0 & 0.0 & 0.0 & 0.0 & 0.0 & 0.0 & 0.0 & 0.0 & 0.0 & 0.0 & 0.0 & 0.0 & 0.0 & 0.0 & 0.0 & 0.0 & 0.0 & 0.0 & 0.0 & 1.3781\\end{array}\\right]$"
          },
          "metadata": {},
          "execution_count": 83
        }
      ]
    },
    {
      "cell_type": "code",
      "source": [
        "M = B @ P @ B.T"
      ],
      "metadata": {
        "id": "euThCFCbC2Rd"
      },
      "execution_count": null,
      "outputs": []
    },
    {
      "cell_type": "code",
      "source": [
        "M"
      ],
      "metadata": {
        "colab": {
          "base_uri": "https://localhost:8080/",
          "height": 220
        },
        "id": "iqes5LZFC8ZT",
        "outputId": "caa8f30c-2344-4a15-8d61-e74dd0007664"
      },
      "execution_count": null,
      "outputs": [
        {
          "output_type": "execute_result",
          "data": {
            "text/plain": [
              "Matrix([\n",
              "[1.3007,      0,      0,      0,      0,      0,     0,      0,      0,      0],\n",
              "[     0, 1.4683,      0,      0,      0,      0,     0,      0,      0,      0],\n",
              "[     0,      0, 0.8134,      0,      0,      0,     0,      0,      0,      0],\n",
              "[     0,      0,      0, 1.1923,      0,      0,     0,      0,      0,      0],\n",
              "[     0,      0,      0,      0, 1.3764,      0,     0,      0,      0,      0],\n",
              "[     0,      0,      0,      0,      0, 1.3946,     0,      0,      0,      0],\n",
              "[     0,      0,      0,      0,      0,      0, 0.585,      0,      0,      0],\n",
              "[     0,      0,      0,      0,      0,      0,     0, 0.5391,      0,      0],\n",
              "[     0,      0,      0,      0,      0,      0,     0,      0, 0.6698,      0],\n",
              "[     0,      0,      0,      0,      0,      0,     0,      0,      0, 1.3781]])"
            ],
            "text/latex": "$\\displaystyle \\left[\\begin{matrix}1.3007 & 0 & 0 & 0 & 0 & 0 & 0 & 0 & 0 & 0\\\\0 & 1.4683 & 0 & 0 & 0 & 0 & 0 & 0 & 0 & 0\\\\0 & 0 & 0.8134 & 0 & 0 & 0 & 0 & 0 & 0 & 0\\\\0 & 0 & 0 & 1.1923 & 0 & 0 & 0 & 0 & 0 & 0\\\\0 & 0 & 0 & 0 & 1.3764 & 0 & 0 & 0 & 0 & 0\\\\0 & 0 & 0 & 0 & 0 & 1.3946 & 0 & 0 & 0 & 0\\\\0 & 0 & 0 & 0 & 0 & 0 & 0.585 & 0 & 0 & 0\\\\0 & 0 & 0 & 0 & 0 & 0 & 0 & 0.5391 & 0 & 0\\\\0 & 0 & 0 & 0 & 0 & 0 & 0 & 0 & 0.6698 & 0\\\\0 & 0 & 0 & 0 & 0 & 0 & 0 & 0 & 0 & 1.3781\\end{matrix}\\right]$"
          },
          "metadata": {},
          "execution_count": 85
        }
      ]
    },
    {
      "cell_type": "code",
      "source": [
        "X = - (A.T @ M.inv() @ A).inv() @ A.T @ M.inv() @ W"
      ],
      "metadata": {
        "id": "28_aY78JDJpM"
      },
      "execution_count": null,
      "outputs": []
    },
    {
      "cell_type": "code",
      "source": [
        "X"
      ],
      "metadata": {
        "colab": {
          "base_uri": "https://localhost:8080/",
          "height": 78
        },
        "id": "120vCVIRDLTS",
        "outputId": "df0aa5e4-e8e7-4e5a-e64a-fc1a78965837"
      },
      "execution_count": null,
      "outputs": [
        {
          "output_type": "execute_result",
          "data": {
            "text/plain": [
              "Matrix([\n",
              "[-0.812160946393387],\n",
              "[-0.583433455634314],\n",
              "[ -10.0407612449851]])"
            ],
            "text/latex": "$\\displaystyle \\left[\\begin{matrix}-0.812160946393387\\\\-0.583433455634314\\\\-10.0407612449851\\end{matrix}\\right]$"
          },
          "metadata": {},
          "execution_count": 87
        }
      ]
    },
    {
      "cell_type": "markdown",
      "source": [
        "Parâmetros ajustados:\n",
        "Xa=X0+X"
      ],
      "metadata": {
        "id": "2YOLoZBkDYyh"
      }
    },
    {
      "cell_type": "code",
      "source": [
        "Xa = X0 + X"
      ],
      "metadata": {
        "id": "AlDebgyBDchI"
      },
      "execution_count": null,
      "outputs": []
    },
    {
      "cell_type": "code",
      "source": [
        "Xa"
      ],
      "metadata": {
        "colab": {
          "base_uri": "https://localhost:8080/",
          "height": 78
        },
        "id": "jVhKQj2mDiCw",
        "outputId": "5c73e6e2-d64a-4969-fa7b-312b9d633d9d"
      },
      "execution_count": null,
      "outputs": [
        {
          "output_type": "execute_result",
          "data": {
            "text/plain": [
              "Matrix([\n",
              "[-0.189211087548142],\n",
              "[0.0395164032109317],\n",
              "[                 0]])"
            ],
            "text/latex": "$\\displaystyle \\left[\\begin{matrix}-0.189211087548142\\\\0.0395164032109317\\\\0\\end{matrix}\\right]$"
          },
          "metadata": {},
          "execution_count": 89
        }
      ]
    },
    {
      "cell_type": "markdown",
      "source": [
        "### Resíduos"
      ],
      "metadata": {
        "id": "ynkfMi2plnyi"
      }
    },
    {
      "cell_type": "markdown",
      "source": [
        "Vetor lagrangiano:\n",
        "k=−M−1(AX+W)"
      ],
      "metadata": {
        "id": "zJcLyNZLDrBD"
      }
    },
    {
      "cell_type": "code",
      "source": [
        "K = -M.inv() @ ((A @ X)+ W)"
      ],
      "metadata": {
        "id": "9cvkrPt2DpfS"
      },
      "execution_count": null,
      "outputs": []
    },
    {
      "cell_type": "code",
      "source": [
        "K"
      ],
      "metadata": {
        "colab": {
          "base_uri": "https://localhost:8080/",
          "height": 220
        },
        "id": "Yok0jsj2DyN0",
        "outputId": "113b5a9f-4649-4a2f-9bd0-d884848a3920"
      },
      "execution_count": null,
      "outputs": [
        {
          "output_type": "execute_result",
          "data": {
            "text/plain": [
              "Matrix([\n",
              "[                   0],\n",
              "[-1.2098051075395e-15],\n",
              "[                   0],\n",
              "[2.97971456747505e-15],\n",
              "[                   0],\n",
              "[3.82121792499695e-15],\n",
              "[6.07301483555641e-15],\n",
              "[ 3.2950414383236e-15],\n",
              "[                   0],\n",
              "[                   0]])"
            ],
            "text/latex": "$\\displaystyle \\left[\\begin{matrix}0\\\\-1.2098051075395 \\cdot 10^{-15}\\\\0\\\\2.97971456747505 \\cdot 10^{-15}\\\\0\\\\3.82121792499695 \\cdot 10^{-15}\\\\6.07301483555641 \\cdot 10^{-15}\\\\3.2950414383236 \\cdot 10^{-15}\\\\0\\\\0\\end{matrix}\\right]$"
          },
          "metadata": {},
          "execution_count": 91
        }
      ]
    },
    {
      "cell_type": "markdown",
      "source": [
        "V=P−1BTK"
      ],
      "metadata": {
        "id": "5c5bEtbKD9DV"
      }
    },
    {
      "cell_type": "code",
      "source": [
        "V = P.inv() @ B.T @ K"
      ],
      "metadata": {
        "id": "QsrxeurVEAG1"
      },
      "execution_count": null,
      "outputs": []
    },
    {
      "cell_type": "code",
      "source": [
        "V"
      ],
      "metadata": {
        "colab": {
          "base_uri": "https://localhost:8080/",
          "height": 424
        },
        "id": "Cg5FZWN4EDRy",
        "outputId": "abce82a4-c050-4692-f6a4-2d43f31434e5"
      },
      "execution_count": null,
      "outputs": [
        {
          "output_type": "execute_result",
          "data": {
            "text/plain": [
              "Matrix([\n",
              "[                    0],\n",
              "[                    0],\n",
              "[-6.69179637057029e-16],\n",
              "[ -4.8071972657891e-16],\n",
              "[                    0],\n",
              "[                    0],\n",
              "[ 2.02969705871232e-15],\n",
              "[ 1.45807696628858e-15],\n",
              "[                    0],\n",
              "[                    0],\n",
              "[ 2.22532910249599e-15],\n",
              "[ 1.59861349398591e-15],\n",
              "[ 8.43122303642151e-15],\n",
              "[ 6.05675219081561e-15],\n",
              "[ 4.96402146717552e-15],\n",
              "[ 3.56601263739454e-15],\n",
              "[                    0],\n",
              "[                    0],\n",
              "[                    0],\n",
              "[                    0]])"
            ],
            "text/latex": "$\\displaystyle \\left[\\begin{matrix}0\\\\0\\\\-6.69179637057029 \\cdot 10^{-16}\\\\-4.8071972657891 \\cdot 10^{-16}\\\\0\\\\0\\\\2.02969705871232 \\cdot 10^{-15}\\\\1.45807696628858 \\cdot 10^{-15}\\\\0\\\\0\\\\2.22532910249599 \\cdot 10^{-15}\\\\1.59861349398591 \\cdot 10^{-15}\\\\8.43122303642151 \\cdot 10^{-15}\\\\6.05675219081561 \\cdot 10^{-15}\\\\4.96402146717552 \\cdot 10^{-15}\\\\3.56601263739454 \\cdot 10^{-15}\\\\0\\\\0\\\\0\\\\0\\end{matrix}\\right]$"
          },
          "metadata": {},
          "execution_count": 93
        }
      ]
    },
    {
      "cell_type": "markdown",
      "source": [
        "Valores observados ajustados:\n",
        "La=Lb+V"
      ],
      "metadata": {
        "id": "RnoWKNQ3EWDq"
      }
    },
    {
      "cell_type": "code",
      "source": [
        "La = Lb + V\n",
        "(La - V) - Lb"
      ],
      "metadata": {
        "colab": {
          "base_uri": "https://localhost:8080/",
          "height": 424
        },
        "id": "WEcc7xuZEQmv",
        "outputId": "f616a5ee-bdaf-4043-af3b-1f7698213648"
      },
      "execution_count": null,
      "outputs": [
        {
          "output_type": "execute_result",
          "data": {
            "text/plain": [
              "Matrix([\n",
              "[0],\n",
              "[0],\n",
              "[0],\n",
              "[0],\n",
              "[0],\n",
              "[0],\n",
              "[0],\n",
              "[0],\n",
              "[0],\n",
              "[0],\n",
              "[0],\n",
              "[0],\n",
              "[0],\n",
              "[0],\n",
              "[0],\n",
              "[0],\n",
              "[0],\n",
              "[0],\n",
              "[0],\n",
              "[0]])"
            ],
            "text/latex": "$\\displaystyle \\left[\\begin{matrix}0\\\\0\\\\0\\\\0\\\\0\\\\0\\\\0\\\\0\\\\0\\\\0\\\\0\\\\0\\\\0\\\\0\\\\0\\\\0\\\\0\\\\0\\\\0\\\\0\\end{matrix}\\right]$"
          },
          "metadata": {},
          "execution_count": 94
        }
      ]
    },
    {
      "cell_type": "code",
      "source": [
        "La"
      ],
      "metadata": {
        "colab": {
          "base_uri": "https://localhost:8080/",
          "height": 424
        },
        "id": "riqh9m1aEpbW",
        "outputId": "f1d2eb8e-84eb-447e-a7eb-ed2259177473"
      },
      "execution_count": null,
      "outputs": [
        {
          "output_type": "execute_result",
          "data": {
            "text/plain": [
              "Matrix([\n",
              "[          -1.6596],\n",
              "[          -1.6161],\n",
              "[           4.4065],\n",
              "[           3.7044],\n",
              "[          -9.9977],\n",
              "[           -5.911],\n",
              "[          -3.9533],\n",
              "[           7.5623],\n",
              "[          -7.0649],\n",
              "[          -9.4522],\n",
              "[          -8.1532],\n",
              "[           3.4094],\n",
              "[-6.27479999999999],\n",
              "[-1.65389999999999],\n",
              "[          -3.0888],\n",
              "[           1.1738],\n",
              "[          -2.0647],\n",
              "[          -7.1923],\n",
              "[           0.7763],\n",
              "[           -6.038]])"
            ],
            "text/latex": "$\\displaystyle \\left[\\begin{matrix}-1.6596\\\\-1.6161\\\\4.4065\\\\3.7044\\\\-9.9977\\\\-5.911\\\\-3.9533\\\\7.5623\\\\-7.0649\\\\-9.4522\\\\-8.1532\\\\3.4094\\\\-6.27479999999999\\\\-1.65389999999999\\\\-3.0888\\\\1.1738\\\\-2.0647\\\\-7.1923\\\\0.7763\\\\-6.038\\end{matrix}\\right]$"
          },
          "metadata": {},
          "execution_count": 95
        }
      ]
    },
    {
      "cell_type": "markdown",
      "source": [
        "## Parametros Estimados"
      ],
      "metadata": {
        "id": "4e1nNn0imhXi"
      }
    },
    {
      "cell_type": "markdown",
      "source": [
        "### Parâmetros Estimados\n",
        "\n",
        "- **$\\theta_{est}$ (rad)**:\n",
        "\n"
      ],
      "metadata": {
        "id": "HBTJi8Yem6Fd"
      }
    },
    {
      "cell_type": "code",
      "source": [
        "# Resultados\n",
        "print(f\"Estimativa de Theta: {theta_estimate} rad\")"
      ],
      "metadata": {
        "id": "hz8rWGQomg6K",
        "colab": {
          "base_uri": "https://localhost:8080/"
        },
        "outputId": "184ff1de-252a-4766-a801-6947fd184878"
      },
      "execution_count": null,
      "outputs": [
        {
          "output_type": "stream",
          "name": "stdout",
          "text": [
            "Estimativa de Theta: 0.6229498588452455 rad\n"
          ]
        }
      ]
    },
    {
      "cell_type": "markdown",
      "source": [
        "- **$\\theta_{est}$ (graus)**:\n"
      ],
      "metadata": {
        "id": "J5YjfqI3nIQK"
      }
    },
    {
      "cell_type": "code",
      "source": [
        "print(f\"Estimativa de Theta: {theta_degrees} graus\")\n",
        "print(f\"Estimativa de Theta: {graus1[0]}° {graus1[1]}' {graus1[2]:.2f}\\\"\")"
      ],
      "metadata": {
        "id": "vcDq4WSgnHlT",
        "colab": {
          "base_uri": "https://localhost:8080/"
        },
        "outputId": "a95c2adc-77cd-4415-e60c-6676b9b7a1e3"
      },
      "execution_count": null,
      "outputs": [
        {
          "output_type": "stream",
          "name": "stdout",
          "text": [
            "Estimativa de Theta: 35.69239776010294 graus\n",
            "Estimativa de Theta: 35° 41' 32.63\"\n"
          ]
        }
      ]
    },
    {
      "cell_type": "markdown",
      "source": [
        "- **$\\rho_{est}$**:\n"
      ],
      "metadata": {
        "id": "u5V-Y8xQnQ4p"
      }
    },
    {
      "cell_type": "code",
      "source": [
        "print(f\"Estimativa de p: {rho}\")"
      ],
      "metadata": {
        "id": "I75fWG4Lncq5",
        "colab": {
          "base_uri": "https://localhost:8080/"
        },
        "outputId": "085c10c3-3892-43f0-8cde-c3ccc1dbc176"
      },
      "execution_count": null,
      "outputs": [
        {
          "output_type": "stream",
          "name": "stdout",
          "text": [
            "Estimativa de p: 10.040761244985099\n"
          ]
        }
      ]
    },
    {
      "cell_type": "markdown",
      "source": [
        "- **MSE (Erro Quadrático Médio)**:"
      ],
      "metadata": {
        "id": "onxlOrMKndXE"
      }
    },
    {
      "cell_type": "code",
      "source": [
        "a = ((rho_observed[1] - rho)**2) + ((rho_observed[2] - rho)**2) + ((rho_observed[3] - rho)**2) + ((rho_observed[4] - rho)**2) + ((rho_observed[5] - rho)**2)\n",
        "b = ((rho_observed[6] - rho)**2) + ((rho_observed[7] - rho)**2) + ((rho_observed[8] - rho)**2) + ((rho_observed[9] - rho)**2) + ((rho_observed[0] - rho)**2)\n",
        "MSE = (a+b)/10"
      ],
      "metadata": {
        "id": "nAwXrbFNIehn"
      },
      "execution_count": null,
      "outputs": []
    },
    {
      "cell_type": "code",
      "source": [
        "MSE"
      ],
      "metadata": {
        "colab": {
          "base_uri": "https://localhost:8080/"
        },
        "id": "BMMe2PiVJCaY",
        "outputId": "939307a6-d2c1-4cb5-9fc6-dfb7c58ef49f"
      },
      "execution_count": null,
      "outputs": [
        {
          "output_type": "execute_result",
          "data": {
            "text/plain": [
              "599.6362158902325"
            ]
          },
          "metadata": {},
          "execution_count": 115
        }
      ]
    },
    {
      "cell_type": "code",
      "source": [
        "MSE = np.mean((rho_observed - rho)**2)\n",
        "print(f\"MSE: {MSE}\")"
      ],
      "metadata": {
        "colab": {
          "base_uri": "https://localhost:8080/"
        },
        "id": "ftBvKYitJJA_",
        "outputId": "0189bbb9-3b58-41d2-d9e3-3d75f6d190a2"
      },
      "execution_count": null,
      "outputs": [
        {
          "output_type": "stream",
          "name": "stdout",
          "text": [
            "MSE: 599.6362158902326\n"
          ]
        }
      ]
    },
    {
      "cell_type": "code",
      "source": [
        "#Raiz quadrada do MSE\n",
        "RMSE = np.sqrt(MSE)\n",
        "print(f\"RMSE: {RMSE}\")"
      ],
      "metadata": {
        "colab": {
          "base_uri": "https://localhost:8080/"
        },
        "id": "aYn754mmJkWa",
        "outputId": "ac35ecde-26b7-4c03-c04b-f61a315dae94"
      },
      "execution_count": null,
      "outputs": [
        {
          "output_type": "stream",
          "name": "stdout",
          "text": [
            "RMSE: 24.48747058987989\n"
          ]
        }
      ]
    },
    {
      "cell_type": "markdown",
      "source": [
        "## Resíduos Padronizados:"
      ],
      "metadata": {
        "id": "yexFEtHknwgA"
      }
    },
    {
      "cell_type": "markdown",
      "source": [
        "Qui-quadrado:\n",
        "X2a=𝞼20𝞼2r\n",
        "\n",
        "𝞼20=VTPVr−u  variância da observação de peso unitário a priori\n",
        "\n",
        "𝞼2  variancia (\n",
        "\n",
        "r−u=20−3=17  variancia\n",
        "\n",
        "r = n° de equações de condição\n",
        "\n",
        "u = n° de parametros"
      ],
      "metadata": {
        "id": "gbrhguWoGq7f"
      }
    },
    {
      "cell_type": "code",
      "source": [
        "qui_quadrado_cima = (V.T @ P @ V)/(17) * len(vetor_equacao)\n"
      ],
      "metadata": {
        "id": "2XSXy9aKGy9c"
      },
      "execution_count": null,
      "outputs": []
    },
    {
      "cell_type": "code",
      "source": [
        "qui_quadrado_cima"
      ],
      "metadata": {
        "colab": {
          "base_uri": "https://localhost:8080/",
          "height": 39
        },
        "id": "93dzkNUYHm4s",
        "outputId": "172bffa0-3b39-49d0-90f0-e4d29b8f9f99"
      },
      "execution_count": null,
      "outputs": [
        {
          "output_type": "execute_result",
          "data": {
            "text/plain": [
              "Matrix([[6.00580475907978e-29]])"
            ],
            "text/latex": "$\\displaystyle \\left[\\begin{matrix}6.00580475907978 \\cdot 10^{-29}\\end{matrix}\\right]$"
          },
          "metadata": {},
          "execution_count": 108
        }
      ]
    },
    {
      "cell_type": "code",
      "source": [
        "teste = np.mean(variancexy)"
      ],
      "metadata": {
        "id": "UWonl1oQHHBT"
      },
      "execution_count": null,
      "outputs": []
    },
    {
      "cell_type": "code",
      "source": [
        "teste"
      ],
      "metadata": {
        "colab": {
          "base_uri": "https://localhost:8080/"
        },
        "id": "F_nQ7LUiHgA0",
        "outputId": "7786a83f-5db3-416c-94c7-2742afc287b3"
      },
      "execution_count": null,
      "outputs": [
        {
          "output_type": "execute_result",
          "data": {
            "text/plain": [
              "1.07177"
            ]
          },
          "metadata": {},
          "execution_count": 106
        }
      ]
    },
    {
      "cell_type": "markdown",
      "source": [
        "Qui-quadrado divido pela media da variancia:"
      ],
      "metadata": {
        "id": "lZzmFAvoHw_M"
      }
    },
    {
      "cell_type": "code",
      "source": [
        "qui_quadrado_cima / teste"
      ],
      "metadata": {
        "colab": {
          "base_uri": "https://localhost:8080/",
          "height": 39
        },
        "id": "DAi388aPHyHO",
        "outputId": "20ea2fc9-f157-40b6-89f8-8d078a8cc016"
      },
      "execution_count": null,
      "outputs": [
        {
          "output_type": "execute_result",
          "data": {
            "text/plain": [
              "Matrix([[5.60363208438357e-29]])"
            ],
            "text/latex": "$\\displaystyle \\left[\\begin{matrix}5.60363208438357 \\cdot 10^{-29}\\end{matrix}\\right]$"
          },
          "metadata": {},
          "execution_count": 109
        }
      ]
    },
    {
      "cell_type": "code",
      "source": [
        "baixo = np.sum(variancexy)"
      ],
      "metadata": {
        "id": "Uw3vPzOpIFum"
      },
      "execution_count": null,
      "outputs": []
    },
    {
      "cell_type": "code",
      "source": [
        "baixo"
      ],
      "metadata": {
        "colab": {
          "base_uri": "https://localhost:8080/"
        },
        "id": "VY1CNN5kIK8_",
        "outputId": "c3514fff-a64c-4cc8-e57c-ca1e5d27504c"
      },
      "execution_count": null,
      "outputs": [
        {
          "output_type": "execute_result",
          "data": {
            "text/plain": [
              "21.435399999999998"
            ]
          },
          "metadata": {},
          "execution_count": 112
        }
      ]
    },
    {
      "cell_type": "markdown",
      "source": [
        "Qui-quadrado divido pelo somatorio da variancia:"
      ],
      "metadata": {
        "id": "jLNRZvxoJy1z"
      }
    },
    {
      "cell_type": "code",
      "source": [
        "qui = qui_quadrado_cima / baixo"
      ],
      "metadata": {
        "id": "M7KoZrPYJ2if"
      },
      "execution_count": null,
      "outputs": []
    },
    {
      "cell_type": "code",
      "source": [
        "qui"
      ],
      "metadata": {
        "colab": {
          "base_uri": "https://localhost:8080/",
          "height": 39
        },
        "id": "9yglksNkJ7Fb",
        "outputId": "d9c4196b-87c5-42a7-d3bd-41f334379cae"
      },
      "execution_count": null,
      "outputs": [
        {
          "output_type": "execute_result",
          "data": {
            "text/plain": [
              "Matrix([[2.80181604219178e-30]])"
            ],
            "text/latex": "$\\displaystyle \\left[\\begin{matrix}2.80181604219178 \\cdot 10^{-30}\\end{matrix}\\right]$"
          },
          "metadata": {},
          "execution_count": 120
        }
      ]
    },
    {
      "cell_type": "markdown",
      "source": [
        "# AVALIAR A QUALIDADE"
      ],
      "metadata": {
        "id": "S7JMxkPfldBK"
      }
    },
    {
      "cell_type": "markdown",
      "source": [
        "## Interpretação:"
      ],
      "metadata": {
        "id": "x6TNWqcan7ui"
      }
    },
    {
      "cell_type": "markdown",
      "source": [
        "### Resíduos Padronizados: Algum dos resíduos padronizados ultrapassou os limites de ±2?"
      ],
      "metadata": {
        "id": "Kw9RHb2un_F5"
      }
    },
    {
      "cell_type": "markdown",
      "source": [
        "Data-snooping:\n",
        "S=rnσrn\n",
        "rn  é resíduo predito da observação\n",
        "\n",
        "σrn  é desvio padrão dos residuos\n",
        "\n",
        "S  é a correção normalizada"
      ],
      "metadata": {
        "id": "CDymMfDeKJ3t"
      }
    },
    {
      "cell_type": "markdown",
      "source": [
        "Média dos Resíduos"
      ],
      "metadata": {
        "id": "X7MWmCQ9KXei"
      }
    },
    {
      "cell_type": "code",
      "source": [
        "media_residuos = np.mean(V)"
      ],
      "metadata": {
        "id": "3Le6uzkVn7UK"
      },
      "execution_count": null,
      "outputs": []
    },
    {
      "cell_type": "code",
      "source": [
        "media_residuos"
      ],
      "metadata": {
        "colab": {
          "base_uri": "https://localhost:8080/",
          "height": 37
        },
        "id": "DzwujoByKctx",
        "outputId": "b716e9b8-5a25-42f7-f6a0-93a00cab02ae"
      },
      "execution_count": null,
      "outputs": [
        {
          "output_type": "execute_result",
          "data": {
            "text/plain": [
              "1.45899132948270e-15"
            ],
            "text/latex": "$\\displaystyle 1.4589913294827 \\cdot 10^{-15}$"
          },
          "metadata": {},
          "execution_count": 122
        }
      ]
    },
    {
      "cell_type": "markdown",
      "source": [
        "Desvio padrão do Resíduos"
      ],
      "metadata": {
        "id": "gkKn4q4FKkCl"
      }
    },
    {
      "cell_type": "code",
      "source": [
        "desvio_media_reiduos = math.sqrt(media_residuos)"
      ],
      "metadata": {
        "id": "_bOpwdXxKlRq"
      },
      "execution_count": null,
      "outputs": []
    },
    {
      "cell_type": "code",
      "source": [
        "desvio_media_reiduos"
      ],
      "metadata": {
        "colab": {
          "base_uri": "https://localhost:8080/"
        },
        "id": "uvv4RmgOLMgq",
        "outputId": "d7769743-d626-4a47-f908-d23116ec6660"
      },
      "execution_count": null,
      "outputs": [
        {
          "output_type": "execute_result",
          "data": {
            "text/plain": [
              "3.819674501161979e-08"
            ]
          },
          "metadata": {},
          "execution_count": 126
        }
      ]
    },
    {
      "cell_type": "markdown",
      "source": [
        "Resíduos Padronizados"
      ],
      "metadata": {
        "id": "vvoofOnbLWzh"
      }
    },
    {
      "cell_type": "code",
      "source": [
        "residuos_padronizados = V / desvio_media_reiduos"
      ],
      "metadata": {
        "id": "XRUkS9fGLfTc"
      },
      "execution_count": null,
      "outputs": []
    },
    {
      "cell_type": "code",
      "source": [
        "residuos_padronizados"
      ],
      "metadata": {
        "colab": {
          "base_uri": "https://localhost:8080/",
          "height": 424
        },
        "id": "7EHi1yaELhDp",
        "outputId": "f7ca7cc9-5656-42b6-be5a-9febd269c6b8"
      },
      "execution_count": null,
      "outputs": [
        {
          "output_type": "execute_result",
          "data": {
            "text/plain": [
              "Matrix([\n",
              "[                   0],\n",
              "[                   0],\n",
              "[-1.75192843487962e-8],\n",
              "[ -1.2585358423412e-8],\n",
              "[                   0],\n",
              "[                   0],\n",
              "[ 5.31379586950372e-8],\n",
              "[ 3.81728067625924e-8],\n",
              "[                   0],\n",
              "[                   0],\n",
              "[ 5.82596528007563e-8],\n",
              "[ 4.18520869644678e-8],\n",
              "[ 2.20731453265367e-7],\n",
              "[ 1.58567233647084e-7],\n",
              "[ 1.29959279662846e-7],\n",
              "[ 9.33590712064529e-8],\n",
              "[                   0],\n",
              "[                   0],\n",
              "[                   0],\n",
              "[                   0]])"
            ],
            "text/latex": "$\\displaystyle \\left[\\begin{matrix}0\\\\0\\\\-1.75192843487962 \\cdot 10^{-8}\\\\-1.2585358423412 \\cdot 10^{-8}\\\\0\\\\0\\\\5.31379586950372 \\cdot 10^{-8}\\\\3.81728067625924 \\cdot 10^{-8}\\\\0\\\\0\\\\5.82596528007563 \\cdot 10^{-8}\\\\4.18520869644678 \\cdot 10^{-8}\\\\2.20731453265367 \\cdot 10^{-7}\\\\1.58567233647084 \\cdot 10^{-7}\\\\1.29959279662846 \\cdot 10^{-7}\\\\9.33590712064529 \\cdot 10^{-8}\\\\0\\\\0\\\\0\\\\0\\end{matrix}\\right]$"
          },
          "metadata": {},
          "execution_count": 128
        }
      ]
    },
    {
      "cell_type": "markdown",
      "source": [
        "### Existe utliers presentes nos dados fornecidos?\n"
      ],
      "metadata": {
        "id": "PBeGk3mrogoy"
      }
    },
    {
      "cell_type": "markdown",
      "source": [
        "Sim, apresentaram outliers."
      ],
      "metadata": {
        "id": "6pX8PvRNMFWB"
      }
    },
    {
      "cell_type": "markdown",
      "source": [
        "## Conclusão:"
      ],
      "metadata": {
        "id": "F0f_adwZo1Se"
      }
    },
    {
      "cell_type": "markdown",
      "source": [
        "**Resíduos Padronizados**"
      ],
      "metadata": {
        "id": "FQQ_v8dApZAC"
      }
    },
    {
      "cell_type": "markdown",
      "source": [
        "São encontrado valores desprezíveis"
      ],
      "metadata": {
        "id": "hGVUCknRplJy"
      }
    },
    {
      "cell_type": "markdown",
      "source": [
        "**Outliers**:"
      ],
      "metadata": {
        "id": "c7-qM-I7pSyi"
      }
    },
    {
      "cell_type": "markdown",
      "source": [
        "Os Resíduos Padronizados acima de 3 apresentaram outliers."
      ],
      "metadata": {
        "id": "OVdUoXgmphwB"
      }
    }
  ]
}