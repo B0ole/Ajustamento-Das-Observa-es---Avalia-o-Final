{
  "nbformat": 4,
  "nbformat_minor": 0,
  "metadata": {
    "colab": {
      "provenance": [],
      "include_colab_link": true
    },
    "kernelspec": {
      "name": "python3",
      "display_name": "Python 3"
    },
    "language_info": {
      "name": "python"
    }
  },
  "cells": [
    {
      "cell_type": "markdown",
      "metadata": {
        "id": "view-in-github",
        "colab_type": "text"
      },
      "source": [
        "<a href=\"https://colab.research.google.com/github/B0ole/Ajustamento-Das-Observa-es---Avalia-o-Final/blob/main/Controle_de_Qualidade_do_Ajustamento.ipynb\" target=\"_parent\"><img src=\"https://colab.research.google.com/assets/colab-badge.svg\" alt=\"Open In Colab\"/></a>"
      ]
    },
    {
      "cell_type": "markdown",
      "source": [
        "#*Controle de Qualidade do Ajustamento*\n",
        "\n",
        "## Seminário em Grupo da turma de CA412 - Ajustamento de Observações II 2024.1\n",
        "\n",
        "\n",
        "**Docente:**\n",
        "\n",
        "ERISON ROSA DE OLIVEIRA BARROS erison.barros@ufpe.br\n",
        "\n",
        "**Dicentes:**\n",
        "\n",
        "JOAO IGOR MENDONÇA SIQUEIRA joao.igormendonca@ufpe.br\n",
        "\n",
        "MELQUIZEDEK LUIDSON NUNES DANTAS melquizedek.dantas@ufpe.br\n",
        "\n",
        "RAFAEL MARTINS DA SILVA rafael.martinss@ufpe.br\n",
        "\n",
        "THIAGO GAMA DE LIMA thiago.gama@ufpe.br"
      ],
      "metadata": {
        "id": "WW-nZ-iC55jr"
      }
    },
    {
      "cell_type": "markdown",
      "source": [
        "*   Controle de Qualidade no Ajustamento de Observações.\n",
        "*   Medidas Generalizadas de Confiabilidade para Múltiplos Outliers\n",
        "*   QUAD – Detecção quase acurada de outliers para observações.\n",
        "\n",
        "Outra proposta, alternativa tanto aos testes estatísticos quanto aos métodos de estimação robusta, é o método QUAD – Detecção quase acurada de outliers.\n",
        "\n",
        "O Teste Generalizado para Múltiplos Outliers simultâneos – Tq\n",
        "\n",
        "[Rascunho no Docs](https://docs.google.com/document/d/1Rx6JoR4Ab3GCY7ibG4_K8OSHDx12qD3fy-ncDZuXZsM/edit?usp=sharing)"
      ],
      "metadata": {
        "id": "XbFkpTd-9DtW"
      }
    },
    {
      "cell_type": "markdown",
      "source": [
        "##Introdução\n"
      ],
      "metadata": {
        "id": "tDA6UCMJ9WOj"
      }
    },
    {
      "cell_type": "markdown",
      "source": [
        "Qualquer dado experimental pode carregar consigo um erro aleatório e este por sua vez é impossível de ser eliminado por conta da medida de precisão do instrumento e a forma que o método de medida foi utilizado. Por conta disso, para o aumento da qualidade dos dados, mede-se o maior número de observações para melhor ajustamento do que o mínimo necessário para a solução do problema. Com essa redundância no sistema matemático gerado ocorrerá inconsistência devido aos erros nos valores observados.\n",
        "\n",
        "Assim assumimos que existe um erro aleatório em cada observação efetuada, para que desta forma podemos aplicar o Método dos Mínimos Quadrados (MMQ). Que é o critério mais utilizado para o ajustamento de observações geodésicas (Ghilani e Wolf, 2006). Este método adota como solução única para sistemas de equações redundantes e inconsistentes, aquela que minimiza a soma do quadrado dos resíduos, ponderada pelos respectivos pesos das observações (DALMOLIN, 2002).\n",
        "Entretanto, o método dos mínimos quadrados pressupõe que apenas erros aleatórios contaminam as observações (KAVOURAS, 1982).\n",
        "\n",
        "Ao longo dos anos foram desenvolvidas diversas técnicas para detecção e identificação de erros não aleatórios nas observações, tanto antes quanto após o ajustamento ter sido realizado. Serão trabalhadas aqui as técnicas Qui-Quadrado e data-snooping, proposto por Baarda (1968).\n"
      ],
      "metadata": {
        "id": "hznNw3PjJLEt"
      }
    },
    {
      "cell_type": "markdown",
      "source": [
        "##Histório do método"
      ],
      "metadata": {
        "id": "nt5p2eMR9hM_"
      }
    },
    {
      "cell_type": "markdown",
      "source": [
        "O método Qui-Quadrado, redescoberto por Karl Pearson no início do século XX, representou um grande avanço na análise estatística. Pearson buscava desenvolver ferramentas para analisar dados e testar hipóteses sobre distribuições de frequência. Em seu trabalho, ele investigou um critério de probabilidade em qualquer teoria de um sistema de erros observados e aplicá-lo à determinação da qualidade do ajuste no caso da frequência de corte (Pearson, 1900), demonstrando a versatilidade do método.\n",
        "\n",
        "O processo de data-snooping tem como objetivo a identificação de desvios significativos do padrão esperado, sugerindo a presença de erros grosseiros em dados após a realização de ajustes estatísticos. Ao rejeitar a hipótese nula (H₀), indicando que o modelo não se ajusta perfeitamente aos dados, os geodesistas empreendem uma busca sistemática por esses erro.\n",
        "\n",
        "Essa prática, comum em diversas áreas da ciência, visa encontrar a observação específica onde ocorreu o erro grosseiro. O Baarda propõe em seu livro uma metodologia para identificar essas observações, sugerindo o cálculo de um conjunto de valores e a reavaliação das observações que excederem um determinado limite.\n",
        "\n",
        "Essa abordagem demonstra a importância da detecção e correção de erros para garantir a qualidade dos resultados em análises geodésicas.\n",
        "\n",
        "Embora o próprio Baarda comente que a técnica não garante a identificação de todos os erros, especialmente se houver múltiplos erros simultâneos e a reavaliação das observações pode ser custosa em termos de tempo e recursos.\n"
      ],
      "metadata": {
        "id": "4I1TzVAwb6om"
      }
    },
    {
      "cell_type": "markdown",
      "source": [
        "##Modelos Matemáticos e funcionais\n"
      ],
      "metadata": {
        "id": "_rUlyixV9i4Z"
      }
    },
    {
      "cell_type": "markdown",
      "source": [
        "Qui-quadrado:\n",
        "$$ X_a^{2}= \\frac{ 𝞼_0^{2}}{𝞼^{2}}r $$\n",
        "Segundo Gemael (1994), é o qui-quadrado amostral, é a variância da observação de\n",
        "peso unitário a priori e é o grau de liberdade no ajustamento.\n",
        "$$ X_a^{2} < X_{(r,α)}^{2} $$\n",
        "E os parâmetros ajustados são rejeitados nos testes estatísticos caso não cumpra essa condição imposta."
      ],
      "metadata": {
        "id": "fAgJNVinJQRf"
      }
    },
    {
      "cell_type": "markdown",
      "source": [
        "Data-snooping:\n",
        "$$ S = \\frac{r_n}{σ_{r_n}} $$\n",
        "$r_n$ é resíduo predito da observação\n",
        "\n",
        "$σ_{r_n}$ é desvio padrão dos residuos\n",
        "\n",
        "$S$ é a correção normalizada\n",
        "\n",
        "$$-N_{α/2}<S<N_{α/2}$$\n",
        "$N_{α/2}$ é extraida da curva normal\n",
        "\n",
        "Segundo Santos (2009), caso algum erro seja\n",
        "detectado e identificado, as observações são descartadas do processo e o\n",
        "vetor dos parâmetros calculados não é atualizado.\n",
        "\n"
      ],
      "metadata": {
        "id": "qOPr60njLCdX"
      }
    },
    {
      "cell_type": "markdown",
      "source": [
        "##Aplicação em  uma Rede"
      ],
      "metadata": {
        "id": "eeWHJV3y9ljG"
      }
    },
    {
      "cell_type": "markdown",
      "source": [
        "O processo do data snooping consiste em analisar erros grosseiros que possam estar contaminando as observações realizadas, erros estes que não podem ser detectados por testes estatísticos. Ao realizar o teste estatístico escolhido(qui-quadrado por exemplo) verificassem duas coisas:\n",
        "\n",
        "H0 = HA Hipótese nula\n",
        "H0 != HA Hipótese alternativa\n",
        "\n",
        "Se o teste qui-quadrado falhar, existem outliers a serem determinados. Baarda percebeu que é necessário fazer a análise observação por observação para ver em qual destas existem erros grosseiros, e ao adotar-se um critério para esse teste, se a observação falhar ela é descartada e é realizado o ajustamento novamente para que seja feito o controle de qualidade do ajustamento\n"
      ],
      "metadata": {
        "id": "2FtncZu_HclR"
      }
    },
    {
      "cell_type": "markdown",
      "source": [],
      "metadata": {
        "id": "FX2e6NDd2T06"
      }
    },
    {
      "cell_type": "markdown",
      "source": [
        "##REFERÊNCIAS\n",
        "\n",
        "BAARDA, W. A Testing Procedure for Use in Geodetic Networks, New Series, vol. 2, n. 5, Delft, 1968.\n",
        "\n",
        "DALMOLIN, Q. Ajustamento por mínimos quadrados. Edição Revisada. Curitiba:Imprensa da UFPR, 2002.\n",
        "\n",
        "GEMAEL, C. Introdução ao ajustamento de observações: aplicações geodésicas.1.ed. Curitiba: UFPR, 1994. 319 p.\n",
        "\n",
        "GHILANI, C. D.; WOLF, P. R. Adjustment Computations: Spatial Data Analysis. 4° Ed. Editora: John Wiley & Sons, 2006.\n",
        "\n",
        "KAVOURAS, M. On the Detection of Outliers and the Determination of Reliability in Geodetic Networks. Canadá: Fredericton. University of New Brunswick, Department of Surveying Engineering. Technical Report, n. 87, 1982\n",
        "\n",
        "KLEIN, Ivandro; MATSUOKA, Marcelo Tomio; SOUZA, Sergio Florêncio De. Teoria de confiabilidade generalizada para múltiplos outliers: apresentação, discussão e comparação com a teoria convencional. Boletim de Ciências Geodésicas, v. 17, p. 519-548, 2011.\n",
        "\n",
        "PEARSON, Karl. X. On the criterion that a given system of deviations from the probable in the case of a correlated system of variables is such that it can be reasonably supposed to have arisen from random sampling. The London, Edinburgh, and Dublin Philosophical Magazine and Journal of Science, v. 50, n. 302, p. 157-175, 1900.\n",
        "\n",
        "SANTOS, D. R. Apostila de Fotogrametria I.  Curitiba, 2009. Setor de Ciências da Terra, Universidade Federal do Paraná."
      ],
      "metadata": {
        "id": "bOvMEQf0Nb8c"
      }
    }
  ]
}