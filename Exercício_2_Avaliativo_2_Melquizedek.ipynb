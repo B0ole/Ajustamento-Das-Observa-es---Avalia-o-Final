{
  "cells": [
    {
      "cell_type": "markdown",
      "metadata": {
        "id": "view-in-github",
        "colab_type": "text"
      },
      "source": [
        "<a href=\"https://colab.research.google.com/github/B0ole/Ajustamento-Das-Observa-es---Avalia-o-Final/blob/main/Exerc%C3%ADcio_2_Avaliativo_2_Melquizedek.ipynb\" target=\"_parent\"><img src=\"https://colab.research.google.com/assets/colab-badge.svg\" alt=\"Open In Colab\"/></a>"
      ]
    },
    {
      "cell_type": "markdown",
      "metadata": {
        "id": "fUm-R_kDwiGZ"
      },
      "source": [
        "\n",
        "\n",
        "---\n",
        "\n",
        "\n",
        "## Problema de Fotogrametria\n",
        "\n",
        "\n",
        "---\n",
        "\n",
        "\n",
        "Dado o modelo matemático da equação de uma linha de vista em fotogrametria, a saber:\n",
        "\n",
        "$ x \\cos(\\theta) + y \\sin(\\theta) + z \\sin(\\phi) - d = 0 $\n",
        "\n",
        "Considere que 10 pontos de coordenadas cartesianas foram observados \\( n \\) vezes, e para cada observação foram atribuídas variâncias de diferentes qualidades.\n",
        "\n",
        "### **Dados**\n",
        "\n",
        "| index |       x       |       y       |       z       |  rho_observed  |  variance  |\n",
        "|-------|---------------|---------------|---------------|----------------|------------|\n",
        "| 1     | -1.6596       | -1.6161       | 3.1415        | -12.4419       | 1.3007     |\n",
        "| 2    | 4.4065        | 3.7044        | 2.7183        | -5.3954        | 1.4683     |\n",
        "| 3     | -9.9977       | -5.9110       | 1.6180        | -21.5757       | 0.8134     |\n",
        "| 4     | -3.9533       | 7.5623        | 2.2361        | -9.0061        | 1.1923     |\n",
        "| 5     | -7.0649       | -9.4522       | 3.6056        | -22.1357       | 1.3764     |\n",
        "| 6     | -8.1532       | 3.4094        | 1.7321        | -14.0044       | 1.3946     |\n",
        "| 7    | -6.2748       | -1.6539       | 2.6458        | -15.5715       | 0.5850     |\n",
        "| 8     | -3.0888       | 1.1738        | 3.3166        | -11.7191       | 0.5391     |\n",
        "| 9     | -2.0647       | -7.1923       | 2.8284        | -14.6469       | 0.6698     |\n",
        "| 10     | 0.7763        | -6.0380       | 1.4142        | -13.1493       | 1.3781     |\n",
        "\n",
        "\n"
      ]
    },
    {
      "cell_type": "markdown",
      "metadata": {
        "id": "9DhgMxHRyUme"
      },
      "source": [
        "## **Perguntas:**\n",
        "\n"
      ]
    },
    {
      "cell_type": "markdown",
      "metadata": {
        "id": "2vUxPr6-y1-B"
      },
      "source": [
        "### 1. Quem são as observações ou medidas e quais os parâmetros a serem determinados?"
      ]
    },
    {
      "cell_type": "markdown",
      "metadata": {
        "id": "c279J6A9yr1x"
      },
      "source": [
        "Através do enunciado apresentado, as medidas observadas são as coordenadas x, y e z dos 10 pontos. Já os parâmetros são $\\theta$, $\\phi$ e $d$."
      ]
    },
    {
      "cell_type": "markdown",
      "metadata": {
        "id": "xgATaf2oyiij"
      },
      "source": [
        "### 2. O modelo matemático $ F $ é explícito ou implícito?\n"
      ]
    },
    {
      "cell_type": "markdown",
      "metadata": {
        "id": "og-GRL3cylBZ"
      },
      "source": [
        "Observando a estrutura do modelo matemático $F$ é percebido que ele é implícito."
      ]
    },
    {
      "cell_type": "markdown",
      "metadata": {
        "id": "HAxx4WYcyloo"
      },
      "source": [
        "### 3. $ F $ é linear ou não linear?\n"
      ]
    },
    {
      "cell_type": "markdown",
      "metadata": {
        "id": "CsuHP7BAyneS"
      },
      "source": [
        "O modelo $F$ é linear."
      ]
    },
    {
      "cell_type": "markdown",
      "metadata": {
        "id": "eN5DEPzTyozQ"
      },
      "source": [
        "### 4. Existe deficiência de posto na matriz das equações normais $ N $?"
      ]
    },
    {
      "cell_type": "markdown",
      "metadata": {
        "id": "kuvI-lghyp-A"
      },
      "source": [
        "Não foi encontrada deficiência."
      ]
    },
    {
      "cell_type": "markdown",
      "metadata": {
        "id": "bcxBDFuBC8Nw"
      },
      "source": [
        "Para essa situação, vamos utilizar o Método de Ajustamento Combinado:"
      ]
    },
    {
      "cell_type": "code",
      "execution_count": null,
      "metadata": {
        "id": "0BnoWWH59vdW"
      },
      "outputs": [],
      "source": [
        "import numpy as np\n",
        "import sympy as sp\n",
        "import math as mt"
      ]
    },
    {
      "cell_type": "markdown",
      "metadata": {
        "id": "ytcTD5yuDXMD"
      },
      "source": [
        "Coordenadas observadas $Z$\n"
      ]
    },
    {
      "cell_type": "code",
      "execution_count": null,
      "metadata": {
        "colab": {
          "base_uri": "https://localhost:8080/",
          "height": 627
        },
        "id": "IjB-ymHXCqqD",
        "outputId": "e41b3fa5-1662-43b8-c232-0206804740eb"
      },
      "outputs": [
        {
          "output_type": "execute_result",
          "data": {
            "text/plain": [
              "Matrix([\n",
              "[-1.6596],\n",
              "[-1.6161],\n",
              "[ 3.1415],\n",
              "[ 4.4065],\n",
              "[ 3.7044],\n",
              "[ 2.7183],\n",
              "[-9.9977],\n",
              "[ -5.911],\n",
              "[  1.618],\n",
              "[-3.9533],\n",
              "[ 7.5623],\n",
              "[ 2.2361],\n",
              "[-7.0649],\n",
              "[-9.4522],\n",
              "[ 3.6056],\n",
              "[-8.1532],\n",
              "[ 3.4094],\n",
              "[ 1.7321],\n",
              "[-6.2748],\n",
              "[-1.6539],\n",
              "[ 2.6458],\n",
              "[-3.0888],\n",
              "[ 1.1738],\n",
              "[ 3.3166],\n",
              "[-2.0647],\n",
              "[-7.1923],\n",
              "[ 2.8284],\n",
              "[ 0.7763],\n",
              "[ -6.038],\n",
              "[ 1.4142]])"
            ],
            "text/latex": "$\\displaystyle \\left[\\begin{matrix}-1.6596\\\\-1.6161\\\\3.1415\\\\4.4065\\\\3.7044\\\\2.7183\\\\-9.9977\\\\-5.911\\\\1.618\\\\-3.9533\\\\7.5623\\\\2.2361\\\\-7.0649\\\\-9.4522\\\\3.6056\\\\-8.1532\\\\3.4094\\\\1.7321\\\\-6.2748\\\\-1.6539\\\\2.6458\\\\-3.0888\\\\1.1738\\\\3.3166\\\\-2.0647\\\\-7.1923\\\\2.8284\\\\0.7763\\\\-6.038\\\\1.4142\\end{matrix}\\right]$"
          },
          "metadata": {},
          "execution_count": 235
        }
      ],
      "source": [
        "Z = sp.Matrix([-1.6596,-1.6161,3.1415,4.4065,3.7044,2.7183,-9.9977,-5.9110,1.6180,-3.9533,7.5623,2.2361,-7.0649,-9.4522,3.6056,-8.1532,3.4094,1.7321,-6.2748,-1.6539,2.6458,-3.0888,1.1738,3.3166,-2.0647,-7.1923,2.8284,0.7763,-6.0380,1.4142])\n",
        "Z"
      ]
    },
    {
      "cell_type": "code",
      "source": [
        "Z0 = Z #auxiliar para iteração"
      ],
      "metadata": {
        "id": "KuyBF6p3ABVd"
      },
      "execution_count": null,
      "outputs": []
    },
    {
      "cell_type": "markdown",
      "metadata": {
        "id": "ABVdGbJWJZ2X"
      },
      "source": [
        "Distâncias observadas $L$"
      ]
    },
    {
      "cell_type": "code",
      "execution_count": null,
      "metadata": {
        "colab": {
          "base_uri": "https://localhost:8080/",
          "height": 220
        },
        "id": "pas1Hk8yqRhx",
        "outputId": "3418a73a-ac38-425c-b3cd-eb2dc454dd9e"
      },
      "outputs": [
        {
          "output_type": "execute_result",
          "data": {
            "text/plain": [
              "Matrix([\n",
              "[-12.4419],\n",
              "[ -5.3954],\n",
              "[-21.5757],\n",
              "[ -9.0061],\n",
              "[-22.1357],\n",
              "[-14.0044],\n",
              "[-15.5715],\n",
              "[-11.7191],\n",
              "[-14.6469],\n",
              "[-13.1493]])"
            ],
            "text/latex": "$\\displaystyle \\left[\\begin{matrix}-12.4419\\\\-5.3954\\\\-21.5757\\\\-9.0061\\\\-22.1357\\\\-14.0044\\\\-15.5715\\\\-11.7191\\\\-14.6469\\\\-13.1493\\end{matrix}\\right]$"
          },
          "metadata": {},
          "execution_count": 237
        }
      ],
      "source": [
        "L = sp.Matrix([-12.4419,-5.3954,-21.5757,-9.0061,-22.1357,-14.0044,-15.5715,-11.7191,-14.6469,-13.1493])\n",
        "L"
      ]
    },
    {
      "cell_type": "markdown",
      "metadata": {
        "id": "_6S4Z8mDXYsb"
      },
      "source": [
        "Parâmetros escolhidos $X_0$"
      ]
    },
    {
      "cell_type": "code",
      "execution_count": null,
      "metadata": {
        "id": "DEaJ3MHzTVo1"
      },
      "outputs": [],
      "source": [
        "a,b,c,d = sp.symbols('a b c d')\n",
        "vetorparametro = sp.Matrix([a,b,c,d])\n",
        "x1,y1,z1,x2,y2,z2,x3,y3,z3,x4,y4,z4,x5,y5,z5,x6,y6,z6,x7,y7,z7,x8,y8,z8,x9,y9,z9,x10,y10,z10 = sp.symbols('x1 y1 z1 x2 y2 z2 x3 y3 z3 x4 y4 z4 x5 y5 z5 x6 y6 z6 x7 y7 z7 x8 y8 z8 x9 y9 z9 x10 y10 z10')"
      ]
    },
    {
      "cell_type": "code",
      "execution_count": null,
      "metadata": {
        "colab": {
          "base_uri": "https://localhost:8080/",
          "height": 220
        },
        "id": "2IsUzzmCjf7D",
        "outputId": "29b708c7-819f-4b78-d1c8-81463957ae74"
      },
      "outputs": [
        {
          "output_type": "execute_result",
          "data": {
            "text/plain": [
              "Matrix([\n",
              "[   a*x1 + b*y1 + c*z1 + d],\n",
              "[   a*x2 + b*y2 + c*z2 + d],\n",
              "[   a*x3 + b*y3 + c*z3 + d],\n",
              "[   a*x4 + b*y4 + c*z4 + d],\n",
              "[   a*x5 + b*y5 + c*z5 + d],\n",
              "[   a*x6 + b*y6 + c*z6 + d],\n",
              "[   a*x7 + b*y7 + c*z7 + d],\n",
              "[   a*x8 + b*y8 + c*z8 + d],\n",
              "[   a*x9 + b*y9 + c*z9 + d],\n",
              "[a*x10 + b*y10 + c*z10 + d]])"
            ],
            "text/latex": "$\\displaystyle \\left[\\begin{matrix}a x_{1} + b y_{1} + c z_{1} + d\\\\a x_{2} + b y_{2} + c z_{2} + d\\\\a x_{3} + b y_{3} + c z_{3} + d\\\\a x_{4} + b y_{4} + c z_{4} + d\\\\a x_{5} + b y_{5} + c z_{5} + d\\\\a x_{6} + b y_{6} + c z_{6} + d\\\\a x_{7} + b y_{7} + c z_{7} + d\\\\a x_{8} + b y_{8} + c z_{8} + d\\\\a x_{9} + b y_{9} + c z_{9} + d\\\\a x_{10} + b y_{10} + c z_{10} + d\\end{matrix}\\right]$"
          },
          "metadata": {},
          "execution_count": 239
        }
      ],
      "source": [
        "eq1 = x1*a + y1*b + z1*c + d\n",
        "eq2 = x2*a + y2*b + z2*c + d\n",
        "eq3 = x3*a + y3*b + z3*c + d\n",
        "eq4 = x4*a + y4*b + z4*c + d\n",
        "eq5 = x5*a + y5*b + z5*c + d\n",
        "eq6 = x6*a + y6*b + z6*c + d\n",
        "eq7 = x7*a + y7*b + z7*c + d\n",
        "eq8 = x8*a + y8*b + z8*c + d\n",
        "eq9 = x9*a + y9*b + z9*c + d\n",
        "eq10 = x10*a + y10*b + z10*c + d\n",
        "vetorequacao = sp.Matrix([eq1,eq2,eq3,eq4,eq5,eq6,eq7,eq8,eq9,eq10])\n",
        "dicionario1 = {x1:Z[0], y1:Z[1], z1:Z[2],x2:Z[3], y2:Z[4], z2:Z[5],x3:Z[6], y3:Z[7], z3:Z[8],x4:Z[9], y4:Z[10], z4:Z[11],x5:Z[12], y5:Z[13], z5:Z[14],x6:Z[15], y6:Z[16], z6:Z[17],x7:Z[18], y7:Z[19], z7:Z[20],x8:Z[21], y8:Z[22], z8:Z[23],x9:Z[24], y9:Z[25], z9:Z[26],x10:Z[27], y10:Z[28], z10:Z[29]}\n",
        "vetorequacao"
      ]
    },
    {
      "cell_type": "markdown",
      "metadata": {
        "id": "xVZgpjhJzY1E"
      },
      "source": [
        "### **Construção da Matriz de Design ( A ):**\n"
      ]
    },
    {
      "cell_type": "markdown",
      "metadata": {
        "id": "w1lY3Ftp1O2o"
      },
      "source": [
        ">\n",
        "   $$\n",
        "   A = \\begin{pmatrix}\n",
        "   x_1 & y_1 & z_1 & 1 \\\\\n",
        "   x_2 & y_2 & z_2 & 1 \\\\\n",
        "   \\vdots & \\vdots & \\vdots & \\vdots \\\\\n",
        "   x_{10} & y_{10} & z_{10} & 1 \\\\\n",
        "   \\end{pmatrix}\n",
        "   $$"
      ]
    },
    {
      "cell_type": "code",
      "execution_count": null,
      "metadata": {
        "colab": {
          "base_uri": "https://localhost:8080/",
          "height": 220
        },
        "id": "8eYajMtYzvnQ",
        "outputId": "2fd3bc05-0d8a-420f-9892-b170fb3ac068"
      },
      "outputs": [
        {
          "output_type": "execute_result",
          "data": {
            "text/plain": [
              "Matrix([\n",
              "[-1.6596, -1.6161, 3.1415, 1],\n",
              "[ 4.4065,  3.7044, 2.7183, 1],\n",
              "[-9.9977,  -5.911,  1.618, 1],\n",
              "[-3.9533,  7.5623, 2.2361, 1],\n",
              "[-7.0649, -9.4522, 3.6056, 1],\n",
              "[-8.1532,  3.4094, 1.7321, 1],\n",
              "[-6.2748, -1.6539, 2.6458, 1],\n",
              "[-3.0888,  1.1738, 3.3166, 1],\n",
              "[-2.0647, -7.1923, 2.8284, 1],\n",
              "[ 0.7763,  -6.038, 1.4142, 1]])"
            ],
            "text/latex": "$\\displaystyle \\left[\\begin{matrix}-1.6596 & -1.6161 & 3.1415 & 1\\\\4.4065 & 3.7044 & 2.7183 & 1\\\\-9.9977 & -5.911 & 1.618 & 1\\\\-3.9533 & 7.5623 & 2.2361 & 1\\\\-7.0649 & -9.4522 & 3.6056 & 1\\\\-8.1532 & 3.4094 & 1.7321 & 1\\\\-6.2748 & -1.6539 & 2.6458 & 1\\\\-3.0888 & 1.1738 & 3.3166 & 1\\\\-2.0647 & -7.1923 & 2.8284 & 1\\\\0.7763 & -6.038 & 1.4142 & 1\\end{matrix}\\right]$"
          },
          "metadata": {},
          "execution_count": 240
        }
      ],
      "source": [
        "A = sp.zeros(10,4)\n",
        "for i in range(10):\n",
        "  for j in range(4):\n",
        "      A[i,j] = sp.diff(vetorequacao[i],vetorparametro[j])\n",
        "A = A.subs(dicionario1)\n",
        "A"
      ]
    },
    {
      "cell_type": "markdown",
      "metadata": {
        "id": "JzwxhydUzm73"
      },
      "source": [
        "**Construção da Matriz de Pesos ( W ):**"
      ]
    },
    {
      "cell_type": "markdown",
      "metadata": {
        "id": "9jEWVtvW1YXQ"
      },
      "source": [
        "   $$\n",
        "   W = \\begin{pmatrix}\n",
        "   \\frac{1}{\\sigma_1^2} & 0 & \\cdots & 0 \\\\\n",
        "   0 & \\frac{1}{\\sigma_2^2} & \\cdots & 0 \\\\\n",
        "   \\vdots & \\vdots & \\ddots & \\vdots \\\\\n",
        "   0 & 0 & \\cdots & \\frac{1}{\\sigma_{10}^2} \\\\\n",
        "   \\end{pmatrix}\n",
        "   $$\n"
      ]
    },
    {
      "cell_type": "code",
      "execution_count": null,
      "metadata": {
        "colab": {
          "base_uri": "https://localhost:8080/",
          "height": 240
        },
        "id": "OG4dN754zuPZ",
        "outputId": "6b32dcd0-8f39-4573-e5e8-e940fbc44074"
      },
      "outputs": [
        {
          "output_type": "execute_result",
          "data": {
            "text/plain": [
              "Matrix([\n",
              "[0.768816790958715,                 0,                0,                 0,                 0,                 0,                0,                0,                0,                0],\n",
              "[                0, 0.681059728938228,                0,                 0,                 0,                 0,                0,                0,                0,                0],\n",
              "[                0,                 0, 1.22940742562085,                 0,                 0,                 0,                0,                0,                0,                0],\n",
              "[                0,                 0,                0, 0.838715088484442,                 0,                 0,                0,                0,                0,                0],\n",
              "[                0,                 0,                0,                 0, 0.726532984597501,                 0,                0,                0,                0,                0],\n",
              "[                0,                 0,                0,                 0,                 0, 0.717051484296573,                0,                0,                0,                0],\n",
              "[                0,                 0,                0,                 0,                 0,                 0, 1.70940170940171,                0,                0,                0],\n",
              "[                0,                 0,                0,                 0,                 0,                 0,                0, 1.85494342422556,                0,                0],\n",
              "[                0,                 0,                0,                 0,                 0,                 0,                0,                0, 1.49298297999403,                0],\n",
              "[                0,                 0,                0,                 0,                 0,                 0,                0,                0,                0, 0.72563674624483]])"
            ],
            "text/latex": "$\\displaystyle \\left[\\begin{matrix}0.768816790958715 & 0 & 0 & 0 & 0 & 0 & 0 & 0 & 0 & 0\\\\0 & 0.681059728938228 & 0 & 0 & 0 & 0 & 0 & 0 & 0 & 0\\\\0 & 0 & 1.22940742562085 & 0 & 0 & 0 & 0 & 0 & 0 & 0\\\\0 & 0 & 0 & 0.838715088484442 & 0 & 0 & 0 & 0 & 0 & 0\\\\0 & 0 & 0 & 0 & 0.726532984597501 & 0 & 0 & 0 & 0 & 0\\\\0 & 0 & 0 & 0 & 0 & 0.717051484296573 & 0 & 0 & 0 & 0\\\\0 & 0 & 0 & 0 & 0 & 0 & 1.70940170940171 & 0 & 0 & 0\\\\0 & 0 & 0 & 0 & 0 & 0 & 0 & 1.85494342422556 & 0 & 0\\\\0 & 0 & 0 & 0 & 0 & 0 & 0 & 0 & 1.49298297999403 & 0\\\\0 & 0 & 0 & 0 & 0 & 0 & 0 & 0 & 0 & 0.72563674624483\\end{matrix}\\right]$"
          },
          "metadata": {},
          "execution_count": 241
        }
      ],
      "source": [
        "Var = np.array([1.3007,1.4683,0.8134,1.1923,1.3764,1.3946,0.5850,0.5391,0.6698,1.3781])\n",
        "ident = np.eye(10)\n",
        "inv_W = Var*ident\n",
        "inv_W = sp.Matrix(inv_W)\n",
        "W = inv_W.inv()\n",
        "W"
      ]
    },
    {
      "cell_type": "markdown",
      "metadata": {
        "id": "MJgjkgB81jsZ"
      },
      "source": [
        "**3.** **Método dos Mínimos Quadrados Ponderados (WLS)**:\n",
        "   Use o método dos mínimos quadrados ponderados para ajustar o modelo e determinar $\\theta $, $ \\phi $ e $ d $."
      ]
    },
    {
      "cell_type": "markdown",
      "metadata": {
        "id": "dZAVXlODZfcr"
      },
      "source": [
        "$α = (A^T W A)^{-1}A^TWL $"
      ]
    },
    {
      "cell_type": "code",
      "execution_count": null,
      "metadata": {
        "colab": {
          "base_uri": "https://localhost:8080/",
          "height": 98
        },
        "id": "ZS5T2ibddCqT",
        "outputId": "a6e40f23-ff44-419f-9d83-e2c2645733e9"
      },
      "outputs": [
        {
          "output_type": "execute_result",
          "data": {
            "text/plain": [
              "Matrix([\n",
              "[  0.781304898801457],\n",
              "[   0.56037336708134],\n",
              "[-0.0204123363672331],\n",
              "[  -9.98405015783115]])"
            ],
            "text/latex": "$\\displaystyle \\left[\\begin{matrix}0.781304898801457\\\\0.56037336708134\\\\-0.0204123363672331\\\\-9.98405015783115\\end{matrix}\\right]$"
          },
          "metadata": {},
          "execution_count": 242
        }
      ],
      "source": [
        "alfa = (A.T @ W @ A).inv() @ A.T @ W @ L\n",
        "alfa"
      ]
    },
    {
      "cell_type": "markdown",
      "metadata": {
        "id": "FZxfoW1pX9mc"
      },
      "source": [
        "Vetor de Erro $ε$"
      ]
    },
    {
      "cell_type": "markdown",
      "metadata": {
        "id": "n4IRot_RZJtp"
      },
      "source": [
        "$ε = L - Aα$"
      ]
    },
    {
      "cell_type": "code",
      "execution_count": null,
      "metadata": {
        "colab": {
          "base_uri": "https://localhost:8080/",
          "height": 220
        },
        "id": "3Ro4Nr79Yx6C",
        "outputId": "7b282617-def7-434e-9b31-dd0991b4b276"
      },
      "outputs": [
        {
          "output_type": "execute_result",
          "data": {
            "text/plain": [
              "Matrix([\n",
              "[-0.191451478880134],\n",
              "[-0.874530125806539],\n",
              "[ -0.43500372236154],\n",
              "[-0.125384674265497],\n",
              "[  -1.2614490022945],\n",
              "[ 0.474604508833753],\n",
              "[ 0.295890608206788],\n",
              "[0.0881780257645808],\n",
              "[  1.03841800262673],\n",
              "[-0.359375318580748]])"
            ],
            "text/latex": "$\\displaystyle \\left[\\begin{matrix}-0.191451478880134\\\\-0.874530125806539\\\\-0.43500372236154\\\\-0.125384674265497\\\\-1.2614490022945\\\\0.474604508833753\\\\0.295890608206788\\\\0.0881780257645808\\\\1.03841800262673\\\\-0.359375318580748\\end{matrix}\\right]$"
          },
          "metadata": {},
          "execution_count": 243
        }
      ],
      "source": [
        "e = L - (A @ alfa)\n",
        "e"
      ]
    },
    {
      "cell_type": "markdown",
      "metadata": {
        "id": "HUHiIJxs0JpD"
      },
      "source": [
        "## **Parâmetros Estimados:**"
      ]
    },
    {
      "cell_type": "markdown",
      "metadata": {
        "id": "FTX9mTBY0SOp"
      },
      "source": [
        "- **$\\theta_{est}$ (rad)**:\n",
        "\n"
      ]
    },
    {
      "cell_type": "code",
      "execution_count": null,
      "metadata": {
        "id": "Fwo8X8rN0pRl",
        "colab": {
          "base_uri": "https://localhost:8080/"
        },
        "outputId": "5721ae46-2b9c-485c-b74c-9618dbaac977"
      },
      "outputs": [
        {
          "output_type": "execute_result",
          "data": {
            "text/plain": [
              "0.622194722722802"
            ]
          },
          "metadata": {},
          "execution_count": 244
        }
      ],
      "source": [
        "tetarad = mt.atan(alfa[1]/alfa[0])\n",
        "tetarad"
      ]
    },
    {
      "cell_type": "markdown",
      "metadata": {
        "id": "rseBga2N0p4A"
      },
      "source": [
        "- **$\\theta_{est}$ (graus)**:\n"
      ]
    },
    {
      "cell_type": "code",
      "execution_count": null,
      "metadata": {
        "id": "3ebEVFBK0sSb",
        "colab": {
          "base_uri": "https://localhost:8080/"
        },
        "outputId": "1a19cfb6-4ab2-40a2-c0d9-bf86d6bd7ba3"
      },
      "outputs": [
        {
          "output_type": "execute_result",
          "data": {
            "text/plain": [
              "35.64913164732906"
            ]
          },
          "metadata": {},
          "execution_count": 245
        }
      ],
      "source": [
        "tetagraus = 180*tetarad/mt.pi\n",
        "tetagraus"
      ]
    },
    {
      "cell_type": "markdown",
      "metadata": {
        "id": "7AlCR4I2Km1w"
      },
      "source": [
        "\n",
        "\n",
        "*   $ \\phi_{est} $ **(rad)**:\n",
        "\n"
      ]
    },
    {
      "cell_type": "code",
      "execution_count": null,
      "metadata": {
        "id": "OR_Bt7i8LjPi",
        "colab": {
          "base_uri": "https://localhost:8080/"
        },
        "outputId": "a208b111-e309-49c3-ab7f-a5fe8f820d0d"
      },
      "outputs": [
        {
          "output_type": "execute_result",
          "data": {
            "text/plain": [
              "-0.02041375414558445"
            ]
          },
          "metadata": {},
          "execution_count": 246
        }
      ],
      "source": [
        "phirad = mt.asin(alfa[2])\n",
        "phirad"
      ]
    },
    {
      "cell_type": "markdown",
      "metadata": {
        "id": "-T9ynVf9LTDz"
      },
      "source": [
        "*   $ \\phi_{est} $ **(graus)**:"
      ]
    },
    {
      "cell_type": "code",
      "execution_count": null,
      "metadata": {
        "id": "E8LE7fjaLz9g",
        "colab": {
          "base_uri": "https://localhost:8080/"
        },
        "outputId": "e4eac75f-d7a8-4ef3-adad-c59bcb449bbf"
      },
      "outputs": [
        {
          "output_type": "execute_result",
          "data": {
            "text/plain": [
              "-1.1696219565596768"
            ]
          },
          "metadata": {},
          "execution_count": 247
        }
      ],
      "source": [
        "phigraus = 180*phirad/mt.pi\n",
        "phigraus"
      ]
    },
    {
      "cell_type": "markdown",
      "metadata": {
        "id": "0xUv8_Fq0sqS"
      },
      "source": [
        "- **$\\rho_{est}$**:"
      ]
    },
    {
      "cell_type": "code",
      "execution_count": null,
      "metadata": {
        "id": "1SJc9mft05Sx",
        "colab": {
          "base_uri": "https://localhost:8080/",
          "height": 37
        },
        "outputId": "85a21095-14d4-46c7-ff24-734c94483085"
      },
      "outputs": [
        {
          "output_type": "execute_result",
          "data": {
            "text/plain": [
              "-9.98405015783115"
            ],
            "text/latex": "$\\displaystyle -9.98405015783115$"
          },
          "metadata": {},
          "execution_count": 248
        }
      ],
      "source": [
        "p = alfa[3]\n",
        "p"
      ]
    },
    {
      "cell_type": "markdown",
      "metadata": {
        "id": "SNIf49up05sQ"
      },
      "source": [
        "- **MSE (Erro Quadrático Médio)**:"
      ]
    },
    {
      "cell_type": "markdown",
      "metadata": {
        "id": "F80zVJlzhdf0"
      },
      "source": [
        "$MSE = \\frac{1}{n}\\sum(\\rho_{obs}-\\rho_{est})^2$"
      ]
    },
    {
      "cell_type": "code",
      "execution_count": null,
      "metadata": {
        "id": "WU-NLvp607T6",
        "colab": {
          "base_uri": "https://localhost:8080/",
          "height": 37
        },
        "outputId": "e0ad7b52-e09d-42b6-a71e-c53f543b9499"
      },
      "outputs": [
        {
          "output_type": "execute_result",
          "data": {
            "text/plain": [
              "39.2236244339905"
            ],
            "text/latex": "$\\displaystyle 39.2236244339905$"
          },
          "metadata": {},
          "execution_count": 249
        }
      ],
      "source": [
        "MSE = (1/10)*(((L[0]-p)**2)+((L[1]-p)**2)+((L[2]-p)**2)+((L[3]-p)**2)+((L[4]-p)**2)+((L[5]-p)**2)+((L[6]-p)**2)+((L[7]-p)**2)+((L[8]-p)**2)+((L[9]-p)**2))\n",
        "MSE"
      ]
    },
    {
      "cell_type": "markdown",
      "source": [
        "Raiz do MSE"
      ],
      "metadata": {
        "id": "t6_uNl52BvPD"
      }
    },
    {
      "cell_type": "code",
      "execution_count": null,
      "metadata": {
        "id": "qeLeVS98qajo",
        "colab": {
          "base_uri": "https://localhost:8080/",
          "height": 37
        },
        "outputId": "87214351-88fd-4d8b-bc68-efac79c78636"
      },
      "outputs": [
        {
          "output_type": "execute_result",
          "data": {
            "text/plain": [
              "6.26287668998763"
            ],
            "text/latex": "$\\displaystyle 6.26287668998763$"
          },
          "metadata": {},
          "execution_count": 250
        }
      ],
      "source": [
        "RMSE = (MSE)**0.5\n",
        "RMSE"
      ]
    },
    {
      "cell_type": "markdown",
      "metadata": {
        "id": "oRxGQxsM2XQX"
      },
      "source": [
        "\n",
        "### **Análise de Outliers:**\n"
      ]
    },
    {
      "cell_type": "markdown",
      "metadata": {
        "id": "0RS5TJxe2dK3"
      },
      "source": [
        "Calcule os resíduos padronizados e identifique se há outliers significativos nas observações.\n"
      ]
    },
    {
      "cell_type": "markdown",
      "metadata": {
        "id": "Xla72rfp16Tn"
      },
      "source": [
        "**4.** **Cálculo dos Resíduos Padronizados**:\n",
        "   Verifique a qualidade do ajuste calculando os resíduos padronizados e identifique possíveis outliers."
      ]
    },
    {
      "cell_type": "code",
      "execution_count": null,
      "metadata": {
        "id": "dzfUWAOPQBu8",
        "colab": {
          "base_uri": "https://localhost:8080/",
          "height": 220
        },
        "outputId": "b37fe019-bf3c-4eb3-af67-362049b78b26"
      },
      "outputs": [
        {
          "output_type": "execute_result",
          "data": {
            "text/plain": [
              "Matrix([\n",
              "[   a*x1 + b*y1 + c*z1 + d],\n",
              "[   a*x2 + b*y2 + c*z2 + d],\n",
              "[   a*x3 + b*y3 + c*z3 + d],\n",
              "[   a*x4 + b*y4 + c*z4 + d],\n",
              "[   a*x5 + b*y5 + c*z5 + d],\n",
              "[   a*x6 + b*y6 + c*z6 + d],\n",
              "[   a*x7 + b*y7 + c*z7 + d],\n",
              "[   a*x8 + b*y8 + c*z8 + d],\n",
              "[   a*x9 + b*y9 + c*z9 + d],\n",
              "[a*x10 + b*y10 + c*z10 + d]])"
            ],
            "text/latex": "$\\displaystyle \\left[\\begin{matrix}a x_{1} + b y_{1} + c z_{1} + d\\\\a x_{2} + b y_{2} + c z_{2} + d\\\\a x_{3} + b y_{3} + c z_{3} + d\\\\a x_{4} + b y_{4} + c z_{4} + d\\\\a x_{5} + b y_{5} + c z_{5} + d\\\\a x_{6} + b y_{6} + c z_{6} + d\\\\a x_{7} + b y_{7} + c z_{7} + d\\\\a x_{8} + b y_{8} + c z_{8} + d\\\\a x_{9} + b y_{9} + c z_{9} + d\\\\a x_{10} + b y_{10} + c z_{10} + d\\end{matrix}\\right]$"
          },
          "metadata": {},
          "execution_count": 251
        }
      ],
      "source": [
        "vetorleitura1 = sp.Matrix([x1,y1,z1,x2,y2,z2,x3,y3,z3,x4,y4,z4,x5,y5,z5,x6,y6,z6,x7,y7,z7,x8,y8,z8,x9,y9,z9,x10,y10,z10])\n",
        "eq1 = x1*a + y1*b + z1*c + d\n",
        "eq2 = x2*a + y2*b + z2*c + d\n",
        "eq3 = x3*a + y3*b + z3*c + d\n",
        "eq4 = x4*a + y4*b + z4*c + d\n",
        "eq5 = x5*a + y5*b + z5*c + d\n",
        "eq6 = x6*a + y6*b + z6*c + d\n",
        "eq7 = x7*a + y7*b + z7*c + d\n",
        "eq8 = x8*a + y8*b + z8*c + d\n",
        "eq9 = x9*a + y9*b + z9*c + d\n",
        "eq10 = x10*a + y10*b + z10*c + d\n",
        "dicionario2 = {a:alfa[0],b:alfa[1],c:alfa[2],d:alfa[3]}\n",
        "vetorequacao"
      ]
    },
    {
      "cell_type": "markdown",
      "metadata": {
        "id": "2LDVwtcXQDHl"
      },
      "source": [
        "*Matriz B*"
      ]
    },
    {
      "cell_type": "code",
      "execution_count": null,
      "metadata": {
        "id": "lhSPbDLQSwHt",
        "colab": {
          "base_uri": "https://localhost:8080/",
          "height": 240
        },
        "outputId": "2526065d-c7a2-4a43-efa0-62bb2f237cf5"
      },
      "outputs": [
        {
          "output_type": "execute_result",
          "data": {
            "text/plain": [
              "Matrix([\n",
              "[0.781304898801457, 0.56037336708134, -0.0204123363672331,                 0,                0,                   0,                 0,                0,                   0,                 0,                0,                   0,                 0,                0,                   0,                 0,                0,                   0,                 0,                0,                   0,                 0,                0,                   0,                 0,                0,                   0,                 0,                0,                   0],\n",
              "[                0,                0,                   0, 0.781304898801457, 0.56037336708134, -0.0204123363672331,                 0,                0,                   0,                 0,                0,                   0,                 0,                0,                   0,                 0,                0,                   0,                 0,                0,                   0,                 0,                0,                   0,                 0,                0,                   0,                 0,                0,                   0],\n",
              "[                0,                0,                   0,                 0,                0,                   0, 0.781304898801457, 0.56037336708134, -0.0204123363672331,                 0,                0,                   0,                 0,                0,                   0,                 0,                0,                   0,                 0,                0,                   0,                 0,                0,                   0,                 0,                0,                   0,                 0,                0,                   0],\n",
              "[                0,                0,                   0,                 0,                0,                   0,                 0,                0,                   0, 0.781304898801457, 0.56037336708134, -0.0204123363672331,                 0,                0,                   0,                 0,                0,                   0,                 0,                0,                   0,                 0,                0,                   0,                 0,                0,                   0,                 0,                0,                   0],\n",
              "[                0,                0,                   0,                 0,                0,                   0,                 0,                0,                   0,                 0,                0,                   0, 0.781304898801457, 0.56037336708134, -0.0204123363672331,                 0,                0,                   0,                 0,                0,                   0,                 0,                0,                   0,                 0,                0,                   0,                 0,                0,                   0],\n",
              "[                0,                0,                   0,                 0,                0,                   0,                 0,                0,                   0,                 0,                0,                   0,                 0,                0,                   0, 0.781304898801457, 0.56037336708134, -0.0204123363672331,                 0,                0,                   0,                 0,                0,                   0,                 0,                0,                   0,                 0,                0,                   0],\n",
              "[                0,                0,                   0,                 0,                0,                   0,                 0,                0,                   0,                 0,                0,                   0,                 0,                0,                   0,                 0,                0,                   0, 0.781304898801457, 0.56037336708134, -0.0204123363672331,                 0,                0,                   0,                 0,                0,                   0,                 0,                0,                   0],\n",
              "[                0,                0,                   0,                 0,                0,                   0,                 0,                0,                   0,                 0,                0,                   0,                 0,                0,                   0,                 0,                0,                   0,                 0,                0,                   0, 0.781304898801457, 0.56037336708134, -0.0204123363672331,                 0,                0,                   0,                 0,                0,                   0],\n",
              "[                0,                0,                   0,                 0,                0,                   0,                 0,                0,                   0,                 0,                0,                   0,                 0,                0,                   0,                 0,                0,                   0,                 0,                0,                   0,                 0,                0,                   0, 0.781304898801457, 0.56037336708134, -0.0204123363672331,                 0,                0,                   0],\n",
              "[                0,                0,                   0,                 0,                0,                   0,                 0,                0,                   0,                 0,                0,                   0,                 0,                0,                   0,                 0,                0,                   0,                 0,                0,                   0,                 0,                0,                   0,                 0,                0,                   0, 0.781304898801457, 0.56037336708134, -0.0204123363672331]])"
            ],
            "text/latex": "$\\displaystyle \\left[\\begin{array}{cccccccccccccccccccccccccccccc}0.781304898801457 & 0.56037336708134 & -0.0204123363672331 & 0 & 0 & 0 & 0 & 0 & 0 & 0 & 0 & 0 & 0 & 0 & 0 & 0 & 0 & 0 & 0 & 0 & 0 & 0 & 0 & 0 & 0 & 0 & 0 & 0 & 0 & 0\\\\0 & 0 & 0 & 0.781304898801457 & 0.56037336708134 & -0.0204123363672331 & 0 & 0 & 0 & 0 & 0 & 0 & 0 & 0 & 0 & 0 & 0 & 0 & 0 & 0 & 0 & 0 & 0 & 0 & 0 & 0 & 0 & 0 & 0 & 0\\\\0 & 0 & 0 & 0 & 0 & 0 & 0.781304898801457 & 0.56037336708134 & -0.0204123363672331 & 0 & 0 & 0 & 0 & 0 & 0 & 0 & 0 & 0 & 0 & 0 & 0 & 0 & 0 & 0 & 0 & 0 & 0 & 0 & 0 & 0\\\\0 & 0 & 0 & 0 & 0 & 0 & 0 & 0 & 0 & 0.781304898801457 & 0.56037336708134 & -0.0204123363672331 & 0 & 0 & 0 & 0 & 0 & 0 & 0 & 0 & 0 & 0 & 0 & 0 & 0 & 0 & 0 & 0 & 0 & 0\\\\0 & 0 & 0 & 0 & 0 & 0 & 0 & 0 & 0 & 0 & 0 & 0 & 0.781304898801457 & 0.56037336708134 & -0.0204123363672331 & 0 & 0 & 0 & 0 & 0 & 0 & 0 & 0 & 0 & 0 & 0 & 0 & 0 & 0 & 0\\\\0 & 0 & 0 & 0 & 0 & 0 & 0 & 0 & 0 & 0 & 0 & 0 & 0 & 0 & 0 & 0.781304898801457 & 0.56037336708134 & -0.0204123363672331 & 0 & 0 & 0 & 0 & 0 & 0 & 0 & 0 & 0 & 0 & 0 & 0\\\\0 & 0 & 0 & 0 & 0 & 0 & 0 & 0 & 0 & 0 & 0 & 0 & 0 & 0 & 0 & 0 & 0 & 0 & 0.781304898801457 & 0.56037336708134 & -0.0204123363672331 & 0 & 0 & 0 & 0 & 0 & 0 & 0 & 0 & 0\\\\0 & 0 & 0 & 0 & 0 & 0 & 0 & 0 & 0 & 0 & 0 & 0 & 0 & 0 & 0 & 0 & 0 & 0 & 0 & 0 & 0 & 0.781304898801457 & 0.56037336708134 & -0.0204123363672331 & 0 & 0 & 0 & 0 & 0 & 0\\\\0 & 0 & 0 & 0 & 0 & 0 & 0 & 0 & 0 & 0 & 0 & 0 & 0 & 0 & 0 & 0 & 0 & 0 & 0 & 0 & 0 & 0 & 0 & 0 & 0.781304898801457 & 0.56037336708134 & -0.0204123363672331 & 0 & 0 & 0\\\\0 & 0 & 0 & 0 & 0 & 0 & 0 & 0 & 0 & 0 & 0 & 0 & 0 & 0 & 0 & 0 & 0 & 0 & 0 & 0 & 0 & 0 & 0 & 0 & 0 & 0 & 0 & 0.781304898801457 & 0.56037336708134 & -0.0204123363672331\\end{array}\\right]$"
          },
          "metadata": {},
          "execution_count": 252
        }
      ],
      "source": [
        "B = sp.zeros(10,30)\n",
        "for i in range(10):\n",
        "  for j in range(30):\n",
        "      B[i,j] = sp.diff(vetorequacao[i],vetorleitura1[j])\n",
        "B = B.subs(dicionario2)\n",
        "B"
      ]
    },
    {
      "cell_type": "markdown",
      "metadata": {
        "id": "zmiHN1tUDTz0"
      },
      "source": [
        "Matriz W1"
      ]
    },
    {
      "cell_type": "code",
      "execution_count": null,
      "metadata": {
        "id": "DJAyDboYDdUq",
        "colab": {
          "base_uri": "https://localhost:8080/",
          "height": 647
        },
        "outputId": "0ff7aa11-a626-48f0-d3d9-ed07eca7696e"
      },
      "outputs": [
        {
          "output_type": "execute_result",
          "data": {
            "text/plain": [
              "Matrix([\n",
              "[0.768816790958715,                 0,                 0,                 0,                 0,                 0,                0,                0,                0,                 0,                 0,                 0,                 0,                 0,                 0,                 0,                 0,                 0,                0,                0,                0,                0,                0,                0,                0,                0,                0,                0,                0,                0],\n",
              "[                0, 0.768816790958715,                 0,                 0,                 0,                 0,                0,                0,                0,                 0,                 0,                 0,                 0,                 0,                 0,                 0,                 0,                 0,                0,                0,                0,                0,                0,                0,                0,                0,                0,                0,                0,                0],\n",
              "[                0,                 0, 0.768816790958715,                 0,                 0,                 0,                0,                0,                0,                 0,                 0,                 0,                 0,                 0,                 0,                 0,                 0,                 0,                0,                0,                0,                0,                0,                0,                0,                0,                0,                0,                0,                0],\n",
              "[                0,                 0,                 0, 0.681059728938228,                 0,                 0,                0,                0,                0,                 0,                 0,                 0,                 0,                 0,                 0,                 0,                 0,                 0,                0,                0,                0,                0,                0,                0,                0,                0,                0,                0,                0,                0],\n",
              "[                0,                 0,                 0,                 0, 0.681059728938228,                 0,                0,                0,                0,                 0,                 0,                 0,                 0,                 0,                 0,                 0,                 0,                 0,                0,                0,                0,                0,                0,                0,                0,                0,                0,                0,                0,                0],\n",
              "[                0,                 0,                 0,                 0,                 0, 0.681059728938228,                0,                0,                0,                 0,                 0,                 0,                 0,                 0,                 0,                 0,                 0,                 0,                0,                0,                0,                0,                0,                0,                0,                0,                0,                0,                0,                0],\n",
              "[                0,                 0,                 0,                 0,                 0,                 0, 1.22940742562085,                0,                0,                 0,                 0,                 0,                 0,                 0,                 0,                 0,                 0,                 0,                0,                0,                0,                0,                0,                0,                0,                0,                0,                0,                0,                0],\n",
              "[                0,                 0,                 0,                 0,                 0,                 0,                0, 1.22940742562085,                0,                 0,                 0,                 0,                 0,                 0,                 0,                 0,                 0,                 0,                0,                0,                0,                0,                0,                0,                0,                0,                0,                0,                0,                0],\n",
              "[                0,                 0,                 0,                 0,                 0,                 0,                0,                0, 1.22940742562085,                 0,                 0,                 0,                 0,                 0,                 0,                 0,                 0,                 0,                0,                0,                0,                0,                0,                0,                0,                0,                0,                0,                0,                0],\n",
              "[                0,                 0,                 0,                 0,                 0,                 0,                0,                0,                0, 0.838715088484442,                 0,                 0,                 0,                 0,                 0,                 0,                 0,                 0,                0,                0,                0,                0,                0,                0,                0,                0,                0,                0,                0,                0],\n",
              "[                0,                 0,                 0,                 0,                 0,                 0,                0,                0,                0,                 0, 0.838715088484442,                 0,                 0,                 0,                 0,                 0,                 0,                 0,                0,                0,                0,                0,                0,                0,                0,                0,                0,                0,                0,                0],\n",
              "[                0,                 0,                 0,                 0,                 0,                 0,                0,                0,                0,                 0,                 0, 0.838715088484442,                 0,                 0,                 0,                 0,                 0,                 0,                0,                0,                0,                0,                0,                0,                0,                0,                0,                0,                0,                0],\n",
              "[                0,                 0,                 0,                 0,                 0,                 0,                0,                0,                0,                 0,                 0,                 0, 0.726532984597501,                 0,                 0,                 0,                 0,                 0,                0,                0,                0,                0,                0,                0,                0,                0,                0,                0,                0,                0],\n",
              "[                0,                 0,                 0,                 0,                 0,                 0,                0,                0,                0,                 0,                 0,                 0,                 0, 0.726532984597501,                 0,                 0,                 0,                 0,                0,                0,                0,                0,                0,                0,                0,                0,                0,                0,                0,                0],\n",
              "[                0,                 0,                 0,                 0,                 0,                 0,                0,                0,                0,                 0,                 0,                 0,                 0,                 0, 0.726532984597501,                 0,                 0,                 0,                0,                0,                0,                0,                0,                0,                0,                0,                0,                0,                0,                0],\n",
              "[                0,                 0,                 0,                 0,                 0,                 0,                0,                0,                0,                 0,                 0,                 0,                 0,                 0,                 0, 0.717051484296573,                 0,                 0,                0,                0,                0,                0,                0,                0,                0,                0,                0,                0,                0,                0],\n",
              "[                0,                 0,                 0,                 0,                 0,                 0,                0,                0,                0,                 0,                 0,                 0,                 0,                 0,                 0,                 0, 0.717051484296573,                 0,                0,                0,                0,                0,                0,                0,                0,                0,                0,                0,                0,                0],\n",
              "[                0,                 0,                 0,                 0,                 0,                 0,                0,                0,                0,                 0,                 0,                 0,                 0,                 0,                 0,                 0,                 0, 0.717051484296573,                0,                0,                0,                0,                0,                0,                0,                0,                0,                0,                0,                0],\n",
              "[                0,                 0,                 0,                 0,                 0,                 0,                0,                0,                0,                 0,                 0,                 0,                 0,                 0,                 0,                 0,                 0,                 0, 1.70940170940171,                0,                0,                0,                0,                0,                0,                0,                0,                0,                0,                0],\n",
              "[                0,                 0,                 0,                 0,                 0,                 0,                0,                0,                0,                 0,                 0,                 0,                 0,                 0,                 0,                 0,                 0,                 0,                0, 1.70940170940171,                0,                0,                0,                0,                0,                0,                0,                0,                0,                0],\n",
              "[                0,                 0,                 0,                 0,                 0,                 0,                0,                0,                0,                 0,                 0,                 0,                 0,                 0,                 0,                 0,                 0,                 0,                0,                0, 1.70940170940171,                0,                0,                0,                0,                0,                0,                0,                0,                0],\n",
              "[                0,                 0,                 0,                 0,                 0,                 0,                0,                0,                0,                 0,                 0,                 0,                 0,                 0,                 0,                 0,                 0,                 0,                0,                0,                0, 1.85494342422556,                0,                0,                0,                0,                0,                0,                0,                0],\n",
              "[                0,                 0,                 0,                 0,                 0,                 0,                0,                0,                0,                 0,                 0,                 0,                 0,                 0,                 0,                 0,                 0,                 0,                0,                0,                0,                0, 1.85494342422556,                0,                0,                0,                0,                0,                0,                0],\n",
              "[                0,                 0,                 0,                 0,                 0,                 0,                0,                0,                0,                 0,                 0,                 0,                 0,                 0,                 0,                 0,                 0,                 0,                0,                0,                0,                0,                0, 1.85494342422556,                0,                0,                0,                0,                0,                0],\n",
              "[                0,                 0,                 0,                 0,                 0,                 0,                0,                0,                0,                 0,                 0,                 0,                 0,                 0,                 0,                 0,                 0,                 0,                0,                0,                0,                0,                0,                0, 1.49298297999403,                0,                0,                0,                0,                0],\n",
              "[                0,                 0,                 0,                 0,                 0,                 0,                0,                0,                0,                 0,                 0,                 0,                 0,                 0,                 0,                 0,                 0,                 0,                0,                0,                0,                0,                0,                0,                0, 1.49298297999403,                0,                0,                0,                0],\n",
              "[                0,                 0,                 0,                 0,                 0,                 0,                0,                0,                0,                 0,                 0,                 0,                 0,                 0,                 0,                 0,                 0,                 0,                0,                0,                0,                0,                0,                0,                0,                0, 1.49298297999403,                0,                0,                0],\n",
              "[                0,                 0,                 0,                 0,                 0,                 0,                0,                0,                0,                 0,                 0,                 0,                 0,                 0,                 0,                 0,                 0,                 0,                0,                0,                0,                0,                0,                0,                0,                0,                0, 0.72563674624483,                0,                0],\n",
              "[                0,                 0,                 0,                 0,                 0,                 0,                0,                0,                0,                 0,                 0,                 0,                 0,                 0,                 0,                 0,                 0,                 0,                0,                0,                0,                0,                0,                0,                0,                0,                0,                0, 0.72563674624483,                0],\n",
              "[                0,                 0,                 0,                 0,                 0,                 0,                0,                0,                0,                 0,                 0,                 0,                 0,                 0,                 0,                 0,                 0,                 0,                0,                0,                0,                0,                0,                0,                0,                0,                0,                0,                0, 0.72563674624483]])"
            ],
            "text/latex": "$\\displaystyle \\left[\\begin{array}{cccccccccccccccccccccccccccccc}0.768816790958715 & 0 & 0 & 0 & 0 & 0 & 0 & 0 & 0 & 0 & 0 & 0 & 0 & 0 & 0 & 0 & 0 & 0 & 0 & 0 & 0 & 0 & 0 & 0 & 0 & 0 & 0 & 0 & 0 & 0\\\\0 & 0.768816790958715 & 0 & 0 & 0 & 0 & 0 & 0 & 0 & 0 & 0 & 0 & 0 & 0 & 0 & 0 & 0 & 0 & 0 & 0 & 0 & 0 & 0 & 0 & 0 & 0 & 0 & 0 & 0 & 0\\\\0 & 0 & 0.768816790958715 & 0 & 0 & 0 & 0 & 0 & 0 & 0 & 0 & 0 & 0 & 0 & 0 & 0 & 0 & 0 & 0 & 0 & 0 & 0 & 0 & 0 & 0 & 0 & 0 & 0 & 0 & 0\\\\0 & 0 & 0 & 0.681059728938228 & 0 & 0 & 0 & 0 & 0 & 0 & 0 & 0 & 0 & 0 & 0 & 0 & 0 & 0 & 0 & 0 & 0 & 0 & 0 & 0 & 0 & 0 & 0 & 0 & 0 & 0\\\\0 & 0 & 0 & 0 & 0.681059728938228 & 0 & 0 & 0 & 0 & 0 & 0 & 0 & 0 & 0 & 0 & 0 & 0 & 0 & 0 & 0 & 0 & 0 & 0 & 0 & 0 & 0 & 0 & 0 & 0 & 0\\\\0 & 0 & 0 & 0 & 0 & 0.681059728938228 & 0 & 0 & 0 & 0 & 0 & 0 & 0 & 0 & 0 & 0 & 0 & 0 & 0 & 0 & 0 & 0 & 0 & 0 & 0 & 0 & 0 & 0 & 0 & 0\\\\0 & 0 & 0 & 0 & 0 & 0 & 1.22940742562085 & 0 & 0 & 0 & 0 & 0 & 0 & 0 & 0 & 0 & 0 & 0 & 0 & 0 & 0 & 0 & 0 & 0 & 0 & 0 & 0 & 0 & 0 & 0\\\\0 & 0 & 0 & 0 & 0 & 0 & 0 & 1.22940742562085 & 0 & 0 & 0 & 0 & 0 & 0 & 0 & 0 & 0 & 0 & 0 & 0 & 0 & 0 & 0 & 0 & 0 & 0 & 0 & 0 & 0 & 0\\\\0 & 0 & 0 & 0 & 0 & 0 & 0 & 0 & 1.22940742562085 & 0 & 0 & 0 & 0 & 0 & 0 & 0 & 0 & 0 & 0 & 0 & 0 & 0 & 0 & 0 & 0 & 0 & 0 & 0 & 0 & 0\\\\0 & 0 & 0 & 0 & 0 & 0 & 0 & 0 & 0 & 0.838715088484442 & 0 & 0 & 0 & 0 & 0 & 0 & 0 & 0 & 0 & 0 & 0 & 0 & 0 & 0 & 0 & 0 & 0 & 0 & 0 & 0\\\\0 & 0 & 0 & 0 & 0 & 0 & 0 & 0 & 0 & 0 & 0.838715088484442 & 0 & 0 & 0 & 0 & 0 & 0 & 0 & 0 & 0 & 0 & 0 & 0 & 0 & 0 & 0 & 0 & 0 & 0 & 0\\\\0 & 0 & 0 & 0 & 0 & 0 & 0 & 0 & 0 & 0 & 0 & 0.838715088484442 & 0 & 0 & 0 & 0 & 0 & 0 & 0 & 0 & 0 & 0 & 0 & 0 & 0 & 0 & 0 & 0 & 0 & 0\\\\0 & 0 & 0 & 0 & 0 & 0 & 0 & 0 & 0 & 0 & 0 & 0 & 0.726532984597501 & 0 & 0 & 0 & 0 & 0 & 0 & 0 & 0 & 0 & 0 & 0 & 0 & 0 & 0 & 0 & 0 & 0\\\\0 & 0 & 0 & 0 & 0 & 0 & 0 & 0 & 0 & 0 & 0 & 0 & 0 & 0.726532984597501 & 0 & 0 & 0 & 0 & 0 & 0 & 0 & 0 & 0 & 0 & 0 & 0 & 0 & 0 & 0 & 0\\\\0 & 0 & 0 & 0 & 0 & 0 & 0 & 0 & 0 & 0 & 0 & 0 & 0 & 0 & 0.726532984597501 & 0 & 0 & 0 & 0 & 0 & 0 & 0 & 0 & 0 & 0 & 0 & 0 & 0 & 0 & 0\\\\0 & 0 & 0 & 0 & 0 & 0 & 0 & 0 & 0 & 0 & 0 & 0 & 0 & 0 & 0 & 0.717051484296573 & 0 & 0 & 0 & 0 & 0 & 0 & 0 & 0 & 0 & 0 & 0 & 0 & 0 & 0\\\\0 & 0 & 0 & 0 & 0 & 0 & 0 & 0 & 0 & 0 & 0 & 0 & 0 & 0 & 0 & 0 & 0.717051484296573 & 0 & 0 & 0 & 0 & 0 & 0 & 0 & 0 & 0 & 0 & 0 & 0 & 0\\\\0 & 0 & 0 & 0 & 0 & 0 & 0 & 0 & 0 & 0 & 0 & 0 & 0 & 0 & 0 & 0 & 0 & 0.717051484296573 & 0 & 0 & 0 & 0 & 0 & 0 & 0 & 0 & 0 & 0 & 0 & 0\\\\0 & 0 & 0 & 0 & 0 & 0 & 0 & 0 & 0 & 0 & 0 & 0 & 0 & 0 & 0 & 0 & 0 & 0 & 1.70940170940171 & 0 & 0 & 0 & 0 & 0 & 0 & 0 & 0 & 0 & 0 & 0\\\\0 & 0 & 0 & 0 & 0 & 0 & 0 & 0 & 0 & 0 & 0 & 0 & 0 & 0 & 0 & 0 & 0 & 0 & 0 & 1.70940170940171 & 0 & 0 & 0 & 0 & 0 & 0 & 0 & 0 & 0 & 0\\\\0 & 0 & 0 & 0 & 0 & 0 & 0 & 0 & 0 & 0 & 0 & 0 & 0 & 0 & 0 & 0 & 0 & 0 & 0 & 0 & 1.70940170940171 & 0 & 0 & 0 & 0 & 0 & 0 & 0 & 0 & 0\\\\0 & 0 & 0 & 0 & 0 & 0 & 0 & 0 & 0 & 0 & 0 & 0 & 0 & 0 & 0 & 0 & 0 & 0 & 0 & 0 & 0 & 1.85494342422556 & 0 & 0 & 0 & 0 & 0 & 0 & 0 & 0\\\\0 & 0 & 0 & 0 & 0 & 0 & 0 & 0 & 0 & 0 & 0 & 0 & 0 & 0 & 0 & 0 & 0 & 0 & 0 & 0 & 0 & 0 & 1.85494342422556 & 0 & 0 & 0 & 0 & 0 & 0 & 0\\\\0 & 0 & 0 & 0 & 0 & 0 & 0 & 0 & 0 & 0 & 0 & 0 & 0 & 0 & 0 & 0 & 0 & 0 & 0 & 0 & 0 & 0 & 0 & 1.85494342422556 & 0 & 0 & 0 & 0 & 0 & 0\\\\0 & 0 & 0 & 0 & 0 & 0 & 0 & 0 & 0 & 0 & 0 & 0 & 0 & 0 & 0 & 0 & 0 & 0 & 0 & 0 & 0 & 0 & 0 & 0 & 1.49298297999403 & 0 & 0 & 0 & 0 & 0\\\\0 & 0 & 0 & 0 & 0 & 0 & 0 & 0 & 0 & 0 & 0 & 0 & 0 & 0 & 0 & 0 & 0 & 0 & 0 & 0 & 0 & 0 & 0 & 0 & 0 & 1.49298297999403 & 0 & 0 & 0 & 0\\\\0 & 0 & 0 & 0 & 0 & 0 & 0 & 0 & 0 & 0 & 0 & 0 & 0 & 0 & 0 & 0 & 0 & 0 & 0 & 0 & 0 & 0 & 0 & 0 & 0 & 0 & 1.49298297999403 & 0 & 0 & 0\\\\0 & 0 & 0 & 0 & 0 & 0 & 0 & 0 & 0 & 0 & 0 & 0 & 0 & 0 & 0 & 0 & 0 & 0 & 0 & 0 & 0 & 0 & 0 & 0 & 0 & 0 & 0 & 0.72563674624483 & 0 & 0\\\\0 & 0 & 0 & 0 & 0 & 0 & 0 & 0 & 0 & 0 & 0 & 0 & 0 & 0 & 0 & 0 & 0 & 0 & 0 & 0 & 0 & 0 & 0 & 0 & 0 & 0 & 0 & 0 & 0.72563674624483 & 0\\\\0 & 0 & 0 & 0 & 0 & 0 & 0 & 0 & 0 & 0 & 0 & 0 & 0 & 0 & 0 & 0 & 0 & 0 & 0 & 0 & 0 & 0 & 0 & 0 & 0 & 0 & 0 & 0 & 0 & 0.72563674624483\\end{array}\\right]$"
          },
          "metadata": {},
          "execution_count": 253
        }
      ],
      "source": [
        "Val = np.array([Var[0],Var[0],Var[0],Var[1],Var[1],Var[1],Var[2],Var[2],Var[2],Var[3],Var[3],Var[3],Var[4],Var[4],Var[4],Var[5],Var[5],Var[5],Var[6],Var[6],Var[6],Var[7],Var[7],Var[7],Var[8],Var[8],Var[8],Var[9],Var[9],Var[9]])\n",
        "mident = np.eye(30)\n",
        "in_W1 = Val*mident\n",
        "in_W1 = sp.Matrix(in_W1)\n",
        "W1 = in_W1.inv()\n",
        "W1"
      ]
    },
    {
      "cell_type": "markdown",
      "metadata": {
        "id": "-iLX-iloaE83"
      },
      "source": [
        "*Matriz M*"
      ]
    },
    {
      "cell_type": "markdown",
      "metadata": {
        "id": "oi1Qv5J5f8sf"
      },
      "source": [
        "$M = BW_1^{-1}B^{T}$"
      ]
    },
    {
      "cell_type": "code",
      "execution_count": null,
      "metadata": {
        "id": "jdaEULtoWwvo",
        "colab": {
          "base_uri": "https://localhost:8080/",
          "height": 240
        },
        "outputId": "03b70e9e-e12f-4cc3-944f-44fa06566824"
      },
      "outputs": [
        {
          "output_type": "execute_result",
          "data": {
            "text/plain": [
              "Matrix([\n",
              "[1.20298142519479,                0,                 0,               0,                0,                0,                 0,                 0,                 0,                0],\n",
              "[               0, 1.35799002584264,                 0,               0,                0,                0,                 0,                 0,                 0,                0],\n",
              "[               0,                0, 0.752291144194238,               0,                0,                0,                 0,                 0,                 0,                0],\n",
              "[               0,                0,                 0, 1.1027252658259,                0,                0,                 0,                 0,                 0,                0],\n",
              "[               0,                0,                 0,               0, 1.27299425973562,                0,                 0,                 0,                 0,                0],\n",
              "[               0,                0,                 0,               0,                0, 1.28982693593962,                 0,                 0,                 0,                0],\n",
              "[               0,                0,                 0,               0,                0,                0, 0.541050306557204,                 0,                 0,                0],\n",
              "[               0,                0,                 0,               0,                0,                0,                 0, 0.498598667119638,                 0,                0],\n",
              "[               0,                0,                 0,               0,                0,                0,                 0,                 0, 0.619479479200026,                0],\n",
              "[               0,                0,                 0,               0,                0,                0,                 0,                 0,                 0, 1.27456654267775]])"
            ],
            "text/latex": "$\\displaystyle \\left[\\begin{matrix}1.20298142519479 & 0 & 0 & 0 & 0 & 0 & 0 & 0 & 0 & 0\\\\0 & 1.35799002584264 & 0 & 0 & 0 & 0 & 0 & 0 & 0 & 0\\\\0 & 0 & 0.752291144194238 & 0 & 0 & 0 & 0 & 0 & 0 & 0\\\\0 & 0 & 0 & 1.1027252658259 & 0 & 0 & 0 & 0 & 0 & 0\\\\0 & 0 & 0 & 0 & 1.27299425973562 & 0 & 0 & 0 & 0 & 0\\\\0 & 0 & 0 & 0 & 0 & 1.28982693593962 & 0 & 0 & 0 & 0\\\\0 & 0 & 0 & 0 & 0 & 0 & 0.541050306557204 & 0 & 0 & 0\\\\0 & 0 & 0 & 0 & 0 & 0 & 0 & 0.498598667119638 & 0 & 0\\\\0 & 0 & 0 & 0 & 0 & 0 & 0 & 0 & 0.619479479200026 & 0\\\\0 & 0 & 0 & 0 & 0 & 0 & 0 & 0 & 0 & 1.27456654267775\\end{matrix}\\right]$"
          },
          "metadata": {},
          "execution_count": 254
        }
      ],
      "source": [
        "M = B @ W1.inv() @ B.T\n",
        "M"
      ]
    },
    {
      "cell_type": "markdown",
      "source": [
        "Cálculo do Vetor de Correções $X$\n",
        "\n",
        "$\n",
        "X = - (A^T M^{-1} A)^{-1} A^T M^{-1} ε\n",
        "$"
      ],
      "metadata": {
        "id": "4ni0S6fsWnQb"
      }
    },
    {
      "cell_type": "code",
      "source": [
        "X = -(A.T @ M.inv() @ A).inv() @ A.T @ M.inv() @ e"
      ],
      "metadata": {
        "id": "0sO5pRY3Vc08"
      },
      "execution_count": null,
      "outputs": []
    },
    {
      "cell_type": "markdown",
      "source": [
        "Parâmetros ajustados $X_a$"
      ],
      "metadata": {
        "id": "APqm_HPRZTry"
      }
    },
    {
      "cell_type": "code",
      "source": [
        "Xa = alfa + X\n",
        "Xa"
      ],
      "metadata": {
        "colab": {
          "base_uri": "https://localhost:8080/",
          "height": 98
        },
        "id": "aO55xQEzZYrs",
        "outputId": "93ded984-6f39-4795-c739-4e5966c493e2"
      },
      "execution_count": null,
      "outputs": [
        {
          "output_type": "execute_result",
          "data": {
            "text/plain": [
              "Matrix([\n",
              "[  0.781304898801458],\n",
              "[   0.56037336708134],\n",
              "[-0.0204123363672267],\n",
              "[  -9.98405015783112]])"
            ],
            "text/latex": "$\\displaystyle \\left[\\begin{matrix}0.781304898801458\\\\0.56037336708134\\\\-0.0204123363672267\\\\-9.98405015783112\\end{matrix}\\right]$"
          },
          "metadata": {},
          "execution_count": 256
        }
      ]
    },
    {
      "cell_type": "markdown",
      "metadata": {
        "id": "JlpAFy40aWpz"
      },
      "source": [
        "Vetor dos lagrangianos $K$"
      ]
    },
    {
      "cell_type": "markdown",
      "metadata": {
        "id": "KIpeUFH4a4hj"
      },
      "source": [
        "$K = -M^{-1}(AX+ε)$"
      ]
    },
    {
      "cell_type": "code",
      "execution_count": null,
      "metadata": {
        "id": "DEGwP2ynaciM",
        "colab": {
          "base_uri": "https://localhost:8080/",
          "height": 220
        },
        "outputId": "261a0847-fdd7-4204-dbf0-99d53c448121"
      },
      "outputs": [
        {
          "output_type": "execute_result",
          "data": {
            "text/plain": [
              "Matrix([\n",
              "[ 0.159147493777044],\n",
              "[  0.64398862227566],\n",
              "[ 0.578238526026298],\n",
              "[ 0.113704363318048],\n",
              "[ 0.990930628828163],\n",
              "[-0.367959836788523],\n",
              "[ -0.54688187885823],\n",
              "[-0.176851707755304],\n",
              "[ -1.67627506236001],\n",
              "[ 0.281958851536848]])"
            ],
            "text/latex": "$\\displaystyle \\left[\\begin{matrix}0.159147493777044\\\\0.64398862227566\\\\0.578238526026298\\\\0.113704363318048\\\\0.990930628828163\\\\-0.367959836788523\\\\-0.54688187885823\\\\-0.176851707755304\\\\-1.67627506236001\\\\0.281958851536848\\end{matrix}\\right]$"
          },
          "metadata": {},
          "execution_count": 257
        }
      ],
      "source": [
        "K = -M.inv() @ ((A @ X) + e)\n",
        "K"
      ]
    },
    {
      "cell_type": "markdown",
      "metadata": {
        "id": "iIIZzaoNO2V_"
      },
      "source": [
        "Vetor Resíduos $V$"
      ]
    },
    {
      "cell_type": "markdown",
      "metadata": {
        "id": "sv02Z0v-azwT"
      },
      "source": [
        "$V = W_1^{-1}B^{T}K$"
      ]
    },
    {
      "cell_type": "code",
      "execution_count": null,
      "metadata": {
        "id": "Em1Sc-cwas3D",
        "colab": {
          "base_uri": "https://localhost:8080/",
          "height": 627
        },
        "outputId": "d718685c-6c0a-4e33-93b6-f04ea1ba7208"
      },
      "outputs": [
        {
          "output_type": "execute_result",
          "data": {
            "text/plain": [
              "Matrix([\n",
              "[   0.161732571377537],\n",
              "[   0.115999049447384],\n",
              "[-0.00422541782799539],\n",
              "[   0.738777296582765],\n",
              "[   0.529871400837762],\n",
              "[  -0.019301262159569],\n",
              "[    0.36747833439507],\n",
              "[     0.2635655707398],\n",
              "[-0.00960072230552962],\n",
              "[   0.105921280414809],\n",
              "[   0.075969656202932],\n",
              "[-0.00276729457039347],\n",
              "[    1.06563496921584],\n",
              "[   0.764302715489372],\n",
              "[ -0.0278407308973592],\n",
              "[  -0.400931912618637],\n",
              "[  -0.287559397348103],\n",
              "[  0.0104747289736492],\n",
              "[  -0.249959672245343],\n",
              "[   -0.17927795331316],\n",
              "[ 0.00653043506567318],\n",
              "[ -0.0744901994454685],\n",
              "[ -0.0534264202641653],\n",
              "[ 0.00194612757385202],\n",
              "[  -0.877224948650006],\n",
              "[  -0.629169865588769],\n",
              "[  0.0229183392412377],\n",
              "[   0.303589686032582],\n",
              "[   0.217742874560519],\n",
              "[  -0.007931570374672]])"
            ],
            "text/latex": "$\\displaystyle \\left[\\begin{matrix}0.161732571377537\\\\0.115999049447384\\\\-0.00422541782799539\\\\0.738777296582765\\\\0.529871400837762\\\\-0.019301262159569\\\\0.36747833439507\\\\0.2635655707398\\\\-0.00960072230552962\\\\0.105921280414809\\\\0.075969656202932\\\\-0.00276729457039347\\\\1.06563496921584\\\\0.764302715489372\\\\-0.0278407308973592\\\\-0.400931912618637\\\\-0.287559397348103\\\\0.0104747289736492\\\\-0.249959672245343\\\\-0.17927795331316\\\\0.00653043506567318\\\\-0.0744901994454685\\\\-0.0534264202641653\\\\0.00194612757385202\\\\-0.877224948650006\\\\-0.629169865588769\\\\0.0229183392412377\\\\0.303589686032582\\\\0.217742874560519\\\\-0.007931570374672\\end{matrix}\\right]$"
          },
          "metadata": {},
          "execution_count": 258
        }
      ],
      "source": [
        "V = W1.inv() @ B.T @ K\n",
        "V"
      ]
    },
    {
      "cell_type": "markdown",
      "source": [
        "Vetor $L_a$"
      ],
      "metadata": {
        "id": "KYe7WeH0gA7c"
      }
    },
    {
      "cell_type": "code",
      "source": [
        "Za = Z + V\n",
        "Za"
      ],
      "metadata": {
        "colab": {
          "base_uri": "https://localhost:8080/",
          "height": 627
        },
        "id": "a2IzYPqfgAIZ",
        "outputId": "0afecee6-c94d-4452-f46f-847287db1ee7"
      },
      "execution_count": null,
      "outputs": [
        {
          "output_type": "execute_result",
          "data": {
            "text/plain": [
              "Matrix([\n",
              "[-1.49786742862246],\n",
              "[-1.50010095055262],\n",
              "[   3.137274582172],\n",
              "[ 5.14527729658276],\n",
              "[ 4.23427140083776],\n",
              "[ 2.69899873784043],\n",
              "[-9.63022166560493],\n",
              "[ -5.6474344292602],\n",
              "[ 1.60839927769447],\n",
              "[-3.84737871958519],\n",
              "[ 7.63826965620293],\n",
              "[ 2.23333270542961],\n",
              "[-5.99926503078416],\n",
              "[-8.68789728451063],\n",
              "[ 3.57775926910264],\n",
              "[-8.55413191261864],\n",
              "[  3.1218406026519],\n",
              "[ 1.74257472897365],\n",
              "[-6.52475967224534],\n",
              "[-1.83317795331316],\n",
              "[ 2.65233043506567],\n",
              "[-3.16329019944547],\n",
              "[ 1.12037357973583],\n",
              "[ 3.31854612757385],\n",
              "[-2.94192494865001],\n",
              "[-7.82146986558877],\n",
              "[ 2.85131833924124],\n",
              "[ 1.07988968603258],\n",
              "[-5.82025712543948],\n",
              "[ 1.40626842962533]])"
            ],
            "text/latex": "$\\displaystyle \\left[\\begin{matrix}-1.49786742862246\\\\-1.50010095055262\\\\3.137274582172\\\\5.14527729658276\\\\4.23427140083776\\\\2.69899873784043\\\\-9.63022166560493\\\\-5.6474344292602\\\\1.60839927769447\\\\-3.84737871958519\\\\7.63826965620293\\\\2.23333270542961\\\\-5.99926503078416\\\\-8.68789728451063\\\\3.57775926910264\\\\-8.55413191261864\\\\3.1218406026519\\\\1.74257472897365\\\\-6.52475967224534\\\\-1.83317795331316\\\\2.65233043506567\\\\-3.16329019944547\\\\1.12037357973583\\\\3.31854612757385\\\\-2.94192494865001\\\\-7.82146986558877\\\\2.85131833924124\\\\1.07988968603258\\\\-5.82025712543948\\\\1.40626842962533\\end{matrix}\\right]$"
          },
          "metadata": {},
          "execution_count": 259
        }
      ]
    },
    {
      "cell_type": "markdown",
      "metadata": {
        "id": "yrUfMmPKUZCp"
      },
      "source": [
        "**Iterações**"
      ]
    },
    {
      "cell_type": "code",
      "execution_count": null,
      "metadata": {
        "id": "nAd3FN3WUX0J"
      },
      "outputs": [],
      "source": [
        "#OBS.: As iterações não estão fazendo as coordenadas convergirem; só o parâmetros que convergem.\n",
        "#n = 0\n",
        "#while abs(Za[0] - Z0[0]) > 0.001:\n",
        "# A = sp.zeros(10,4)\n",
        "# for i in range(10):\n",
        "#    for j in range(4):\n",
        "#     A[i,j] = sp.diff(vetorequacao[i],vetorparametro[j])\n",
        "# dicionario1 = {x1:Z[0], y1:Z[1], z1:Z[2],x2:Z[3], y2:Z[4], z2:Z[5],x3:Z[6], y3:Z[7], z3:Z[8],x4:Z[9], y4:Z[10], z4:Z[11],x5:Z[12], y5:Z[13], z5:Z[14],x6:Z[15], y6:Z[16], z6:Z[17],x7:Z[18], y7:Z[19], z7:Z[20],x8:Z[21], y8:Z[22], z8:Z[23],x9:Z[24], y9:Z[25], z9:Z[26],x10:Z[27], y10:Z[28], z10:Z[29]}\n",
        "# A = A.subs(dicionario1)\n",
        "\n",
        "# alfa = (A.T @ W @ A).inv() @ A.T @ W @ L\n",
        "\n",
        "# e = L - (A @ alfa)\n",
        "\n",
        "# B = sp.zeros(10,30)\n",
        "# for i in range(10):\n",
        "#    for j in range(30):\n",
        "#      B[i,j] = sp.diff(vetorequacao[i],vetorleitura1[j])\n",
        "# dicionario2 = {a:alfa[0],b:alfa[1],c:alfa[2],d:alfa[3]}\n",
        "# B = B.subs(dicionario2)\n",
        "\n",
        "# M = B @ W1.inv() @ B.T\n",
        "\n",
        "# X = -(A.T @ M.inv() @ A).inv() @ A.T @ M.inv() @ e\n",
        "# Xa = alfa + X\n",
        "\n",
        "# K = -M.inv() @ ((A @ X) + e)\n",
        "\n",
        "# V = W1.inv() @ B.T @ K\n",
        "\n",
        "# Za = Z + V\n",
        "\n",
        "# n = n + 1\n",
        "# Z0 = Z\n",
        "# Z = Za"
      ]
    },
    {
      "cell_type": "markdown",
      "source": [
        "Seguindo, sem as iterações:"
      ],
      "metadata": {
        "id": "EpqXRh_2BZP1"
      }
    },
    {
      "cell_type": "markdown",
      "source": [
        "*Teste do Qui-Quadrado*"
      ],
      "metadata": {
        "id": "9L8PpEgT81gn"
      }
    },
    {
      "cell_type": "markdown",
      "source": [
        "$𝞼_{posteriore}^{2} = \\frac{V^TWV}{r-u}$"
      ],
      "metadata": {
        "id": "ykQ8ZeAd89Jy"
      }
    },
    {
      "cell_type": "code",
      "execution_count": null,
      "metadata": {
        "id": "_ZY76Klh7L12",
        "colab": {
          "base_uri": "https://localhost:8080/",
          "height": 39
        },
        "outputId": "03b9a200-5b06-4691-ee41-af3e472682f3"
      },
      "outputs": [
        {
          "output_type": "execute_result",
          "data": {
            "text/plain": [
              "Matrix([[0.165519535414691]])"
            ],
            "text/latex": "$\\displaystyle \\left[\\begin{matrix}0.165519535414691\\end{matrix}\\right]$"
          },
          "metadata": {},
          "execution_count": 261
        }
      ],
      "source": [
        "VTPV = (V.T @ W1 @ V)/(30-4)\n",
        "VTPV"
      ]
    },
    {
      "cell_type": "markdown",
      "metadata": {
        "id": "rdBb7FOcbbNj"
      },
      "source": [
        "Média dos Resíduos"
      ]
    },
    {
      "cell_type": "code",
      "execution_count": null,
      "metadata": {
        "id": "Sso52QSycSzU",
        "colab": {
          "base_uri": "https://localhost:8080/",
          "height": 37
        },
        "outputId": "43d623cb-0112-4811-b4b9-51805dc76736"
      },
      "outputs": [
        {
          "output_type": "execute_result",
          "data": {
            "text/plain": [
              "0.0642915889513872"
            ],
            "text/latex": "$\\displaystyle 0.0642915889513872$"
          },
          "metadata": {},
          "execution_count": 262
        }
      ],
      "source": [
        "mediav = (1/30)*(V[0]+V[1]+V[2]+V[3]+V[4]+V[5]+V[6]+V[7]+V[8]+V[9]+V[10]+V[11]+V[12]+V[13]+V[14]+V[15]+V[16]+V[17]+V[18]+V[19]+V[20]+V[21]+V[22]+V[23]+V[24]+V[25]+V[26]+V[27]+V[28]+V[29])\n",
        "mediav"
      ]
    },
    {
      "cell_type": "markdown",
      "metadata": {
        "id": "nAY_Q20PdyVf"
      },
      "source": [
        "*Desvio padrão do Resíduos*"
      ]
    },
    {
      "cell_type": "markdown",
      "source": [
        "$𝜎_V = \\sqrt{\\frac{1}{n}\\sum(V_i-V_{médio})^2}$"
      ],
      "metadata": {
        "id": "WRLT1ejRB58b"
      }
    },
    {
      "cell_type": "code",
      "execution_count": null,
      "metadata": {
        "id": "6BwARa7Sd6Ta",
        "colab": {
          "base_uri": "https://localhost:8080/"
        },
        "outputId": "5f4b1e75-0c18-4883-ccd2-b346140eaf78"
      },
      "outputs": [
        {
          "output_type": "execute_result",
          "data": {
            "text/plain": [
              "0.38021169325213483"
            ]
          },
          "metadata": {},
          "execution_count": 263
        }
      ],
      "source": [
        "dpv = mt.sqrt((1/30)*(((V[0]-mediav)**2)+((V[1]-mediav)**2)+((V[2]-mediav)**2)+((V[3]-mediav)**2)+((V[4]-mediav)**2)+((V[5]-mediav)**2)+((V[6]-mediav)**2)+((V[7]-mediav)**2)+((V[8]-mediav)**2)+((V[9]-mediav)**2)+((V[10]-mediav)**2)+((V[11]-mediav)**2)+((V[12]-mediav)**2)+((V[13]-mediav)**2)+((V[14]-mediav)**2)+((V[15]-mediav)**2)+((V[16]-mediav)**2)+((V[17]-mediav)**2)+((V[18]-mediav)**2)+((V[19]-mediav)**2)+((V[20]-mediav)**2)+((V[21]-mediav)**2)+((V[22]-mediav)**2)+((V[23]-mediav)**2)+((V[24]-mediav)**2)+((V[25]-mediav)**2)+((V[26]-mediav)**2)+((V[27]-mediav)**2)+((V[28]-mediav)**2)+((V[29]-mediav)**2)))\n",
        "dpv"
      ]
    },
    {
      "cell_type": "markdown",
      "metadata": {
        "id": "fBu2F_zzg6Sr"
      },
      "source": [
        "*Resíduos Padronizados $S$*"
      ]
    },
    {
      "cell_type": "markdown",
      "metadata": {
        "id": "Sqg0hvwthEU5"
      },
      "source": [
        "$S = \\frac{V}{σ_V}$"
      ]
    },
    {
      "cell_type": "code",
      "execution_count": null,
      "metadata": {
        "id": "NYKTlzMfdx2v",
        "colab": {
          "base_uri": "https://localhost:8080/",
          "height": 627
        },
        "outputId": "9b4da1ab-8c7b-4549-9f71-0884fb6debc5"
      },
      "outputs": [
        {
          "output_type": "execute_result",
          "data": {
            "text/plain": [
              "Matrix([\n",
              "[   0.425375058810421],\n",
              "[    0.30509069422665],\n",
              "[ -0.0111133295029759],\n",
              "[    1.94306832139655],\n",
              "[    1.39362205382353],\n",
              "[ -0.0507645148797923],\n",
              "[   0.966509817864489],\n",
              "[   0.693207430011939],\n",
              "[  -0.025250991686789],\n",
              "[   0.278585015386594],\n",
              "[   0.199808836895906],\n",
              "[-0.00727829948291032],\n",
              "[      2.802741178476],\n",
              "[    2.01020307648068],\n",
              "[ -0.0732242889723458],\n",
              "[    -1.0544965337317],\n",
              "[   -0.75631392314231],\n",
              "[  0.0275497286368386],\n",
              "[  -0.657422369384058],\n",
              "[  -0.471521408980637],\n",
              "[  0.0171757870196343],\n",
              "[   -0.19591769734465],\n",
              "[  -0.140517562222201],\n",
              "[ 0.00511853687929966],\n",
              "[   -2.30720139390421],\n",
              "[   -1.65478831070968],\n",
              "[  0.0602778390249022],\n",
              "[   0.798475405729457],\n",
              "[   0.572688527009938],\n",
              "[ -0.0208609322528443]])"
            ],
            "text/latex": "$\\displaystyle \\left[\\begin{matrix}0.425375058810421\\\\0.30509069422665\\\\-0.0111133295029759\\\\1.94306832139655\\\\1.39362205382353\\\\-0.0507645148797923\\\\0.966509817864489\\\\0.693207430011939\\\\-0.025250991686789\\\\0.278585015386594\\\\0.199808836895906\\\\-0.00727829948291032\\\\2.802741178476\\\\2.01020307648068\\\\-0.0732242889723458\\\\-1.0544965337317\\\\-0.75631392314231\\\\0.0275497286368386\\\\-0.657422369384058\\\\-0.471521408980637\\\\0.0171757870196343\\\\-0.19591769734465\\\\-0.140517562222201\\\\0.00511853687929966\\\\-2.30720139390421\\\\-1.65478831070968\\\\0.0602778390249022\\\\0.798475405729457\\\\0.572688527009938\\\\-0.0208609322528443\\end{matrix}\\right]$"
          },
          "metadata": {},
          "execution_count": 264
        }
      ],
      "source": [
        "S = V/dpv\n",
        "S"
      ]
    },
    {
      "cell_type": "markdown",
      "metadata": {
        "id": "fo-68b01jKqA"
      },
      "source": [
        "Os erros grosseiros Outliers, pelo método Data Snooping, são aqueles em que: $3σ_V<|s_i|<100σ_V$ . Dessa forma, com os resíduos padronizados em unidades de $𝜎_V$, as observações ajustadas não apresentaram outliers."
      ]
    }
  ],
  "metadata": {
    "colab": {
      "provenance": [],
      "include_colab_link": true
    },
    "kernelspec": {
      "display_name": "Python 3",
      "name": "python3"
    },
    "language_info": {
      "name": "python"
    }
  },
  "nbformat": 4,
  "nbformat_minor": 0
}