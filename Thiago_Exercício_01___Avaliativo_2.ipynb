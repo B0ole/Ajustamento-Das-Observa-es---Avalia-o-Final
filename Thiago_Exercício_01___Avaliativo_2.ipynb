{
  "nbformat": 4,
  "nbformat_minor": 0,
  "metadata": {
    "colab": {
      "provenance": [],
      "include_colab_link": true
    },
    "kernelspec": {
      "name": "python3",
      "display_name": "Python 3"
    },
    "language_info": {
      "name": "python"
    }
  },
  "cells": [
    {
      "cell_type": "markdown",
      "metadata": {
        "id": "view-in-github",
        "colab_type": "text"
      },
      "source": [
        "<a href=\"https://colab.research.google.com/github/B0ole/Ajustamento-Das-Observa-es---Avalia-o-Final/blob/main/Thiago_Exerc%C3%ADcio_01___Avaliativo_2.ipynb\" target=\"_parent\"><img src=\"https://colab.research.google.com/assets/colab-badge.svg\" alt=\"Open In Colab\"/></a>"
      ]
    },
    {
      "cell_type": "markdown",
      "source": [
        "# Problema 1\n",
        "\n",
        "Dado o modelo matemático da equação normal da reta, a saber:\n",
        "\n",
        "$x \\cos(\\theta) + y sen(\\theta) - \\rho = 0 \\tag{A4} $\n",
        "\n",
        "Considere que 2 pontos de coordenadas cartesianas foram observados $ n=10 $ vezes, e para cada observação foram atribuídas variâncias de diferentes qualidades.\n",
        "\n",
        "\n",
        "\n",
        "\n",
        "\n",
        "\n",
        "### Resolução:\n",
        "Baseado na sequência de indagações apresentadas acima, tem-se que:\n",
        "- As medidas observadas são as coordenadas $ x $ e $ y $.\n",
        "- Os parâmetros a serem determinados são os coeficientes $ \\theta $ e $ \\rho $.\n",
        "- O modelo matemático ($F $) é implícito e não linear.\n",
        "\n",
        "| index |       x       |       y       |  rho_observed  |  variance  |\n",
        "|-------|---------------|---------------|----------------|------------|\n",
        "| 0     | 0.9763        | 5.8345        | 0.8671         | 1.4786     |\n",
        "| 1     | 4.3038        | 0.5779        | -2.3941        | 1.2992     |\n",
        "| 2     | 2.0553        | 1.3609        | -0.3588        | 0.9615     |\n",
        "| 3     | 0.8977        | 8.5119        | 0.0078         | 1.2805     |\n",
        "| 4     | -1.5269       | -8.5793       | -12.1102       | 0.6183     |\n",
        "| 5     | 2.9179        | -8.2574       | -8.9755        | 1.1399     |\n",
        "| 6     | -1.2483       | -9.5956       | -11.4384       | 0.6434     |\n",
        "| 7     | 7.8355        | 6.6524        | 7.0105         | 1.4447     |\n",
        "| 8     | 9.2733        | 5.5631        | 5.6475         | 1.0218     |\n",
        "| 9     | -2.3312       | 7.4002        | -1.0540        | 0.9147     |\n",
        "\n"
      ],
      "metadata": {
        "id": "EmrDYRm4hjF7"
      }
    },
    {
      "cell_type": "code",
      "source": [
        "import numpy as np\n",
        "import sympy as sp\n",
        "import math"
      ],
      "metadata": {
        "id": "PHTjOvPlfO9r"
      },
      "execution_count": null,
      "outputs": []
    },
    {
      "cell_type": "markdown",
      "source": [
        "## Perguntas:\n"
      ],
      "metadata": {
        "id": "8-Gay6cOkXe9"
      }
    },
    {
      "cell_type": "markdown",
      "source": [
        "1. Quem são as observações ou medidas e quais os parâmetros a serem determinados?\n",
        "\n",
        ">São as coordenadas $x$ e $y$ com os parâmetros a serem determinados são os coeficientes $ \\theta $ e $ \\rho $\n"
      ],
      "metadata": {
        "id": "Tl3rUgQQkaXs"
      }
    },
    {
      "cell_type": "code",
      "source": [
        "# Dados observados\n",
        "x = np.array([0.9763, 4.3038, 2.0553, 0.8977, -1.5269, 2.9179, -1.2483, 7.8355, 9.2733, -2.3312])\n",
        "y = np.array([5.8345, 0.5779, 1.3609, 8.5119, -8.5793, -8.2574, -9.5956, 6.6524, 5.5631, 7.4002])\n",
        "\n",
        "rho_observado = np.array([0.8671, -2.3941, -0.3588, 0.0078, -12.1102, -8.9755, -11.4384, 7.0105, 5.6475, -1.0540])\n",
        "variancias = np.array([1.4786, 1.2992, 0.9615, 1.2805, 0.6183, 1.1399, 0.6434, 1.4447, 1.0218, 0.9147,])"
      ],
      "metadata": {
        "id": "sZ1_uO0Akm8a"
      },
      "execution_count": null,
      "outputs": []
    },
    {
      "cell_type": "code",
      "source": [
        "Lb = []\n",
        "for i in range(10):\n",
        "    Lb.append(x[i]) # Use append to add elements to the list\n",
        "    Lb.append(y[i]) # Use append to add elements to the list\n",
        "\n",
        "Lb = sp.Matrix(Lb)\n",
        "Lb"
      ],
      "metadata": {
        "colab": {
          "base_uri": "https://localhost:8080/",
          "height": 424
        },
        "id": "NhwCAOzvr5MH",
        "outputId": "c944a143-3995-41de-f2db-b6006a72c8bf"
      },
      "execution_count": null,
      "outputs": [
        {
          "output_type": "execute_result",
          "data": {
            "text/plain": [
              "Matrix([\n",
              "[ 0.9763],\n",
              "[ 5.8345],\n",
              "[ 4.3038],\n",
              "[ 0.5779],\n",
              "[ 2.0553],\n",
              "[ 1.3609],\n",
              "[ 0.8977],\n",
              "[ 8.5119],\n",
              "[-1.5269],\n",
              "[-8.5793],\n",
              "[ 2.9179],\n",
              "[-8.2574],\n",
              "[-1.2483],\n",
              "[-9.5956],\n",
              "[ 7.8355],\n",
              "[ 6.6524],\n",
              "[ 9.2733],\n",
              "[ 5.5631],\n",
              "[-2.3312],\n",
              "[ 7.4002]])"
            ],
            "text/latex": "$\\displaystyle \\left[\\begin{matrix}0.9763\\\\5.8345\\\\4.3038\\\\0.5779\\\\2.0553\\\\1.3609\\\\0.8977\\\\8.5119\\\\-1.5269\\\\-8.5793\\\\2.9179\\\\-8.2574\\\\-1.2483\\\\-9.5956\\\\7.8355\\\\6.6524\\\\9.2733\\\\5.5631\\\\-2.3312\\\\7.4002\\end{matrix}\\right]$"
          },
          "metadata": {},
          "execution_count": 90
        }
      ]
    },
    {
      "cell_type": "code",
      "source": [
        "# Montando a matriz A\n",
        "A = np.column_stack((x, y, -np.ones_like(x)))\n",
        "\n",
        "# Criando a matriz de pesos W (diagonal)\n",
        "W = np.diag(1 / variancias)\n",
        "\n",
        "# Calculando os parâmetros usando mínimos quadrados ponderados (WLS)\n",
        "ATW = A.T @ W\n",
        "parametros = np.linalg.inv(ATW @ A) @ (ATW @ rho_observado)\n",
        "\n",
        "# Separando os parâmetros\n",
        "a1, a2, rho = parametros\n",
        "\n",
        "# Calculando o valor de theta\n",
        "theta_estimate = np.arctan2(a2, a1)  # Theta em radianos\n",
        "\n",
        "# Convertendo theta para graus\n",
        "theta_degrees = np.degrees(theta_estimate)"
      ],
      "metadata": {
        "id": "998EPn61dzto"
      },
      "execution_count": null,
      "outputs": []
    },
    {
      "cell_type": "code",
      "source": [
        "# Exibindo os resultados\n",
        "print(f\"Estimativa de Theta θ (Rad): {theta_estimate}\")\n",
        "print(f\"Estimativa de Theta θ (graus): {theta_degrees}\")\n",
        "print(f\"Estimativa de Rho ρ: {rho}\")"
      ],
      "metadata": {
        "colab": {
          "base_uri": "https://localhost:8080/"
        },
        "id": "c6ZmT9AJfECU",
        "outputId": "ab138cfb-0d96-4703-d122-8e3bc039f339"
      },
      "execution_count": null,
      "outputs": [
        {
          "output_type": "stream",
          "name": "stdout",
          "text": [
            "Estimativa de Theta θ (Rad): 0.7591327590142061\n",
            "Estimativa de Theta θ (graus): 43.495103181635805\n",
            "Estimativa de Rho ρ: 4.580781690428926\n"
          ]
        }
      ]
    },
    {
      "cell_type": "markdown",
      "source": [
        "2. O modelo matemático $ F $ é explícito ou implícito?\n",
        "\n",
        "É implícito.\n"
      ],
      "metadata": {
        "id": "BtVkRlhAkdoM"
      }
    },
    {
      "cell_type": "markdown",
      "source": [
        "3. $ F $ é linear ou não linear?\n",
        "\n",
        "Não linear.\n",
        "\n"
      ],
      "metadata": {
        "id": "rwKPdsAPkgEw"
      }
    },
    {
      "cell_type": "markdown",
      "source": [
        "4. Existe deficiência de posto na matriz das equações normais $ N $?\n",
        "\n",
        "Tem 2 incógnitas a serem determinadas, $𝜃$ e $ρ$, fora isso não foi encontrada deficiência.  \n"
      ],
      "metadata": {
        "id": "Iv9biVsWkjBV"
      }
    },
    {
      "cell_type": "markdown",
      "source": [
        "# AVALIAR A QUALIDADE"
      ],
      "metadata": {
        "id": "S7JMxkPfldBK"
      }
    },
    {
      "cell_type": "markdown",
      "source": [
        "## Calcular os parâmetros\n",
        "$𝜃\n",
        "$ e\n",
        "$\n",
        "ρ$ usando o método dos mínimos quadrados ponderados para obter os parâmetros.\n",
        "\n"
      ],
      "metadata": {
        "id": "IPepJPrrkxBC"
      }
    },
    {
      "cell_type": "code",
      "source": [
        "# Graus minutos segundos\n",
        "def decimal_to_dms(degrees_decimal):\n",
        "    is_positive = degrees_decimal >= 0\n",
        "    degrees_decimal = abs(degrees_decimal)\n",
        "    degrees = int(degrees_decimal)\n",
        "    minutes_decimal = (degrees_decimal - degrees) * 60\n",
        "    minutes = int(minutes_decimal)\n",
        "    seconds = (minutes_decimal - minutes) * 60\n",
        "\n",
        "    if not is_positive:\n",
        "        degrees = -degrees\n",
        "\n",
        "    return degrees, minutes, seconds\n",
        "\n",
        "# Exemplo de uso\n",
        "degrees_decimal = theta_degrees\n",
        "degrees, minutes, seconds = decimal_to_dms(degrees_decimal)\n",
        "\n",
        "graus1 = degrees, minutes, seconds\n",
        "\n",
        "print(f\"Estimativa de Theta: {degrees}° {minutes}' {seconds:.2f}\\\"\")"
      ],
      "metadata": {
        "colab": {
          "base_uri": "https://localhost:8080/"
        },
        "id": "8M7dZamfNRJM",
        "outputId": "4bc00a67-6ebe-4258-cb12-dbbb511d20d7"
      },
      "execution_count": null,
      "outputs": [
        {
          "output_type": "stream",
          "name": "stdout",
          "text": [
            "Estimativa de Theta: 43° 29' 42.37\"\n"
          ]
        }
      ]
    },
    {
      "cell_type": "markdown",
      "source": [
        ">\n",
        "   $$\n",
        "   A = \\begin{pmatrix}\n",
        "    \\frac{\\partial F^1}{\\partial \\theta}  & \\frac{\\partial F^1}{\\partial \\rho}\n",
        " \\\\ \\vdots & \\vdots \\\\\n",
        "\\frac{\\partial F^n}{\\partial \\theta}  & \\frac{\\partial F^n}{\\partial \\rho}\n",
        "   \\end{pmatrix}\n",
        "   $$\n",
        "\n",
        "   >\n",
        "   $$\n",
        "   B = \\begin{pmatrix}\n",
        "    \\frac{\\partial F^1}{\\partial x}  & \\frac{\\partial F^1}{\\partial y}\n",
        " \\\\ \\vdots & \\vdots \\\\\n",
        "\\frac{\\partial F^n}{\\partial x}  & \\frac{\\partial F^n}{\\partial y}\n",
        "   \\end{pmatrix}\n",
        "   $$\n",
        "\n",
        " Equação: $$ xcos(θ)+ysen(θ)−ρ=0$$"
      ],
      "metadata": {
        "id": "CsSA9_M4U2je"
      }
    },
    {
      "cell_type": "code",
      "source": [
        "# Valores do MMQ para Theta Theta2 p\n",
        "X0 = sp.Matrix([theta_estimate,theta_estimate, rho])\n",
        "X0"
      ],
      "metadata": {
        "colab": {
          "base_uri": "https://localhost:8080/",
          "height": 78
        },
        "id": "BG0Un5NtU15c",
        "outputId": "1025dba0-bb15-4242-afa6-96499146a57f"
      },
      "execution_count": null,
      "outputs": [
        {
          "output_type": "execute_result",
          "data": {
            "text/plain": [
              "Matrix([\n",
              "[0.759132759014206],\n",
              "[0.759132759014206],\n",
              "[ 4.58078169042893]])"
            ],
            "text/latex": "$\\displaystyle \\left[\\begin{matrix}0.759132759014206\\\\0.759132759014206\\\\4.58078169042893\\end{matrix}\\right]$"
          },
          "metadata": {},
          "execution_count": 94
        }
      ]
    },
    {
      "cell_type": "code",
      "source": [
        "# Definindo os símbolos para X0, x e y\n",
        "X0_symbols = sp.symbols('X0:10')\n",
        "x_symbols = sp.symbols('x:10')\n",
        "y_symbols = sp.symbols('y:10')\n",
        "\n",
        "vetorvariavelx = sp.Matrix([x_symbols])\n",
        "vetorvariavely = sp.Matrix([y_symbols])\n",
        "\n"
      ],
      "metadata": {
        "id": "YE_IdjnSd4Bl"
      },
      "execution_count": null,
      "outputs": []
    },
    {
      "cell_type": "code",
      "source": [
        "# Criando as equações usando um loop\n",
        "vetor_equacao = sp.Matrix([\n",
        "    ((vetorvariavelx[i] * math.cos(X0[0])) + ((vetorvariavely[i] * math.sin(X0[1]))) - X0[2])\n",
        "    for i in range(10)\n",
        "])\n",
        "\n",
        "vetor_equacao"
      ],
      "metadata": {
        "colab": {
          "base_uri": "https://localhost:8080/",
          "height": 220
        },
        "id": "XpXJtknTq9nu",
        "outputId": "640257be-4f54-418d-f0a0-d622e496bbf1"
      },
      "execution_count": null,
      "outputs": [
        {
          "output_type": "execute_result",
          "data": {
            "text/plain": [
              "Matrix([\n",
              "[0.72543319900213*x0 + 0.688292578621575*y0 - 4.58078169042893],\n",
              "[0.72543319900213*x1 + 0.688292578621575*y1 - 4.58078169042893],\n",
              "[0.72543319900213*x2 + 0.688292578621575*y2 - 4.58078169042893],\n",
              "[0.72543319900213*x3 + 0.688292578621575*y3 - 4.58078169042893],\n",
              "[0.72543319900213*x4 + 0.688292578621575*y4 - 4.58078169042893],\n",
              "[0.72543319900213*x5 + 0.688292578621575*y5 - 4.58078169042893],\n",
              "[0.72543319900213*x6 + 0.688292578621575*y6 - 4.58078169042893],\n",
              "[0.72543319900213*x7 + 0.688292578621575*y7 - 4.58078169042893],\n",
              "[0.72543319900213*x8 + 0.688292578621575*y8 - 4.58078169042893],\n",
              "[0.72543319900213*x9 + 0.688292578621575*y9 - 4.58078169042893]])"
            ],
            "text/latex": "$\\displaystyle \\left[\\begin{matrix}0.72543319900213 x_{0} + 0.688292578621575 y_{0} - 4.58078169042893\\\\0.72543319900213 x_{1} + 0.688292578621575 y_{1} - 4.58078169042893\\\\0.72543319900213 x_{2} + 0.688292578621575 y_{2} - 4.58078169042893\\\\0.72543319900213 x_{3} + 0.688292578621575 y_{3} - 4.58078169042893\\\\0.72543319900213 x_{4} + 0.688292578621575 y_{4} - 4.58078169042893\\\\0.72543319900213 x_{5} + 0.688292578621575 y_{5} - 4.58078169042893\\\\0.72543319900213 x_{6} + 0.688292578621575 y_{6} - 4.58078169042893\\\\0.72543319900213 x_{7} + 0.688292578621575 y_{7} - 4.58078169042893\\\\0.72543319900213 x_{8} + 0.688292578621575 y_{8} - 4.58078169042893\\\\0.72543319900213 x_{9} + 0.688292578621575 y_{9} - 4.58078169042893\\end{matrix}\\right]$"
          },
          "metadata": {},
          "execution_count": 96
        }
      ]
    },
    {
      "cell_type": "code",
      "source": [
        "X0[2]"
      ],
      "metadata": {
        "colab": {
          "base_uri": "https://localhost:8080/",
          "height": 37
        },
        "id": "aCbmwU87JPNy",
        "outputId": "77fe4a50-0d32-42eb-b72c-00c4ce351b3a"
      },
      "execution_count": null,
      "outputs": [
        {
          "output_type": "execute_result",
          "data": {
            "text/plain": [
              "4.58078169042893"
            ],
            "text/latex": "$\\displaystyle 4.58078169042893$"
          },
          "metadata": {},
          "execution_count": 97
        }
      ]
    },
    {
      "cell_type": "code",
      "source": [
        "W = sp.zeros(10, 1)\n",
        "for i in range(10):\n",
        "    W[i, 0] = ((x[i] * math.cos(X0[0])) + ((y[i] * math.sin(X0[1]))) - X0[2])\n",
        "W"
      ],
      "metadata": {
        "colab": {
          "base_uri": "https://localhost:8080/",
          "height": 220
        },
        "id": "Y-KAaOpxI196",
        "outputId": "8b594d67-cb1a-4b7f-90a5-7aaf266d42e1"
      },
      "execution_count": null,
      "outputs": [
        {
          "output_type": "execute_result",
          "data": {
            "text/plain": [
              "Matrix([\n",
              "[0.143301791724432],\n",
              "[-1.06089800737815],\n",
              "[-2.15310146627375],\n",
              "[ 1.92911729228427],\n",
              "[-11.5935141617534],\n",
              "[ -8.1475472977704],\n",
              "[-12.0909202201645],\n",
              "[ 5.68214769037442],\n",
              "[ 5.97541843800721],\n",
              "[-1.17840882362731]])"
            ],
            "text/latex": "$\\displaystyle \\left[\\begin{matrix}0.143301791724432\\\\-1.06089800737815\\\\-2.15310146627375\\\\1.92911729228427\\\\-11.5935141617534\\\\-8.1475472977704\\\\-12.0909202201645\\\\5.68214769037442\\\\5.97541843800721\\\\-1.17840882362731\\end{matrix}\\right]$"
          },
          "metadata": {},
          "execution_count": 98
        }
      ]
    },
    {
      "cell_type": "markdown",
      "source": [
        "$$B_n = (\\frac{\\partial F^n}{\\partial x}  , \\frac{\\partial F^n}{\\partial y})$$"
      ],
      "metadata": {
        "id": "APbHO_QjBNab"
      }
    },
    {
      "cell_type": "code",
      "source": [
        "# Criando a matriz Bx\n",
        "Bx = sp.zeros(10, 10)\n",
        "for i in range(10):\n",
        "    for j in range(10):\n",
        "        Bx[i, j] = sp.diff(vetor_equacao[i], vetorvariavelx[j])\n",
        "\n",
        "# Criando a matriz By\n",
        "By = sp.zeros(10, 10)\n",
        "for i in range(10):\n",
        "    for j in range(10):\n",
        "        By[i, j] = sp.diff(vetor_equacao[i], vetorvariavely[j])\n"
      ],
      "metadata": {
        "id": "r4bheY9isXh9"
      },
      "execution_count": null,
      "outputs": []
    },
    {
      "cell_type": "code",
      "source": [
        "# Criando a matriz B com valores intercalados de Bx e By, 10x20\n",
        "B = sp.zeros(10, 20)\n",
        "for i in range(10):\n",
        "    for j in range(10):\n",
        "        # Preencher posições pares com Bx\n",
        "        B[i, 2 * j] = Bx[i, j]\n",
        "        # Preencher posições ímpares com By\n",
        "        B[i, 2 * j + 1] = By[i, j]\n",
        "\n",
        "B"
      ],
      "metadata": {
        "id": "A-l9aPfUt2eK",
        "colab": {
          "base_uri": "https://localhost:8080/",
          "height": 240
        },
        "outputId": "4b8a2e79-6e60-44f2-ffa8-51c327915912"
      },
      "execution_count": null,
      "outputs": [
        {
          "output_type": "execute_result",
          "data": {
            "text/plain": [
              "Matrix([\n",
              "[0.72543319900213, 0.688292578621575,                0,                 0,                0,                 0,                0,                 0,                0,                 0,                0,                 0,                0,                 0,                0,                 0,                0,                 0,                0,                 0],\n",
              "[               0,                 0, 0.72543319900213, 0.688292578621575,                0,                 0,                0,                 0,                0,                 0,                0,                 0,                0,                 0,                0,                 0,                0,                 0,                0,                 0],\n",
              "[               0,                 0,                0,                 0, 0.72543319900213, 0.688292578621575,                0,                 0,                0,                 0,                0,                 0,                0,                 0,                0,                 0,                0,                 0,                0,                 0],\n",
              "[               0,                 0,                0,                 0,                0,                 0, 0.72543319900213, 0.688292578621575,                0,                 0,                0,                 0,                0,                 0,                0,                 0,                0,                 0,                0,                 0],\n",
              "[               0,                 0,                0,                 0,                0,                 0,                0,                 0, 0.72543319900213, 0.688292578621575,                0,                 0,                0,                 0,                0,                 0,                0,                 0,                0,                 0],\n",
              "[               0,                 0,                0,                 0,                0,                 0,                0,                 0,                0,                 0, 0.72543319900213, 0.688292578621575,                0,                 0,                0,                 0,                0,                 0,                0,                 0],\n",
              "[               0,                 0,                0,                 0,                0,                 0,                0,                 0,                0,                 0,                0,                 0, 0.72543319900213, 0.688292578621575,                0,                 0,                0,                 0,                0,                 0],\n",
              "[               0,                 0,                0,                 0,                0,                 0,                0,                 0,                0,                 0,                0,                 0,                0,                 0, 0.72543319900213, 0.688292578621575,                0,                 0,                0,                 0],\n",
              "[               0,                 0,                0,                 0,                0,                 0,                0,                 0,                0,                 0,                0,                 0,                0,                 0,                0,                 0, 0.72543319900213, 0.688292578621575,                0,                 0],\n",
              "[               0,                 0,                0,                 0,                0,                 0,                0,                 0,                0,                 0,                0,                 0,                0,                 0,                0,                 0,                0,                 0, 0.72543319900213, 0.688292578621575]])"
            ],
            "text/latex": "$\\displaystyle \\left[\\begin{array}{cccccccccccccccccccc}0.72543319900213 & 0.688292578621575 & 0 & 0 & 0 & 0 & 0 & 0 & 0 & 0 & 0 & 0 & 0 & 0 & 0 & 0 & 0 & 0 & 0 & 0\\\\0 & 0 & 0.72543319900213 & 0.688292578621575 & 0 & 0 & 0 & 0 & 0 & 0 & 0 & 0 & 0 & 0 & 0 & 0 & 0 & 0 & 0 & 0\\\\0 & 0 & 0 & 0 & 0.72543319900213 & 0.688292578621575 & 0 & 0 & 0 & 0 & 0 & 0 & 0 & 0 & 0 & 0 & 0 & 0 & 0 & 0\\\\0 & 0 & 0 & 0 & 0 & 0 & 0.72543319900213 & 0.688292578621575 & 0 & 0 & 0 & 0 & 0 & 0 & 0 & 0 & 0 & 0 & 0 & 0\\\\0 & 0 & 0 & 0 & 0 & 0 & 0 & 0 & 0.72543319900213 & 0.688292578621575 & 0 & 0 & 0 & 0 & 0 & 0 & 0 & 0 & 0 & 0\\\\0 & 0 & 0 & 0 & 0 & 0 & 0 & 0 & 0 & 0 & 0.72543319900213 & 0.688292578621575 & 0 & 0 & 0 & 0 & 0 & 0 & 0 & 0\\\\0 & 0 & 0 & 0 & 0 & 0 & 0 & 0 & 0 & 0 & 0 & 0 & 0.72543319900213 & 0.688292578621575 & 0 & 0 & 0 & 0 & 0 & 0\\\\0 & 0 & 0 & 0 & 0 & 0 & 0 & 0 & 0 & 0 & 0 & 0 & 0 & 0 & 0.72543319900213 & 0.688292578621575 & 0 & 0 & 0 & 0\\\\0 & 0 & 0 & 0 & 0 & 0 & 0 & 0 & 0 & 0 & 0 & 0 & 0 & 0 & 0 & 0 & 0.72543319900213 & 0.688292578621575 & 0 & 0\\\\0 & 0 & 0 & 0 & 0 & 0 & 0 & 0 & 0 & 0 & 0 & 0 & 0 & 0 & 0 & 0 & 0 & 0 & 0.72543319900213 & 0.688292578621575\\end{array}\\right]$"
          },
          "metadata": {},
          "execution_count": 100
        }
      ]
    },
    {
      "cell_type": "markdown",
      "source": [
        "Matriz A:\n",
        "$$\\frac{\\partial }{\\partial cos\\left(\\theta \\right)}\\left(xcos\\left(\\theta \\right)+ysen\\left(\\theta \\right)-p\\right);\\frac{\\partial }{\\partial sen\\left(\\theta \\right) }\\left(xcos\\left(\\theta \\right)+ysen\\left(\\theta \\right)-p\\right) $$\n",
        "$$= $$\n",
        " $$x ; y$$\n",
        "\n",
        " $$\\frac{\\partial }{\\partial p}\\left(xcos\\left(\\theta \\right)+ysen\\left(\\theta \\right)-p\\right) = -1 $$"
      ],
      "metadata": {
        "id": "wmenUtIPyb_e"
      }
    },
    {
      "cell_type": "code",
      "source": [
        "# Matrix A com as derivadas em Theta e p\n",
        "A = sp.zeros(10, 3)\n",
        "for i in range(10):\n",
        "    A[i, 0] = x[i]\n",
        "    A[i, 1] = y[i]\n",
        "    A[i, 2] = -1 #*X0[2] #-1 08 -rho, duvida.\n",
        "\n",
        "A"
      ],
      "metadata": {
        "colab": {
          "base_uri": "https://localhost:8080/",
          "height": 220
        },
        "id": "Ia6qka8VwhA8",
        "outputId": "b799bc14-3229-4d57-9f7c-22ef90db315e"
      },
      "execution_count": null,
      "outputs": [
        {
          "output_type": "execute_result",
          "data": {
            "text/plain": [
              "Matrix([\n",
              "[ 0.9763,  5.8345, -1],\n",
              "[ 4.3038,  0.5779, -1],\n",
              "[ 2.0553,  1.3609, -1],\n",
              "[ 0.8977,  8.5119, -1],\n",
              "[-1.5269, -8.5793, -1],\n",
              "[ 2.9179, -8.2574, -1],\n",
              "[-1.2483, -9.5956, -1],\n",
              "[ 7.8355,  6.6524, -1],\n",
              "[ 9.2733,  5.5631, -1],\n",
              "[-2.3312,  7.4002, -1]])"
            ],
            "text/latex": "$\\displaystyle \\left[\\begin{matrix}0.9763 & 5.8345 & -1\\\\4.3038 & 0.5779 & -1\\\\2.0553 & 1.3609 & -1\\\\0.8977 & 8.5119 & -1\\\\-1.5269 & -8.5793 & -1\\\\2.9179 & -8.2574 & -1\\\\-1.2483 & -9.5956 & -1\\\\7.8355 & 6.6524 & -1\\\\9.2733 & 5.5631 & -1\\\\-2.3312 & 7.4002 & -1\\end{matrix}\\right]$"
          },
          "metadata": {},
          "execution_count": 101
        }
      ]
    },
    {
      "cell_type": "markdown",
      "source": [
        "Vetor de correções:\n",
        "$$ M = BP^{-1}B^T$$\n",
        "$$X = - (A^T M^{-1} A)^{-1} A^T M^{-1} W$$\n",
        "\n"
      ],
      "metadata": {
        "id": "a4w_lB5gzTes"
      }
    },
    {
      "cell_type": "code",
      "source": [
        "W"
      ],
      "metadata": {
        "colab": {
          "base_uri": "https://localhost:8080/",
          "height": 220
        },
        "id": "FaUAKGHaIniT",
        "outputId": "207f3f39-d94d-444e-9e50-51b7a09352f5"
      },
      "execution_count": null,
      "outputs": [
        {
          "output_type": "execute_result",
          "data": {
            "text/plain": [
              "Matrix([\n",
              "[0.143301791724432],\n",
              "[-1.06089800737815],\n",
              "[-2.15310146627375],\n",
              "[ 1.92911729228427],\n",
              "[-11.5935141617534],\n",
              "[ -8.1475472977704],\n",
              "[-12.0909202201645],\n",
              "[ 5.68214769037442],\n",
              "[ 5.97541843800721],\n",
              "[-1.17840882362731]])"
            ],
            "text/latex": "$\\displaystyle \\left[\\begin{matrix}0.143301791724432\\\\-1.06089800737815\\\\-2.15310146627375\\\\1.92911729228427\\\\-11.5935141617534\\\\-8.1475472977704\\\\-12.0909202201645\\\\5.68214769037442\\\\5.97541843800721\\\\-1.17840882362731\\end{matrix}\\right]$"
          },
          "metadata": {},
          "execution_count": 102
        }
      ]
    },
    {
      "cell_type": "markdown",
      "source": [
        "Variancia de X e Y:\n",
        "$$ [𝜙_{x1},𝜙_{y1}...𝜙_{xn},𝜙_{yn}]$$"
      ],
      "metadata": {
        "id": "8Z1AB4J8qjb5"
      }
    },
    {
      "cell_type": "code",
      "source": [
        "varianciasxy = np.array([1.4786, 1.4786, 1.2992, 1.2992, 0.9615, 0.9615, 1.2805, 1.2805, 0.6183, 0.6183, 1.1399, 1.1399, 0.6434, 0.6434, 1.4447, 1.4447, 1.0218, 1.0218, 0.9147, 0.9147])"
      ],
      "metadata": {
        "id": "fMe-Trfuoa4G"
      },
      "execution_count": null,
      "outputs": []
    },
    {
      "cell_type": "code",
      "source": [
        "# Matriz peso\n",
        "P1 = np.diag(varianciasxy)\n",
        "P = sp.Matrix(P1)\n",
        "P"
      ],
      "metadata": {
        "colab": {
          "base_uri": "https://localhost:8080/",
          "height": 444
        },
        "id": "5fCNelx9iEbj",
        "outputId": "4fde9eeb-c4cd-4269-e6a2-0cd2a41c38e5"
      },
      "execution_count": null,
      "outputs": [
        {
          "output_type": "execute_result",
          "data": {
            "text/plain": [
              "Matrix([\n",
              "[1.4786,    0.0,    0.0,    0.0,    0.0,    0.0,    0.0,    0.0,    0.0,    0.0,    0.0,    0.0,    0.0,    0.0,    0.0,    0.0,    0.0,    0.0,    0.0,    0.0],\n",
              "[   0.0, 1.4786,    0.0,    0.0,    0.0,    0.0,    0.0,    0.0,    0.0,    0.0,    0.0,    0.0,    0.0,    0.0,    0.0,    0.0,    0.0,    0.0,    0.0,    0.0],\n",
              "[   0.0,    0.0, 1.2992,    0.0,    0.0,    0.0,    0.0,    0.0,    0.0,    0.0,    0.0,    0.0,    0.0,    0.0,    0.0,    0.0,    0.0,    0.0,    0.0,    0.0],\n",
              "[   0.0,    0.0,    0.0, 1.2992,    0.0,    0.0,    0.0,    0.0,    0.0,    0.0,    0.0,    0.0,    0.0,    0.0,    0.0,    0.0,    0.0,    0.0,    0.0,    0.0],\n",
              "[   0.0,    0.0,    0.0,    0.0, 0.9615,    0.0,    0.0,    0.0,    0.0,    0.0,    0.0,    0.0,    0.0,    0.0,    0.0,    0.0,    0.0,    0.0,    0.0,    0.0],\n",
              "[   0.0,    0.0,    0.0,    0.0,    0.0, 0.9615,    0.0,    0.0,    0.0,    0.0,    0.0,    0.0,    0.0,    0.0,    0.0,    0.0,    0.0,    0.0,    0.0,    0.0],\n",
              "[   0.0,    0.0,    0.0,    0.0,    0.0,    0.0, 1.2805,    0.0,    0.0,    0.0,    0.0,    0.0,    0.0,    0.0,    0.0,    0.0,    0.0,    0.0,    0.0,    0.0],\n",
              "[   0.0,    0.0,    0.0,    0.0,    0.0,    0.0,    0.0, 1.2805,    0.0,    0.0,    0.0,    0.0,    0.0,    0.0,    0.0,    0.0,    0.0,    0.0,    0.0,    0.0],\n",
              "[   0.0,    0.0,    0.0,    0.0,    0.0,    0.0,    0.0,    0.0, 0.6183,    0.0,    0.0,    0.0,    0.0,    0.0,    0.0,    0.0,    0.0,    0.0,    0.0,    0.0],\n",
              "[   0.0,    0.0,    0.0,    0.0,    0.0,    0.0,    0.0,    0.0,    0.0, 0.6183,    0.0,    0.0,    0.0,    0.0,    0.0,    0.0,    0.0,    0.0,    0.0,    0.0],\n",
              "[   0.0,    0.0,    0.0,    0.0,    0.0,    0.0,    0.0,    0.0,    0.0,    0.0, 1.1399,    0.0,    0.0,    0.0,    0.0,    0.0,    0.0,    0.0,    0.0,    0.0],\n",
              "[   0.0,    0.0,    0.0,    0.0,    0.0,    0.0,    0.0,    0.0,    0.0,    0.0,    0.0, 1.1399,    0.0,    0.0,    0.0,    0.0,    0.0,    0.0,    0.0,    0.0],\n",
              "[   0.0,    0.0,    0.0,    0.0,    0.0,    0.0,    0.0,    0.0,    0.0,    0.0,    0.0,    0.0, 0.6434,    0.0,    0.0,    0.0,    0.0,    0.0,    0.0,    0.0],\n",
              "[   0.0,    0.0,    0.0,    0.0,    0.0,    0.0,    0.0,    0.0,    0.0,    0.0,    0.0,    0.0,    0.0, 0.6434,    0.0,    0.0,    0.0,    0.0,    0.0,    0.0],\n",
              "[   0.0,    0.0,    0.0,    0.0,    0.0,    0.0,    0.0,    0.0,    0.0,    0.0,    0.0,    0.0,    0.0,    0.0, 1.4447,    0.0,    0.0,    0.0,    0.0,    0.0],\n",
              "[   0.0,    0.0,    0.0,    0.0,    0.0,    0.0,    0.0,    0.0,    0.0,    0.0,    0.0,    0.0,    0.0,    0.0,    0.0, 1.4447,    0.0,    0.0,    0.0,    0.0],\n",
              "[   0.0,    0.0,    0.0,    0.0,    0.0,    0.0,    0.0,    0.0,    0.0,    0.0,    0.0,    0.0,    0.0,    0.0,    0.0,    0.0, 1.0218,    0.0,    0.0,    0.0],\n",
              "[   0.0,    0.0,    0.0,    0.0,    0.0,    0.0,    0.0,    0.0,    0.0,    0.0,    0.0,    0.0,    0.0,    0.0,    0.0,    0.0,    0.0, 1.0218,    0.0,    0.0],\n",
              "[   0.0,    0.0,    0.0,    0.0,    0.0,    0.0,    0.0,    0.0,    0.0,    0.0,    0.0,    0.0,    0.0,    0.0,    0.0,    0.0,    0.0,    0.0, 0.9147,    0.0],\n",
              "[   0.0,    0.0,    0.0,    0.0,    0.0,    0.0,    0.0,    0.0,    0.0,    0.0,    0.0,    0.0,    0.0,    0.0,    0.0,    0.0,    0.0,    0.0,    0.0, 0.9147]])"
            ],
            "text/latex": "$\\displaystyle \\left[\\begin{array}{cccccccccccccccccccc}1.4786 & 0.0 & 0.0 & 0.0 & 0.0 & 0.0 & 0.0 & 0.0 & 0.0 & 0.0 & 0.0 & 0.0 & 0.0 & 0.0 & 0.0 & 0.0 & 0.0 & 0.0 & 0.0 & 0.0\\\\0.0 & 1.4786 & 0.0 & 0.0 & 0.0 & 0.0 & 0.0 & 0.0 & 0.0 & 0.0 & 0.0 & 0.0 & 0.0 & 0.0 & 0.0 & 0.0 & 0.0 & 0.0 & 0.0 & 0.0\\\\0.0 & 0.0 & 1.2992 & 0.0 & 0.0 & 0.0 & 0.0 & 0.0 & 0.0 & 0.0 & 0.0 & 0.0 & 0.0 & 0.0 & 0.0 & 0.0 & 0.0 & 0.0 & 0.0 & 0.0\\\\0.0 & 0.0 & 0.0 & 1.2992 & 0.0 & 0.0 & 0.0 & 0.0 & 0.0 & 0.0 & 0.0 & 0.0 & 0.0 & 0.0 & 0.0 & 0.0 & 0.0 & 0.0 & 0.0 & 0.0\\\\0.0 & 0.0 & 0.0 & 0.0 & 0.9615 & 0.0 & 0.0 & 0.0 & 0.0 & 0.0 & 0.0 & 0.0 & 0.0 & 0.0 & 0.0 & 0.0 & 0.0 & 0.0 & 0.0 & 0.0\\\\0.0 & 0.0 & 0.0 & 0.0 & 0.0 & 0.9615 & 0.0 & 0.0 & 0.0 & 0.0 & 0.0 & 0.0 & 0.0 & 0.0 & 0.0 & 0.0 & 0.0 & 0.0 & 0.0 & 0.0\\\\0.0 & 0.0 & 0.0 & 0.0 & 0.0 & 0.0 & 1.2805 & 0.0 & 0.0 & 0.0 & 0.0 & 0.0 & 0.0 & 0.0 & 0.0 & 0.0 & 0.0 & 0.0 & 0.0 & 0.0\\\\0.0 & 0.0 & 0.0 & 0.0 & 0.0 & 0.0 & 0.0 & 1.2805 & 0.0 & 0.0 & 0.0 & 0.0 & 0.0 & 0.0 & 0.0 & 0.0 & 0.0 & 0.0 & 0.0 & 0.0\\\\0.0 & 0.0 & 0.0 & 0.0 & 0.0 & 0.0 & 0.0 & 0.0 & 0.6183 & 0.0 & 0.0 & 0.0 & 0.0 & 0.0 & 0.0 & 0.0 & 0.0 & 0.0 & 0.0 & 0.0\\\\0.0 & 0.0 & 0.0 & 0.0 & 0.0 & 0.0 & 0.0 & 0.0 & 0.0 & 0.6183 & 0.0 & 0.0 & 0.0 & 0.0 & 0.0 & 0.0 & 0.0 & 0.0 & 0.0 & 0.0\\\\0.0 & 0.0 & 0.0 & 0.0 & 0.0 & 0.0 & 0.0 & 0.0 & 0.0 & 0.0 & 1.1399 & 0.0 & 0.0 & 0.0 & 0.0 & 0.0 & 0.0 & 0.0 & 0.0 & 0.0\\\\0.0 & 0.0 & 0.0 & 0.0 & 0.0 & 0.0 & 0.0 & 0.0 & 0.0 & 0.0 & 0.0 & 1.1399 & 0.0 & 0.0 & 0.0 & 0.0 & 0.0 & 0.0 & 0.0 & 0.0\\\\0.0 & 0.0 & 0.0 & 0.0 & 0.0 & 0.0 & 0.0 & 0.0 & 0.0 & 0.0 & 0.0 & 0.0 & 0.6434 & 0.0 & 0.0 & 0.0 & 0.0 & 0.0 & 0.0 & 0.0\\\\0.0 & 0.0 & 0.0 & 0.0 & 0.0 & 0.0 & 0.0 & 0.0 & 0.0 & 0.0 & 0.0 & 0.0 & 0.0 & 0.6434 & 0.0 & 0.0 & 0.0 & 0.0 & 0.0 & 0.0\\\\0.0 & 0.0 & 0.0 & 0.0 & 0.0 & 0.0 & 0.0 & 0.0 & 0.0 & 0.0 & 0.0 & 0.0 & 0.0 & 0.0 & 1.4447 & 0.0 & 0.0 & 0.0 & 0.0 & 0.0\\\\0.0 & 0.0 & 0.0 & 0.0 & 0.0 & 0.0 & 0.0 & 0.0 & 0.0 & 0.0 & 0.0 & 0.0 & 0.0 & 0.0 & 0.0 & 1.4447 & 0.0 & 0.0 & 0.0 & 0.0\\\\0.0 & 0.0 & 0.0 & 0.0 & 0.0 & 0.0 & 0.0 & 0.0 & 0.0 & 0.0 & 0.0 & 0.0 & 0.0 & 0.0 & 0.0 & 0.0 & 1.0218 & 0.0 & 0.0 & 0.0\\\\0.0 & 0.0 & 0.0 & 0.0 & 0.0 & 0.0 & 0.0 & 0.0 & 0.0 & 0.0 & 0.0 & 0.0 & 0.0 & 0.0 & 0.0 & 0.0 & 0.0 & 1.0218 & 0.0 & 0.0\\\\0.0 & 0.0 & 0.0 & 0.0 & 0.0 & 0.0 & 0.0 & 0.0 & 0.0 & 0.0 & 0.0 & 0.0 & 0.0 & 0.0 & 0.0 & 0.0 & 0.0 & 0.0 & 0.9147 & 0.0\\\\0.0 & 0.0 & 0.0 & 0.0 & 0.0 & 0.0 & 0.0 & 0.0 & 0.0 & 0.0 & 0.0 & 0.0 & 0.0 & 0.0 & 0.0 & 0.0 & 0.0 & 0.0 & 0.0 & 0.9147\\end{array}\\right]$"
          },
          "metadata": {},
          "execution_count": 105
        }
      ]
    },
    {
      "cell_type": "code",
      "source": [
        "M = B @ P @ B.T\n",
        "M"
      ],
      "metadata": {
        "id": "BcK6h3TSFkHE",
        "colab": {
          "base_uri": "https://localhost:8080/",
          "height": 220
        },
        "outputId": "25c2313e-a69d-4df2-9a65-663763c6f81e"
      },
      "execution_count": null,
      "outputs": [
        {
          "output_type": "execute_result",
          "data": {
            "text/plain": [
              "Matrix([\n",
              "[1.4786,      0,      0,      0,      0,      0,      0,      0,      0,      0],\n",
              "[     0, 1.2992,      0,      0,      0,      0,      0,      0,      0,      0],\n",
              "[     0,      0, 0.9615,      0,      0,      0,      0,      0,      0,      0],\n",
              "[     0,      0,      0, 1.2805,      0,      0,      0,      0,      0,      0],\n",
              "[     0,      0,      0,      0, 0.6183,      0,      0,      0,      0,      0],\n",
              "[     0,      0,      0,      0,      0, 1.1399,      0,      0,      0,      0],\n",
              "[     0,      0,      0,      0,      0,      0, 0.6434,      0,      0,      0],\n",
              "[     0,      0,      0,      0,      0,      0,      0, 1.4447,      0,      0],\n",
              "[     0,      0,      0,      0,      0,      0,      0,      0, 1.0218,      0],\n",
              "[     0,      0,      0,      0,      0,      0,      0,      0,      0, 0.9147]])"
            ],
            "text/latex": "$\\displaystyle \\left[\\begin{matrix}1.4786 & 0 & 0 & 0 & 0 & 0 & 0 & 0 & 0 & 0\\\\0 & 1.2992 & 0 & 0 & 0 & 0 & 0 & 0 & 0 & 0\\\\0 & 0 & 0.9615 & 0 & 0 & 0 & 0 & 0 & 0 & 0\\\\0 & 0 & 0 & 1.2805 & 0 & 0 & 0 & 0 & 0 & 0\\\\0 & 0 & 0 & 0 & 0.6183 & 0 & 0 & 0 & 0 & 0\\\\0 & 0 & 0 & 0 & 0 & 1.1399 & 0 & 0 & 0 & 0\\\\0 & 0 & 0 & 0 & 0 & 0 & 0.6434 & 0 & 0 & 0\\\\0 & 0 & 0 & 0 & 0 & 0 & 0 & 1.4447 & 0 & 0\\\\0 & 0 & 0 & 0 & 0 & 0 & 0 & 0 & 1.0218 & 0\\\\0 & 0 & 0 & 0 & 0 & 0 & 0 & 0 & 0 & 0.9147\\end{matrix}\\right]$"
          },
          "metadata": {},
          "execution_count": 107
        }
      ]
    },
    {
      "cell_type": "code",
      "source": [
        "X = - (A.T @ M.inv() @ A).inv() @ A.T @ M.inv() @ W\n",
        "X"
      ],
      "metadata": {
        "id": "wz8WOsIF0i3L",
        "colab": {
          "base_uri": "https://localhost:8080/",
          "height": 78
        },
        "outputId": "5324eba0-952e-4549-9e34-0e0fcbd8d943"
      },
      "execution_count": null,
      "outputs": [
        {
          "output_type": "execute_result",
          "data": {
            "text/plain": [
              "Matrix([\n",
              "[ -0.72543319900213],\n",
              "[-0.688292578621575],\n",
              "[ -4.58078169042892]])"
            ],
            "text/latex": "$\\displaystyle \\left[\\begin{matrix}-0.72543319900213\\\\-0.688292578621575\\\\-4.58078169042892\\end{matrix}\\right]$"
          },
          "metadata": {},
          "execution_count": 123
        }
      ]
    },
    {
      "cell_type": "markdown",
      "source": [
        "*Parâmetros ajustados*:\n",
        "$$X_a = X_0 + X $$"
      ],
      "metadata": {
        "id": "S2Rak9kl1BWc"
      }
    },
    {
      "cell_type": "code",
      "source": [
        "Xa = X0 + X\n",
        "Xa"
      ],
      "metadata": {
        "id": "YDX4QLeT0wyV",
        "colab": {
          "base_uri": "https://localhost:8080/",
          "height": 78
        },
        "outputId": "26d99fba-bfc4-4442-a037-ad980831a805"
      },
      "execution_count": null,
      "outputs": [
        {
          "output_type": "execute_result",
          "data": {
            "text/plain": [
              "Matrix([\n",
              "[  0.0336995600120763],\n",
              "[  0.0708401803926314],\n",
              "[8.88178419700125e-16]])"
            ],
            "text/latex": "$\\displaystyle \\left[\\begin{matrix}0.0336995600120763\\\\0.0708401803926314\\\\8.88178419700125 \\cdot 10^{-16}\\end{matrix}\\right]$"
          },
          "metadata": {},
          "execution_count": 109
        }
      ]
    },
    {
      "cell_type": "markdown",
      "source": [
        "### Resíduos\n",
        "Vetor lagrangiano:\n",
        "$$ k = -M^{-1}(AX + W) $$\n",
        "\n"
      ],
      "metadata": {
        "id": "ynkfMi2plnyi"
      }
    },
    {
      "cell_type": "code",
      "source": [
        "K = -M.inv() @ ((A @ X)+ W)\n",
        "K"
      ],
      "metadata": {
        "id": "xSVbzufI002k",
        "colab": {
          "base_uri": "https://localhost:8080/",
          "height": 220
        },
        "outputId": "93d63beb-7897-414a-e639-6341d98d2684"
      },
      "execution_count": null,
      "outputs": [
        {
          "output_type": "execute_result",
          "data": {
            "text/plain": [
              "Matrix([\n",
              "[6.00688772960994e-16],\n",
              "[1.02545230107003e-15],\n",
              "[1.38561375928257e-15],\n",
              "[6.93618445685377e-16],\n",
              "[                   0],\n",
              "[                   0],\n",
              "[2.76089033167586e-15],\n",
              "[1.84435194787871e-15],\n",
              "[ 2.6076876679393e-15],\n",
              "[4.85502579916981e-16]])"
            ],
            "text/latex": "$\\displaystyle \\left[\\begin{matrix}6.00688772960994 \\cdot 10^{-16}\\\\1.02545230107003 \\cdot 10^{-15}\\\\1.38561375928257 \\cdot 10^{-15}\\\\6.93618445685377 \\cdot 10^{-16}\\\\0\\\\0\\\\2.76089033167586 \\cdot 10^{-15}\\\\1.84435194787871 \\cdot 10^{-15}\\\\2.6076876679393 \\cdot 10^{-15}\\\\4.85502579916981 \\cdot 10^{-16}\\end{matrix}\\right]$"
          },
          "metadata": {},
          "execution_count": 110
        }
      ]
    },
    {
      "cell_type": "markdown",
      "source": [
        "Resíduo:\n",
        "$$V = P^{-1}B^TK$$"
      ],
      "metadata": {
        "id": "Cvux5BvM0RQ-"
      }
    },
    {
      "cell_type": "code",
      "source": [
        "V = P.inv() @ B.T @ K\n",
        "V"
      ],
      "metadata": {
        "id": "5-qcqEc307aa",
        "colab": {
          "base_uri": "https://localhost:8080/",
          "height": 424
        },
        "outputId": "ceff483c-bce3-482a-ec73-316a37beca8f"
      },
      "execution_count": null,
      "outputs": [
        {
          "output_type": "execute_result",
          "data": {
            "text/plain": [
              "Matrix([\n",
              "[ 2.9471092802229e-16],\n",
              "[2.79622362025126e-16],\n",
              "[5.72580929178979e-16],\n",
              "[5.43266016438517e-16],\n",
              "[1.04541884761073e-15],\n",
              "[9.91895649870132e-16],\n",
              "[3.92951072190885e-16],\n",
              "[3.72832821991626e-16],\n",
              "[                   0],\n",
              "[                   0],\n",
              "[                   0],\n",
              "[                   0],\n",
              "[3.11290255735417e-15],\n",
              "[2.95352863798656e-15],\n",
              "[9.26112088070509e-16],\n",
              "[8.78697139953737e-16],\n",
              "[1.85134390971972e-15],\n",
              "[ 1.7565590812347e-15],\n",
              "[3.85043937545603e-16],\n",
              "[3.65330515642818e-16]])"
            ],
            "text/latex": "$\\displaystyle \\left[\\begin{matrix}2.9471092802229 \\cdot 10^{-16}\\\\2.79622362025126 \\cdot 10^{-16}\\\\5.72580929178979 \\cdot 10^{-16}\\\\5.43266016438517 \\cdot 10^{-16}\\\\1.04541884761073 \\cdot 10^{-15}\\\\9.91895649870132 \\cdot 10^{-16}\\\\3.92951072190885 \\cdot 10^{-16}\\\\3.72832821991626 \\cdot 10^{-16}\\\\0\\\\0\\\\0\\\\0\\\\3.11290255735417 \\cdot 10^{-15}\\\\2.95352863798656 \\cdot 10^{-15}\\\\9.26112088070509 \\cdot 10^{-16}\\\\8.78697139953737 \\cdot 10^{-16}\\\\1.85134390971972 \\cdot 10^{-15}\\\\1.7565590812347 \\cdot 10^{-15}\\\\3.85043937545603 \\cdot 10^{-16}\\\\3.65330515642818 \\cdot 10^{-16}\\end{matrix}\\right]$"
          },
          "metadata": {},
          "execution_count": 111
        }
      ]
    },
    {
      "cell_type": "markdown",
      "source": [
        "Valores observados ajustados:\n",
        "$$L_a = L_b + V$$\n"
      ],
      "metadata": {
        "id": "h-xIupp3rjsm"
      }
    },
    {
      "cell_type": "code",
      "source": [
        "La = Lb + V\n",
        "(La - V) - Lb"
      ],
      "metadata": {
        "colab": {
          "base_uri": "https://localhost:8080/",
          "height": 424
        },
        "id": "PitnOfEirjWm",
        "outputId": "9c0875f9-3540-40fa-8991-44e81d5f188a"
      },
      "execution_count": null,
      "outputs": [
        {
          "output_type": "execute_result",
          "data": {
            "text/plain": [
              "Matrix([\n",
              "[0],\n",
              "[0],\n",
              "[0],\n",
              "[0],\n",
              "[0],\n",
              "[0],\n",
              "[0],\n",
              "[0],\n",
              "[0],\n",
              "[0],\n",
              "[0],\n",
              "[0],\n",
              "[0],\n",
              "[0],\n",
              "[0],\n",
              "[0],\n",
              "[0],\n",
              "[0],\n",
              "[0],\n",
              "[0]])"
            ],
            "text/latex": "$\\displaystyle \\left[\\begin{matrix}0\\\\0\\\\0\\\\0\\\\0\\\\0\\\\0\\\\0\\\\0\\\\0\\\\0\\\\0\\\\0\\\\0\\\\0\\\\0\\\\0\\\\0\\\\0\\\\0\\end{matrix}\\right]$"
          },
          "metadata": {},
          "execution_count": 112
        }
      ]
    },
    {
      "cell_type": "code",
      "source": [
        "La"
      ],
      "metadata": {
        "colab": {
          "base_uri": "https://localhost:8080/",
          "height": 424
        },
        "id": "mdIX-jvLt3eV",
        "outputId": "d447a2e0-33d9-42be-cb0c-0bced7dd880f"
      },
      "execution_count": null,
      "outputs": [
        {
          "output_type": "execute_result",
          "data": {
            "text/plain": [
              "Matrix([\n",
              "[           0.9763],\n",
              "[           5.8345],\n",
              "[           4.3038],\n",
              "[0.577900000000001],\n",
              "[           2.0553],\n",
              "[           1.3609],\n",
              "[           0.8977],\n",
              "[           8.5119],\n",
              "[          -1.5269],\n",
              "[          -8.5793],\n",
              "[           2.9179],\n",
              "[          -8.2574],\n",
              "[          -1.2483],\n",
              "[          -9.5956],\n",
              "[           7.8355],\n",
              "[           6.6524],\n",
              "[           9.2733],\n",
              "[           5.5631],\n",
              "[          -2.3312],\n",
              "[           7.4002]])"
            ],
            "text/latex": "$\\displaystyle \\left[\\begin{matrix}0.9763\\\\5.8345\\\\4.3038\\\\0.577900000000001\\\\2.0553\\\\1.3609\\\\0.8977\\\\8.5119\\\\-1.5269\\\\-8.5793\\\\2.9179\\\\-8.2574\\\\-1.2483\\\\-9.5956\\\\7.8355\\\\6.6524\\\\9.2733\\\\5.5631\\\\-2.3312\\\\7.4002\\end{matrix}\\right]$"
          },
          "metadata": {},
          "execution_count": 113
        }
      ]
    },
    {
      "cell_type": "markdown",
      "source": [
        "## Parametros Estimados"
      ],
      "metadata": {
        "id": "4e1nNn0imhXi"
      }
    },
    {
      "cell_type": "markdown",
      "source": [
        "### Parâmetros Estimados\n",
        "\n",
        "- **$\\theta_{est}$ (rad)**:\n",
        "\n"
      ],
      "metadata": {
        "id": "HBTJi8Yem6Fd"
      }
    },
    {
      "cell_type": "code",
      "source": [
        "# Resultados\n",
        "print(f\"Estimativa de Theta: {theta_estimate} rad\")"
      ],
      "metadata": {
        "id": "hz8rWGQomg6K",
        "colab": {
          "base_uri": "https://localhost:8080/"
        },
        "outputId": "e537093c-97a9-4342-b5d8-577398e886c3"
      },
      "execution_count": null,
      "outputs": [
        {
          "output_type": "stream",
          "name": "stdout",
          "text": [
            "Estimativa de Theta: 0.7591327590142061 rad\n"
          ]
        }
      ]
    },
    {
      "cell_type": "markdown",
      "source": [
        "- **$\\theta_{est}$ (graus)**:\n"
      ],
      "metadata": {
        "id": "J5YjfqI3nIQK"
      }
    },
    {
      "cell_type": "code",
      "source": [
        "print(f\"Estimativa de Theta: {theta_degrees} graus\")\n",
        "print(f\"Estimativa de Theta: {graus1[0]}° {graus1[1]}' {graus1[2]:.2f}\\\"\")"
      ],
      "metadata": {
        "id": "vcDq4WSgnHlT",
        "colab": {
          "base_uri": "https://localhost:8080/"
        },
        "outputId": "e346a53f-28c7-4a39-fbc2-ee88c35297e9"
      },
      "execution_count": null,
      "outputs": [
        {
          "output_type": "stream",
          "name": "stdout",
          "text": [
            "Estimativa de Theta: 43.495103181635805 graus\n",
            "Estimativa de Theta: 43° 29' 42.37\"\n"
          ]
        }
      ]
    },
    {
      "cell_type": "markdown",
      "source": [
        "- **$\\rho_{est}$**:\n"
      ],
      "metadata": {
        "id": "u5V-Y8xQnQ4p"
      }
    },
    {
      "cell_type": "code",
      "source": [
        "print(f\"Estimativa de p: {rho}\")"
      ],
      "metadata": {
        "id": "I75fWG4Lncq5",
        "colab": {
          "base_uri": "https://localhost:8080/"
        },
        "outputId": "313e706f-feba-4265-e6c0-de1f3a462933"
      },
      "execution_count": null,
      "outputs": [
        {
          "output_type": "stream",
          "name": "stdout",
          "text": [
            "Estimativa de p: 4.580781690428926\n"
          ]
        }
      ]
    },
    {
      "cell_type": "markdown",
      "source": [
        "- **MSE (Erro Quadrático Médio)**:\n",
        "\n",
        "$MSE = \\frac{1}{n}\\sum(\\rho_{obs}-\\rho_{est})^2$"
      ],
      "metadata": {
        "id": "onxlOrMKndXE"
      }
    },
    {
      "cell_type": "code",
      "source": [
        "a = ((rho_observado[1] - rho)**2) + ((rho_observado[2] - rho)**2) + ((rho_observado[3] - rho)**2) + ((rho_observado[4] - rho)**2) + ((rho_observado[5] - rho)**2)\n",
        "b = ((rho_observado[6] - rho)**2) + ((rho_observado[7] - rho)**2) + ((rho_observado[8] - rho)**2) + ((rho_observado[9] - rho)**2) + ((rho_observado[0] - rho)**2)\n",
        "MSE = (a+b)/10\n",
        "MSE"
      ],
      "metadata": {
        "colab": {
          "base_uri": "https://localhost:8080/"
        },
        "id": "-WXQYeey0Ucx",
        "outputId": "df39b7e4-3c57-4fbd-a1ad-e2e35c353013"
      },
      "execution_count": null,
      "outputs": [
        {
          "output_type": "execute_result",
          "data": {
            "text/plain": [
              "86.55200439168243"
            ]
          },
          "metadata": {},
          "execution_count": 117
        }
      ]
    },
    {
      "cell_type": "code",
      "source": [
        "MSE = np.mean((rho_observado - rho)**2)\n",
        "print(f\"MSE: {MSE}\")"
      ],
      "metadata": {
        "colab": {
          "base_uri": "https://localhost:8080/"
        },
        "id": "tVPS3UtntkA-",
        "outputId": "702028a8-e4d5-4455-fb42-132d8e9b623a"
      },
      "execution_count": null,
      "outputs": [
        {
          "output_type": "stream",
          "name": "stdout",
          "text": [
            "MSE: 86.55200439168244\n"
          ]
        }
      ]
    },
    {
      "cell_type": "code",
      "source": [
        "#Raiz quadrada do MSE\n",
        "RMSE = np.sqrt(MSE)\n",
        "print(f\"RMSE: {RMSE}\")"
      ],
      "metadata": {
        "colab": {
          "base_uri": "https://localhost:8080/"
        },
        "id": "jhLIl8pH6fGX",
        "outputId": "3954b834-4bbd-4df4-f682-28f72e937751"
      },
      "execution_count": null,
      "outputs": [
        {
          "output_type": "stream",
          "name": "stdout",
          "text": [
            "RMSE: 9.303332972203158\n"
          ]
        }
      ]
    },
    {
      "cell_type": "markdown",
      "source": [
        "## Resíduos Padronizados:"
      ],
      "metadata": {
        "id": "yexFEtHknwgA"
      }
    },
    {
      "cell_type": "markdown",
      "source": [
        "Qui-quadrado:\n",
        "$$ X_a^{2}= \\frac{ 𝞼_0^{2}}{𝞼^{2}}r $$\n",
        "\n",
        "$𝞼_0^{2} = \\frac{V^TPV}{r-u}$ variância da observação de\n",
        "peso unitário a priori\n",
        "\n",
        "$𝞼^{2}$ variancia (\n",
        "\n",
        "$r - u  = 20 - 3 = 17 $ variancia\n",
        "\n",
        "r = n° de equações de condição\n",
        "\n",
        "u = n° de parametros\n"
      ],
      "metadata": {
        "id": "65St3h-64WhK"
      }
    },
    {
      "cell_type": "code",
      "source": [
        "qui_quadrado_cima = (V.T @ P @ V)/(17) * len(vetor_equacao)\n",
        "qui_quadrado_cima\n"
      ],
      "metadata": {
        "id": "-q7pr0aBnzVV",
        "colab": {
          "base_uri": "https://localhost:8080/",
          "height": 38
        },
        "outputId": "f4c37a12-4ec1-42db-d7f5-bffe029c5d51"
      },
      "execution_count": null,
      "outputs": [
        {
          "output_type": "execute_result",
          "data": {
            "text/plain": [
              "Matrix([[1.44355242764049e-30]])"
            ],
            "text/latex": "$\\displaystyle \\left[\\begin{matrix}1.44355242764049 \\cdot 10^{-30}\\end{matrix}\\right]$"
          },
          "metadata": {},
          "execution_count": 145
        }
      ]
    },
    {
      "cell_type": "code",
      "source": [
        "teste = np.mean(varianciasxy)\n",
        "teste"
      ],
      "metadata": {
        "colab": {
          "base_uri": "https://localhost:8080/"
        },
        "id": "EjMTAzf_JOfF",
        "outputId": "a850c9d7-9130-4dbd-f9d3-14716b1df240"
      },
      "execution_count": null,
      "outputs": [
        {
          "output_type": "execute_result",
          "data": {
            "text/plain": [
              "1.0802599999999998"
            ]
          },
          "metadata": {},
          "execution_count": 149
        }
      ]
    },
    {
      "cell_type": "markdown",
      "source": [
        "Qui-quadrado divido pela media da variancia:"
      ],
      "metadata": {
        "id": "abgt9ZWgz-K9"
      }
    },
    {
      "cell_type": "code",
      "source": [
        "qui_quadrado_cima / teste"
      ],
      "metadata": {
        "colab": {
          "base_uri": "https://localhost:8080/",
          "height": 38
        },
        "id": "3-b2Qd5cJWI0",
        "outputId": "17516f41-3797-44c2-fced-9da7acdfe1ea"
      },
      "execution_count": null,
      "outputs": [
        {
          "output_type": "execute_result",
          "data": {
            "text/plain": [
              "Matrix([[1.33630091611324e-30]])"
            ],
            "text/latex": "$\\displaystyle \\left[\\begin{matrix}1.33630091611324 \\cdot 10^{-30}\\end{matrix}\\right]$"
          },
          "metadata": {},
          "execution_count": 151
        }
      ]
    },
    {
      "cell_type": "code",
      "source": [
        "baixo = np.sum(varianciasxy)\n",
        "baixo"
      ],
      "metadata": {
        "colab": {
          "base_uri": "https://localhost:8080/"
        },
        "id": "0kPIIOMlIl_P",
        "outputId": "a0b44e88-b737-4999-ecc7-5a22c6905ac1"
      },
      "execution_count": null,
      "outputs": [
        {
          "output_type": "execute_result",
          "data": {
            "text/plain": [
              "21.605199999999996"
            ]
          },
          "metadata": {},
          "execution_count": 147
        }
      ]
    },
    {
      "cell_type": "markdown",
      "source": [
        "Qui-quadrado divido pelo somatorio da variancia:"
      ],
      "metadata": {
        "id": "U5RxILkc0DbM"
      }
    },
    {
      "cell_type": "code",
      "source": [
        "qui = qui_quadrado_cima / baixo\n",
        "qui"
      ],
      "metadata": {
        "colab": {
          "base_uri": "https://localhost:8080/",
          "height": 38
        },
        "id": "Mo6Ab5haItgU",
        "outputId": "20691efe-da31-40af-b7c4-76dbf0a0fe30"
      },
      "execution_count": null,
      "outputs": [
        {
          "output_type": "execute_result",
          "data": {
            "text/plain": [
              "Matrix([[6.68150458056619e-32]])"
            ],
            "text/latex": "$\\displaystyle \\left[\\begin{matrix}6.68150458056619 \\cdot 10^{-32}\\end{matrix}\\right]$"
          },
          "metadata": {},
          "execution_count": 148
        }
      ]
    },
    {
      "cell_type": "markdown",
      "source": [
        "## Interpretação:"
      ],
      "metadata": {
        "id": "x6TNWqcan7ui"
      }
    },
    {
      "cell_type": "markdown",
      "source": [
        "### Resíduos Padronizados: Algum dos resíduos padronizados ultrapassou os limites de ±2?"
      ],
      "metadata": {
        "id": "Kw9RHb2un_F5"
      }
    },
    {
      "cell_type": "markdown",
      "source": [
        "Data-snooping:\n",
        "$$ S = \\frac{r_n}{σ_{r_n}} $$\n",
        "$r_n$ é resíduo predito da observação\n",
        "\n",
        "$σ_{r_n}$ é desvio padrão dos residuos\n",
        "\n",
        "$S$ é a correção normalizada\n"
      ],
      "metadata": {
        "id": "oMijyP4cFgfS"
      }
    },
    {
      "cell_type": "markdown",
      "source": [
        "Média dos Resíduos"
      ],
      "metadata": {
        "id": "8bU0UPBYzWlo"
      }
    },
    {
      "cell_type": "code",
      "source": [
        "media_residuos = np.mean(V)\n",
        "media_residuos"
      ],
      "metadata": {
        "id": "3Le6uzkVn7UK",
        "colab": {
          "base_uri": "https://localhost:8080/",
          "height": 37
        },
        "outputId": "d3ac03e6-f16d-4f14-9ec2-3717019e2c19"
      },
      "execution_count": null,
      "outputs": [
        {
          "output_type": "execute_result",
          "data": {
            "text/plain": [
              "8.36139824741805e-16"
            ],
            "text/latex": "$\\displaystyle 8.36139824741805 \\cdot 10^{-16}$"
          },
          "metadata": {},
          "execution_count": 127
        }
      ]
    },
    {
      "cell_type": "markdown",
      "source": [
        "*Desvio padrão do Resíduos*"
      ],
      "metadata": {
        "id": "hk5EEPduzbYu"
      }
    },
    {
      "cell_type": "code",
      "source": [
        "desvio_media_reiduos = math.sqrt(media_residuos)\n",
        "desvio_media_reiduos"
      ],
      "metadata": {
        "colab": {
          "base_uri": "https://localhost:8080/"
        },
        "id": "w9CvjKNdEJN9",
        "outputId": "3d7e95a2-6604-4cfc-d31c-cea7c6d65fd7"
      },
      "execution_count": null,
      "outputs": [
        {
          "output_type": "execute_result",
          "data": {
            "text/plain": [
              "2.891608245841413e-08"
            ]
          },
          "metadata": {},
          "execution_count": 136
        }
      ]
    },
    {
      "cell_type": "markdown",
      "source": [
        "*Resíduos Padronizados*"
      ],
      "metadata": {
        "id": "pNd2RHiVzhId"
      }
    },
    {
      "cell_type": "code",
      "source": [
        "residuos_padronizados = V / desvio_media_reiduos\n",
        "residuos_padronizados"
      ],
      "metadata": {
        "colab": {
          "base_uri": "https://localhost:8080/",
          "height": 424
        },
        "id": "au1MJjgUEnzd",
        "outputId": "27c2ebfe-32b4-4781-8f9c-13a58a6b0653"
      },
      "execution_count": null,
      "outputs": [
        {
          "output_type": "execute_result",
          "data": {
            "text/plain": [
              "Matrix([\n",
              "[ 1.0191938290608e-8],\n",
              "[9.67013295896038e-9],\n",
              "[1.98014696493704e-8],\n",
              "[1.87876769690299e-8],\n",
              "[3.61535435899455e-8],\n",
              "[3.43025598746522e-8],\n",
              "[ 1.3589360618127e-8],\n",
              "[1.28936145664897e-8],\n",
              "[                  0],\n",
              "[                  0],\n",
              "[                  0],\n",
              "[                  0],\n",
              "[1.07652983831092e-7],\n",
              "[1.02141382472339e-7],\n",
              "[3.20275780580721e-8],\n",
              "[3.03878349087378e-8],\n",
              "[6.40247140110436e-8],\n",
              "[ 6.0746786282717e-8],\n",
              "[1.33159095150374e-8],\n",
              "[1.26341635720614e-8]])"
            ],
            "text/latex": "$\\displaystyle \\left[\\begin{matrix}1.0191938290608 \\cdot 10^{-8}\\\\9.67013295896038 \\cdot 10^{-9}\\\\1.98014696493704 \\cdot 10^{-8}\\\\1.87876769690299 \\cdot 10^{-8}\\\\3.61535435899455 \\cdot 10^{-8}\\\\3.43025598746522 \\cdot 10^{-8}\\\\1.3589360618127 \\cdot 10^{-8}\\\\1.28936145664897 \\cdot 10^{-8}\\\\0\\\\0\\\\0\\\\0\\\\1.07652983831092 \\cdot 10^{-7}\\\\1.02141382472339 \\cdot 10^{-7}\\\\3.20275780580721 \\cdot 10^{-8}\\\\3.03878349087378 \\cdot 10^{-8}\\\\6.40247140110436 \\cdot 10^{-8}\\\\6.0746786282717 \\cdot 10^{-8}\\\\1.33159095150374 \\cdot 10^{-8}\\\\1.26341635720614 \\cdot 10^{-8}\\end{matrix}\\right]$"
          },
          "metadata": {},
          "execution_count": 137
        }
      ]
    },
    {
      "cell_type": "markdown",
      "source": [
        "### Existe utliers presentes nos dados fornecidos?\n"
      ],
      "metadata": {
        "id": "PBeGk3mrogoy"
      }
    },
    {
      "cell_type": "markdown",
      "source": [
        "Não apresentaram outliers."
      ],
      "metadata": {
        "id": "jmdOdeNLKaG9"
      }
    },
    {
      "cell_type": "markdown",
      "source": [
        "## Conclusão:"
      ],
      "metadata": {
        "id": "F0f_adwZo1Se"
      }
    },
    {
      "cell_type": "markdown",
      "source": [
        "**Resíduos Padronizados**"
      ],
      "metadata": {
        "id": "FQQ_v8dApZAC"
      }
    },
    {
      "cell_type": "markdown",
      "source": [
        "São encontrado valores desprezíveis"
      ],
      "metadata": {
        "id": "hGVUCknRplJy"
      }
    },
    {
      "cell_type": "markdown",
      "source": [
        "**Outliers**:"
      ],
      "metadata": {
        "id": "c7-qM-I7pSyi"
      }
    },
    {
      "cell_type": "markdown",
      "source": [
        "Não apresentaram outliers."
      ],
      "metadata": {
        "id": "OVdUoXgmphwB"
      }
    }
  ]
}